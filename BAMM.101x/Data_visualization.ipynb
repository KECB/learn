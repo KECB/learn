{
 "cells": [
  {
   "cell_type": "markdown",
   "metadata": {},
   "source": [
    "<h1>Data setup</h1>\n",
    "<h2>Use our function to read the data file</h2>"
   ]
  },
  {
   "cell_type": "code",
   "execution_count": 3,
   "metadata": {
    "collapsed": true
   },
   "outputs": [],
   "source": [
    "def read_311_data(datafile):\n",
    "    import pandas as pd\n",
    "    import numpy as np\n",
    "    \n",
    "    #Add the fix_zip function\n",
    "    def fix_zip(input_zip):\n",
    "        try:\n",
    "            input_zip = int(float(input_zip))\n",
    "        except:\n",
    "            try:\n",
    "                input_zip = int(input_zip.split('-')[0])\n",
    "            except:\n",
    "                return np.NaN\n",
    "        if input_zip < 10000 or input_zip > 19999:\n",
    "            return np.NaN\n",
    "        return str(input_zip)\n",
    "    \n",
    "    #Read the file\n",
    "    df = pd.read_csv(datafile,index_col='Unique Key')\n",
    "    \n",
    "    #fix the zip\n",
    "    df['Incident Zip'] = df['Incident Zip'].apply(fix_zip)\n",
    "    \n",
    "    #drop all rows that have any nans in them (note the easier syntax!)\n",
    "    \n",
    "    df = df.dropna(how='any')\n",
    "    \n",
    "    #get rid of unspecified boroughs\n",
    "    df = df[df['Borough'] != 'Unspecified']\n",
    "    \n",
    "    #Convert times to datetime and create a processing time column\n",
    "    \n",
    "    import datetime\n",
    "    df['Created Date'] = df['Created Date'].apply(lambda x:datetime.datetime.strptime(x,'%m/%d/%y %H:%M'))\n",
    "    df['Closed Date'] = df['Closed Date'].apply(lambda x:datetime.datetime.strptime(x,'%m/%d/%y %H:%M'))\n",
    "    df['processing_time'] =  df['Closed Date'] - df['Created Date']\n",
    "    \n",
    "    #Finally, get rid of negative processing times and return the final data frame\n",
    "    \n",
    "    df = df[df['processing_time']>=datetime.timedelta(0,0,0)]\n",
    "    \n",
    "    return df\n",
    "    "
   ]
  },
  {
   "cell_type": "code",
   "execution_count": 4,
   "metadata": {
    "collapsed": false
   },
   "outputs": [
    {
     "name": "stderr",
     "output_type": "stream",
     "text": [
      "/Users/Beck/anaconda/envs/tflearn/lib/python3.5/site-packages/IPython/core/interactiveshell.py:2821: DtypeWarning: Columns (4) have mixed types. Specify dtype option on import or set low_memory=False.\n",
      "  if self.run_code(code, result):\n"
     ]
    }
   ],
   "source": [
    "datafile = \"nyc_311_data_subset-2.csv\"\n",
    "data = read_311_data(datafile)"
   ]
  },
  {
   "cell_type": "markdown",
   "metadata": {},
   "source": [
    "<h1>Plotting data on google maps</h1>\n",
    "<h2>gmplot library</h2>\n",
    "https://github.com/vgm64/gmplot"
   ]
  },
  {
   "cell_type": "code",
   "execution_count": 138,
   "metadata": {
    "collapsed": false
   },
   "outputs": [
    {
     "name": "stdout",
     "output_type": "stream",
     "text": [
      "Requirement already up-to-date: gmplot in /Users/hardeepjohar/anaconda/lib/python3.5/site-packages\n",
      "Requirement already up-to-date: requests in /Users/hardeepjohar/anaconda/lib/python3.5/site-packages (from gmplot)\n",
      "Requirement already up-to-date: chardet<3.1.0,>=3.0.2 in /Users/hardeepjohar/anaconda/lib/python3.5/site-packages (from requests->gmplot)\n",
      "Requirement already up-to-date: idna<2.6,>=2.5 in /Users/hardeepjohar/anaconda/lib/python3.5/site-packages (from requests->gmplot)\n",
      "Requirement already up-to-date: certifi>=2017.4.17 in /Users/hardeepjohar/anaconda/lib/python3.5/site-packages (from requests->gmplot)\n",
      "Requirement already up-to-date: urllib3<1.22,>=1.21.1 in /Users/hardeepjohar/anaconda/lib/python3.5/site-packages (from requests->gmplot)\n"
     ]
    }
   ],
   "source": [
    "!pip install gmplot --upgrade"
   ]
  },
  {
   "cell_type": "markdown",
   "metadata": {},
   "source": [
    "<h3>Our data dataframe contains latitudes and longitudes for each complaint.</h3>\n",
    "<h3>We can draw a heatmap that will help us see the relative concentration of complaints using lats and lons</h3>\n",
    "\n"
   ]
  },
  {
   "cell_type": "markdown",
   "metadata": {},
   "source": [
    "<h3>Set up the map</h3>\n",
    "<h4>GoogleMapPlotter constructor</h4>\n",
    "<ul>\n",
    "<li>GoogleMapPlotter(center_lat, center_lng, zoom)\n",
    "<li>from_geocode(location_string,zoom)\n"
   ]
  },
  {
   "cell_type": "code",
   "execution_count": 6,
   "metadata": {
    "collapsed": false
   },
   "outputs": [],
   "source": [
    "\n",
    "import gmplot\n",
    "#gmap = gmplot.GoogleMapPlotter(40.7128, -74.0059, 8)\n",
    "\n",
    "\n",
    "gmap = gmplot.GoogleMapPlotter.from_geocode(\"New York\",10)\n"
   ]
  },
  {
   "cell_type": "markdown",
   "metadata": {},
   "source": [
    "<h3>Then generate the heatmap passing the two data series (latitude and longitude) to the function</h3>"
   ]
  },
  {
   "cell_type": "code",
   "execution_count": 7,
   "metadata": {
    "collapsed": true
   },
   "outputs": [],
   "source": [
    "#Then generate a heatmap using the latitudes and longitudes\n",
    "gmap.heatmap(data['Latitude'], data['Longitude'])"
   ]
  },
  {
   "cell_type": "markdown",
   "metadata": {},
   "source": [
    "<h3>Save the heatmap to an html file</h3>\n",
    "<h4>The html file can be viewed, printed, or included in another html page</h4>"
   ]
  },
  {
   "cell_type": "code",
   "execution_count": 8,
   "metadata": {
    "collapsed": true
   },
   "outputs": [],
   "source": [
    "gmap.draw('incidents3.html')"
   ]
  },
  {
   "cell_type": "markdown",
   "metadata": {},
   "source": [
    "<h1>Let's do some grouping operations</h1>"
   ]
  },
  {
   "cell_type": "code",
   "execution_count": null,
   "metadata": {
    "collapsed": true
   },
   "outputs": [],
   "source": []
  },
  {
   "cell_type": "markdown",
   "metadata": {},
   "source": [
    "<h2>Incidents by Borough</h2>"
   ]
  },
  {
   "cell_type": "code",
   "execution_count": 9,
   "metadata": {
    "collapsed": true
   },
   "outputs": [],
   "source": [
    "%matplotlib inline"
   ]
  },
  {
   "cell_type": "markdown",
   "metadata": {},
   "source": [
    "<h2>Group data by borough and plot a bar chart of the incident count</h2>"
   ]
  },
  {
   "cell_type": "code",
   "execution_count": 10,
   "metadata": {
    "collapsed": false
   },
   "outputs": [
    {
     "data": {
      "text/plain": [
       "<matplotlib.axes._subplots.AxesSubplot at 0x1213bba58>"
      ]
     },
     "execution_count": 10,
     "metadata": {},
     "output_type": "execute_result"
    },
    {
     "data": {
      "image/png": "[encoded data removed]",
      "text/plain": [
       "<matplotlib.figure.Figure at 0x1217b2828>"
      ]
     },
     "metadata": {},
     "output_type": "display_data"
    }
   ],
   "source": [
    "\n",
    "borough_group = data.groupby('Borough')\n",
    "borough_group.size().plot(kind='bar')\n",
    "#kind can be 'hist', 'scatter'"
   ]
  },
  {
   "cell_type": "markdown",
   "metadata": {},
   "source": [
    "<h1>Incidents by Agency</h1>"
   ]
  },
  {
   "cell_type": "code",
   "execution_count": 11,
   "metadata": {
    "collapsed": false
   },
   "outputs": [
    {
     "data": {
      "text/plain": [
       "<matplotlib.axes._subplots.AxesSubplot at 0x12137e6d8>"
      ]
     },
     "execution_count": 11,
     "metadata": {},
     "output_type": "execute_result"
    },
    {
     "data": {
      "image/png": "[encoded data removed]",
      "text/plain": [
       "<matplotlib.figure.Figure at 0x1212f5cc0>"
      ]
     },
     "metadata": {},
     "output_type": "display_data"
    }
   ],
   "source": [
    "agency_group = data.groupby('Agency')\n",
    "agency_group.size().plot(kind='bar')"
   ]
  },
  {
   "cell_type": "markdown",
   "metadata": {},
   "source": [
    "<h2>Let's combine the two in a single graph</h2>\n"
   ]
  },
  {
   "cell_type": "code",
   "execution_count": 12,
   "metadata": {
    "collapsed": false
   },
   "outputs": [
    {
     "data": {
      "text/plain": [
       "<matplotlib.axes._subplots.AxesSubplot at 0x121082b70>"
      ]
     },
     "execution_count": 12,
     "metadata": {},
     "output_type": "execute_result"
    },
    {
     "data": {
      "image/png": "[encoded data removed]",
      "text/plain": [
       "<matplotlib.figure.Figure at 0x121043278>"
      ]
     },
     "metadata": {},
     "output_type": "display_data"
    }
   ],
   "source": [
    "\n",
    "agency_borough = data.groupby(['Agency','Borough'])\n",
    "agency_borough.size().plot(kind='bar')\n"
   ]
  },
  {
   "cell_type": "markdown",
   "metadata": {},
   "source": [
    "<h2>This is quite unreadable and pointless!</h2>"
   ]
  },
  {
   "cell_type": "markdown",
   "metadata": {},
   "source": [
    "<h3>We can unstack the groups so that we get borough by agency</h3>"
   ]
  },
  {
   "cell_type": "code",
   "execution_count": 13,
   "metadata": {
    "collapsed": false
   },
   "outputs": [
    {
     "data": {
      "text/plain": [
       "<matplotlib.axes._subplots.AxesSubplot at 0x120976b38>"
      ]
     },
     "execution_count": 13,
     "metadata": {},
     "output_type": "execute_result"
    },
    {
     "data": {
      "image/png": "[encoded data removed]",
      "text/plain": [
       "<matplotlib.figure.Figure at 0x121038438>"
      ]
     },
     "metadata": {},
     "output_type": "display_data"
    }
   ],
   "source": [
    "agency_borough.size().unstack().plot(kind='bar')"
   ]
  },
  {
   "cell_type": "markdown",
   "metadata": {},
   "source": [
    "<h3>Increase the size of the image and add a title</h3>"
   ]
  },
  {
   "cell_type": "code",
   "execution_count": 14,
   "metadata": {
    "collapsed": false
   },
   "outputs": [
    {
     "data": {
      "text/plain": [
       "<matplotlib.axes._subplots.AxesSubplot at 0x1206e5c50>"
      ]
     },
     "execution_count": 14,
     "metadata": {},
     "output_type": "execute_result"
    },
    {
     "data": {
      "image/png": "[encoded data removed]",
      "text/plain": [
       "<matplotlib.figure.Figure at 0x1206cde48>"
      ]
     },
     "metadata": {},
     "output_type": "display_data"
    }
   ],
   "source": [
    "\n",
    "agency_borough = data.groupby(['Agency','Borough'])\n",
    "agency_borough.size().unstack().plot(kind='bar',title=\"Incidents in each Agency by Borough\",figsize=(15,15))\n"
   ]
  },
  {
   "cell_type": "markdown",
   "metadata": {},
   "source": [
    "<h1>Digression: The pandas groupby function</h1>"
   ]
  },
  {
   "cell_type": "markdown",
   "metadata": {},
   "source": [
    "<h4>You can use functions to group data</h4>"
   ]
  },
  {
   "cell_type": "code",
   "execution_count": 15,
   "metadata": {
    "collapsed": false
   },
   "outputs": [],
   "source": [
    "import pandas as pd\n",
    "writers = pd.DataFrame({'Author':['George Orwell','John Steinbeck',\n",
    "                                  'Pearl Buck','Agatha Christie'],\n",
    "                        'Country':['UK','USA','USA','UK'],\n",
    "                        'Gender':['M','M','F','F'],\n",
    "                        'Age':[46,66,80,85]})\n",
    "                        \n"
   ]
  },
  {
   "cell_type": "code",
   "execution_count": 16,
   "metadata": {
    "collapsed": false
   },
   "outputs": [
    {
     "data": {
      "text/html": [
       "<div>\n",
       "<style>\n",
       "    .dataframe thead tr:only-child th {\n",
       "        text-align: right;\n",
       "    }\n",
       "\n",
       "    .dataframe thead th {\n",
       "        text-align: left;\n",
       "    }\n",
       "\n",
       "    .dataframe tbody tr th {\n",
       "        vertical-align: top;\n",
       "    }\n",
       "</style>\n",
       "<table border=\"1\" class=\"dataframe\">\n",
       "  <thead>\n",
       "    <tr style=\"text-align: right;\">\n",
       "      <th></th>\n",
       "      <th>Age</th>\n",
       "      <th>Author</th>\n",
       "      <th>Country</th>\n",
       "      <th>Gender</th>\n",
       "    </tr>\n",
       "  </thead>\n",
       "  <tbody>\n",
       "    <tr>\n",
       "      <th>0</th>\n",
       "      <td>46</td>\n",
       "      <td>George Orwell</td>\n",
       "      <td>UK</td>\n",
       "      <td>M</td>\n",
       "    </tr>\n",
       "    <tr>\n",
       "      <th>1</th>\n",
       "      <td>66</td>\n",
       "      <td>John Steinbeck</td>\n",
       "      <td>USA</td>\n",
       "      <td>M</td>\n",
       "    </tr>\n",
       "    <tr>\n",
       "      <th>2</th>\n",
       "      <td>80</td>\n",
       "      <td>Pearl Buck</td>\n",
       "      <td>USA</td>\n",
       "      <td>F</td>\n",
       "    </tr>\n",
       "    <tr>\n",
       "      <th>3</th>\n",
       "      <td>85</td>\n",
       "      <td>Agatha Christie</td>\n",
       "      <td>UK</td>\n",
       "      <td>F</td>\n",
       "    </tr>\n",
       "  </tbody>\n",
       "</table>\n",
       "</div>"
      ],
      "text/plain": [
       "   Age           Author Country Gender\n",
       "0   46    George Orwell      UK      M\n",
       "1   66   John Steinbeck     USA      M\n",
       "2   80       Pearl Buck     USA      F\n",
       "3   85  Agatha Christie      UK      F"
      ]
     },
     "execution_count": 16,
     "metadata": {},
     "output_type": "execute_result"
    }
   ],
   "source": [
    "writers"
   ]
  },
  {
   "cell_type": "markdown",
   "metadata": {},
   "source": [
    "<h4>Group by country</h4>"
   ]
  },
  {
   "cell_type": "code",
   "execution_count": 23,
   "metadata": {
    "collapsed": false
   },
   "outputs": [
    {
     "data": {
      "text/html": [
       "<div>\n",
       "<style>\n",
       "    .dataframe thead tr:only-child th {\n",
       "        text-align: right;\n",
       "    }\n",
       "\n",
       "    .dataframe thead th {\n",
       "        text-align: left;\n",
       "    }\n",
       "\n",
       "    .dataframe tbody tr th {\n",
       "        vertical-align: top;\n",
       "    }\n",
       "</style>\n",
       "<table border=\"1\" class=\"dataframe\">\n",
       "  <thead>\n",
       "    <tr style=\"text-align: right;\">\n",
       "      <th></th>\n",
       "      <th>Age</th>\n",
       "      <th>Author</th>\n",
       "      <th>Country</th>\n",
       "      <th>Gender</th>\n",
       "    </tr>\n",
       "    <tr>\n",
       "      <th>Country</th>\n",
       "      <th></th>\n",
       "      <th></th>\n",
       "      <th></th>\n",
       "      <th></th>\n",
       "    </tr>\n",
       "  </thead>\n",
       "  <tbody>\n",
       "    <tr>\n",
       "      <th>UK</th>\n",
       "      <td>131</td>\n",
       "      <td>George OrwellAgatha Christie</td>\n",
       "      <td>UKUK</td>\n",
       "      <td>MF</td>\n",
       "    </tr>\n",
       "    <tr>\n",
       "      <th>USA</th>\n",
       "      <td>146</td>\n",
       "      <td>John SteinbeckPearl Buck</td>\n",
       "      <td>USAUSA</td>\n",
       "      <td>MF</td>\n",
       "    </tr>\n",
       "  </tbody>\n",
       "</table>\n",
       "</div>"
      ],
      "text/plain": [
       "         Age                        Author Country Gender\n",
       "Country                                                  \n",
       "UK       131  George OrwellAgatha Christie    UKUK     MF\n",
       "USA      146      John SteinbeckPearl Buck  USAUSA     MF"
      ]
     },
     "execution_count": 23,
     "metadata": {},
     "output_type": "execute_result"
    }
   ],
   "source": [
    "grouped = writers.groupby('Country')\n",
    "#grouped.first()\n",
    "#grouped.last()\n",
    "#grouped.sum()\n",
    "#grouped.mean()\n",
    "grouped.apply(sum)"
   ]
  },
  {
   "cell_type": "code",
   "execution_count": 24,
   "metadata": {
    "collapsed": false
   },
   "outputs": [
    {
     "data": {
      "text/plain": [
       "{'UK': Int64Index([0, 3], dtype='int64'),\n",
       " 'USA': Int64Index([1, 2], dtype='int64')}"
      ]
     },
     "execution_count": 24,
     "metadata": {},
     "output_type": "execute_result"
    }
   ],
   "source": [
    "grouped.groups"
   ]
  },
  {
   "cell_type": "markdown",
   "metadata": {},
   "source": [
    "<h4>Group by multiple columns</h4>"
   ]
  },
  {
   "cell_type": "code",
   "execution_count": 25,
   "metadata": {
    "collapsed": false
   },
   "outputs": [
    {
     "data": {
      "text/plain": [
       "{('UK', 'F'): Int64Index([3], dtype='int64'),\n",
       " ('UK', 'M'): Int64Index([0], dtype='int64'),\n",
       " ('USA', 'F'): Int64Index([2], dtype='int64'),\n",
       " ('USA', 'M'): Int64Index([1], dtype='int64')}"
      ]
     },
     "execution_count": 25,
     "metadata": {},
     "output_type": "execute_result"
    }
   ],
   "source": [
    "grouped = writers.groupby(['Country','Gender'])\n",
    "grouped.groups"
   ]
  },
  {
   "cell_type": "markdown",
   "metadata": {},
   "source": [
    "<h4>Group by age groups</h4>"
   ]
  },
  {
   "cell_type": "code",
   "execution_count": 32,
   "metadata": {
    "collapsed": true
   },
   "outputs": [],
   "source": [
    "def age_groups(df,index,col):\n",
    "    print(index,col)\n",
    "    if df[col].iloc[index] < 30:\n",
    "        return 'Young'\n",
    "    if df[col].iloc[index] < 60:\n",
    "        return 'Middle'\n",
    "    else:\n",
    "        return 'Old'"
   ]
  },
  {
   "cell_type": "code",
   "execution_count": 44,
   "metadata": {
    "collapsed": false
   },
   "outputs": [
    {
     "data": {
      "text/plain": [
       "46"
      ]
     },
     "execution_count": 44,
     "metadata": {},
     "output_type": "execute_result"
    }
   ],
   "source": [
    "writers['Age'].iloc[0]"
   ]
  },
  {
   "cell_type": "code",
   "execution_count": 34,
   "metadata": {
    "collapsed": false
   },
   "outputs": [
    {
     "name": "stdout",
     "output_type": "stream",
     "text": [
      "0 Age\n",
      "1 Age\n",
      "2 Age\n",
      "3 Age\n"
     ]
    },
    {
     "data": {
      "text/plain": [
       "{'Middle': Int64Index([0], dtype='int64'),\n",
       " 'Old': Int64Index([1, 2, 3], dtype='int64')}"
      ]
     },
     "execution_count": 34,
     "metadata": {},
     "output_type": "execute_result"
    }
   ],
   "source": [
    "grouped = writers.groupby(lambda x: age_groups(writers,x,'Age'))\n",
    "grouped.groups"
   ]
  },
  {
   "cell_type": "markdown",
   "metadata": {},
   "source": [
    "<h2>Grouping by the values in a column</h2>\n",
    "<h3>For example, grouping the data by values in a column that are greater than or less than zero</h3>"
   ]
  },
  {
   "cell_type": "code",
   "execution_count": 36,
   "metadata": {
    "collapsed": false
   },
   "outputs": [
    {
     "data": {
      "text/html": [
       "<div>\n",
       "<style>\n",
       "    .dataframe thead tr:only-child th {\n",
       "        text-align: right;\n",
       "    }\n",
       "\n",
       "    .dataframe thead th {\n",
       "        text-align: left;\n",
       "    }\n",
       "\n",
       "    .dataframe tbody tr th {\n",
       "        vertical-align: top;\n",
       "    }\n",
       "</style>\n",
       "<table border=\"1\" class=\"dataframe\">\n",
       "  <thead>\n",
       "    <tr style=\"text-align: right;\">\n",
       "      <th></th>\n",
       "      <th>a</th>\n",
       "      <th>b</th>\n",
       "      <th>c</th>\n",
       "      <th>d</th>\n",
       "      <th>e</th>\n",
       "    </tr>\n",
       "  </thead>\n",
       "  <tbody>\n",
       "    <tr>\n",
       "      <th>Joe</th>\n",
       "      <td>-0.249511</td>\n",
       "      <td>0.829799</td>\n",
       "      <td>1.782724</td>\n",
       "      <td>1.175463</td>\n",
       "      <td>-0.494082</td>\n",
       "    </tr>\n",
       "    <tr>\n",
       "      <th>Steve</th>\n",
       "      <td>0.359809</td>\n",
       "      <td>-0.235219</td>\n",
       "      <td>-3.068322</td>\n",
       "      <td>-0.183199</td>\n",
       "      <td>-0.598801</td>\n",
       "    </tr>\n",
       "    <tr>\n",
       "      <th>Wes</th>\n",
       "      <td>0.932746</td>\n",
       "      <td>-1.146177</td>\n",
       "      <td>-0.672963</td>\n",
       "      <td>-0.348038</td>\n",
       "      <td>-0.760377</td>\n",
       "    </tr>\n",
       "    <tr>\n",
       "      <th>Jim</th>\n",
       "      <td>0.775882</td>\n",
       "      <td>-1.659168</td>\n",
       "      <td>-0.301639</td>\n",
       "      <td>-0.000548</td>\n",
       "      <td>1.163943</td>\n",
       "    </tr>\n",
       "    <tr>\n",
       "      <th>Travis</th>\n",
       "      <td>-0.254044</td>\n",
       "      <td>-1.601734</td>\n",
       "      <td>-0.024121</td>\n",
       "      <td>-0.250024</td>\n",
       "      <td>-0.266271</td>\n",
       "    </tr>\n",
       "  </tbody>\n",
       "</table>\n",
       "</div>"
      ],
      "text/plain": [
       "               a         b         c         d         e\n",
       "Joe    -0.249511  0.829799  1.782724  1.175463 -0.494082\n",
       "Steve   0.359809 -0.235219 -3.068322 -0.183199 -0.598801\n",
       "Wes     0.932746 -1.146177 -0.672963 -0.348038 -0.760377\n",
       "Jim     0.775882 -1.659168 -0.301639 -0.000548  1.163943\n",
       "Travis -0.254044 -1.601734 -0.024121 -0.250024 -0.266271"
      ]
     },
     "execution_count": 36,
     "metadata": {},
     "output_type": "execute_result"
    }
   ],
   "source": [
    "import numpy as np\n",
    "people = pd.DataFrame(np.random.randn(5, 5), columns=['a', 'b', 'c', 'd', 'e'], index=['Joe', 'Steve', 'Wes', 'Jim', 'Travis'])\n",
    "people"
   ]
  },
  {
   "cell_type": "markdown",
   "metadata": {},
   "source": [
    "<h3>Write a function that takes three arguments - a dataframe, an index, and a column name and returns the grouping for that row</h3>"
   ]
  },
  {
   "cell_type": "code",
   "execution_count": 41,
   "metadata": {
    "collapsed": true
   },
   "outputs": [],
   "source": [
    "def GroupColFunc(df, ind, col):\n",
    "    if df[col].loc[ind] > 0:\n",
    "        return 'Group1'\n",
    "    else:\n",
    "        return 'Group2'"
   ]
  },
  {
   "cell_type": "code",
   "execution_count": 42,
   "metadata": {
    "collapsed": false
   },
   "outputs": [
    {
     "data": {
      "text/plain": [
       "{'Group1': Index(['Steve', 'Wes', 'Jim'], dtype='object'),\n",
       " 'Group2': Index(['Joe', 'Travis'], dtype='object')}"
      ]
     },
     "execution_count": 42,
     "metadata": {},
     "output_type": "execute_result"
    }
   ],
   "source": [
    "people.groupby(lambda x: GroupColFunc(people, x, 'a')).groups"
   ]
  },
  {
   "cell_type": "markdown",
   "metadata": {},
   "source": [
    "<h2>Now we can compute stats on these groups</h2>"
   ]
  },
  {
   "cell_type": "code",
   "execution_count": 45,
   "metadata": {
    "collapsed": false
   },
   "outputs": [
    {
     "name": "stdout",
     "output_type": "stream",
     "text": [
      "               a         b         c         d         e\n",
      "Group1  0.689479 -1.013521 -1.347641 -0.177262 -0.065078\n",
      "Group2 -0.251777 -0.385968  0.879301  0.462719 -0.380177\n",
      "               a         b         c         d         e\n",
      "Group1  0.296080  0.721184  1.501675  0.173821  1.067425\n",
      "Group2  0.003205  1.719354  1.277633  1.007971  0.161087\n"
     ]
    }
   ],
   "source": [
    "print(people.groupby(lambda x: GroupColFunc(people, x, 'a')).mean())\n",
    "print(people.groupby(lambda x: GroupColFunc(people, x, 'a')).std())"
   ]
  },
  {
   "cell_type": "markdown",
   "metadata": {},
   "source": [
    "<h1>Incidents by time</h1>\n",
    "<p>We know the creation date of each incident so we can build a bar graph of number of incidents by month\n",
    "<p>Not particularly useful with a few months data but if we had all data from 2010, we could use this sort of\n",
    "analysis to eyeball trends and seasonality\n",
    "<p>We're going to need to do some data manipulation for this"
   ]
  },
  {
   "cell_type": "markdown",
   "metadata": {},
   "source": [
    "<h3>We'll start by creating a new date field yyyymm"
   ]
  },
  {
   "cell_type": "code",
   "execution_count": 46,
   "metadata": {
    "collapsed": false
   },
   "outputs": [],
   "source": [
    "import datetime\n",
    "data['yyyymm'] = data['Created Date'].apply(lambda x:datetime.datetime.strftime(x,'%Y%m'))"
   ]
  },
  {
   "cell_type": "code",
   "execution_count": 47,
   "metadata": {
    "collapsed": false
   },
   "outputs": [
    {
     "data": {
      "text/plain": [
       "Unique Key\n",
       "11        201609\n",
       "12        201609\n",
       "13        201609\n",
       "14        201609\n",
       "15        201609\n",
       "16        201609\n",
       "17        201609\n",
       "18        201609\n",
       "19        201609\n",
       "20        201609\n",
       "21        201609\n",
       "22        201609\n",
       "23        201609\n",
       "24        201609\n",
       "25        201609\n",
       "26        201609\n",
       "27        201609\n",
       "28        201609\n",
       "30        201609\n",
       "31        201609\n",
       "32        201609\n",
       "33        201609\n",
       "34        201609\n",
       "35        201609\n",
       "36        201609\n",
       "37        201609\n",
       "38        201609\n",
       "39        201609\n",
       "40        201609\n",
       "41        201609\n",
       "           ...  \n",
       "971012    201609\n",
       "971014    201609\n",
       "971018    201609\n",
       "971021    201609\n",
       "971022    201609\n",
       "971023    201609\n",
       "971025    201609\n",
       "971031    201609\n",
       "971032    201609\n",
       "971034    201609\n",
       "971035    201609\n",
       "971036    201609\n",
       "971038    201609\n",
       "971040    201609\n",
       "971041    201609\n",
       "971043    201609\n",
       "971044    201609\n",
       "971046    201609\n",
       "971047    201609\n",
       "971049    201609\n",
       "971052    201609\n",
       "971053    201609\n",
       "971055    201609\n",
       "971056    201609\n",
       "971057    201609\n",
       "971059    201609\n",
       "971060    201609\n",
       "971061    201609\n",
       "971062    201609\n",
       "971063    201609\n",
       "Name: yyyymm, Length: 799325, dtype: object"
      ]
     },
     "execution_count": 47,
     "metadata": {},
     "output_type": "execute_result"
    }
   ],
   "source": [
    "data['yyyymm']"
   ]
  },
  {
   "cell_type": "code",
   "execution_count": 48,
   "metadata": {
    "collapsed": false
   },
   "outputs": [
    {
     "data": {
      "text/plain": [
       "<matplotlib.axes._subplots.AxesSubplot at 0x115bddc50>"
      ]
     },
     "execution_count": 48,
     "metadata": {},
     "output_type": "execute_result"
    },
    {
     "data": {
      "image/png": "[encoded data removed]",
      "text/plain": [
       "<matplotlib.figure.Figure at 0x115bdc080>"
      ]
     },
     "metadata": {},
     "output_type": "display_data"
    }
   ],
   "source": [
    "date_agency = data.groupby(['yyyymm','Agency'])\n",
    "date_agency.size().unstack().plot(kind='bar',figsize=(15,15))"
   ]
  },
  {
   "cell_type": "markdown",
   "metadata": {},
   "source": [
    "<h1>Examining agencies</h1>"
   ]
  },
  {
   "cell_type": "markdown",
   "metadata": {},
   "source": [
    "<h2>We'll look at the frequency by agency and report the top 5 values</h2>"
   ]
  },
  {
   "cell_type": "code",
   "execution_count": 49,
   "metadata": {
    "collapsed": false
   },
   "outputs": [
    {
     "data": {
      "text/plain": [
       "Agency\n",
       "NYPD      273683\n",
       "HPD       244815\n",
       "DOT        66180\n",
       "DSNY       63321\n",
       "DEP        60346\n",
       "DOB        34821\n",
       "DHS        15083\n",
       "DOHMH      14188\n",
       "DPR        10830\n",
       "TLC         7129\n",
       "DCA         5760\n",
       "FDNY        1676\n",
       "DOF          579\n",
       "DOE          454\n",
       "DOITT        134\n",
       "EDC          123\n",
       "3/1/01       102\n",
       "DFTA         101\n",
       "dtype: int64"
      ]
     },
     "execution_count": 49,
     "metadata": {},
     "output_type": "execute_result"
    }
   ],
   "source": [
    "data.groupby('Agency').size().sort_values(ascending=False)"
   ]
  },
  {
   "cell_type": "code",
   "execution_count": 50,
   "metadata": {
    "collapsed": false
   },
   "outputs": [
    {
     "data": {
      "text/plain": [
       "<matplotlib.axes._subplots.AxesSubplot at 0x115c3b198>"
      ]
     },
     "execution_count": 50,
     "metadata": {},
     "output_type": "execute_result"
    },
    {
     "data": {
      "image/png": "[encoded data removed]",
      "text/plain": [
       "<matplotlib.figure.Figure at 0x115c28be0>"
      ]
     },
     "metadata": {},
     "output_type": "display_data"
    }
   ],
   "source": [
    "data.groupby('Agency').size().sort_values(ascending=False).plot(kind='bar', figsize=(20,4))"
   ]
  },
  {
   "cell_type": "markdown",
   "metadata": {},
   "source": [
    "<h3>We can drill down into complaints by Agency by borough</h3>"
   ]
  },
  {
   "cell_type": "code",
   "execution_count": 51,
   "metadata": {
    "collapsed": true
   },
   "outputs": [],
   "source": [
    "agency_borough = data.groupby(['Agency', 'Borough']).size().unstack()"
   ]
  },
  {
   "cell_type": "code",
   "execution_count": 52,
   "metadata": {
    "collapsed": false
   },
   "outputs": [
    {
     "data": {
      "text/html": [
       "<div>\n",
       "<style>\n",
       "    .dataframe thead tr:only-child th {\n",
       "        text-align: right;\n",
       "    }\n",
       "\n",
       "    .dataframe thead th {\n",
       "        text-align: left;\n",
       "    }\n",
       "\n",
       "    .dataframe tbody tr th {\n",
       "        vertical-align: top;\n",
       "    }\n",
       "</style>\n",
       "<table border=\"1\" class=\"dataframe\">\n",
       "  <thead>\n",
       "    <tr style=\"text-align: right;\">\n",
       "      <th>Borough</th>\n",
       "      <th>BRONX</th>\n",
       "      <th>BROOKLYN</th>\n",
       "      <th>MANHATTAN</th>\n",
       "      <th>QUEENS</th>\n",
       "      <th>STATEN ISLAND</th>\n",
       "    </tr>\n",
       "    <tr>\n",
       "      <th>Agency</th>\n",
       "      <th></th>\n",
       "      <th></th>\n",
       "      <th></th>\n",
       "      <th></th>\n",
       "      <th></th>\n",
       "    </tr>\n",
       "  </thead>\n",
       "  <tbody>\n",
       "    <tr>\n",
       "      <th>3/1/01</th>\n",
       "      <td>17.0</td>\n",
       "      <td>28.0</td>\n",
       "      <td>23.0</td>\n",
       "      <td>28.0</td>\n",
       "      <td>6.0</td>\n",
       "    </tr>\n",
       "    <tr>\n",
       "      <th>DCA</th>\n",
       "      <td>958.0</td>\n",
       "      <td>1532.0</td>\n",
       "      <td>1529.0</td>\n",
       "      <td>1547.0</td>\n",
       "      <td>194.0</td>\n",
       "    </tr>\n",
       "    <tr>\n",
       "      <th>DEP</th>\n",
       "      <td>5837.0</td>\n",
       "      <td>17917.0</td>\n",
       "      <td>17315.0</td>\n",
       "      <td>15216.0</td>\n",
       "      <td>4061.0</td>\n",
       "    </tr>\n",
       "    <tr>\n",
       "      <th>DFTA</th>\n",
       "      <td>21.0</td>\n",
       "      <td>33.0</td>\n",
       "      <td>24.0</td>\n",
       "      <td>21.0</td>\n",
       "      <td>2.0</td>\n",
       "    </tr>\n",
       "    <tr>\n",
       "      <th>DHS</th>\n",
       "      <td>397.0</td>\n",
       "      <td>1130.0</td>\n",
       "      <td>12767.0</td>\n",
       "      <td>734.0</td>\n",
       "      <td>55.0</td>\n",
       "    </tr>\n",
       "    <tr>\n",
       "      <th>DOB</th>\n",
       "      <td>5160.0</td>\n",
       "      <td>10993.0</td>\n",
       "      <td>6507.0</td>\n",
       "      <td>10567.0</td>\n",
       "      <td>1594.0</td>\n",
       "    </tr>\n",
       "    <tr>\n",
       "      <th>DOE</th>\n",
       "      <td>129.0</td>\n",
       "      <td>127.0</td>\n",
       "      <td>49.0</td>\n",
       "      <td>136.0</td>\n",
       "      <td>13.0</td>\n",
       "    </tr>\n",
       "    <tr>\n",
       "      <th>DOF</th>\n",
       "      <td>143.0</td>\n",
       "      <td>161.0</td>\n",
       "      <td>153.0</td>\n",
       "      <td>112.0</td>\n",
       "      <td>10.0</td>\n",
       "    </tr>\n",
       "    <tr>\n",
       "      <th>DOHMH</th>\n",
       "      <td>2406.0</td>\n",
       "      <td>4481.0</td>\n",
       "      <td>3759.0</td>\n",
       "      <td>2814.0</td>\n",
       "      <td>728.0</td>\n",
       "    </tr>\n",
       "    <tr>\n",
       "      <th>DOITT</th>\n",
       "      <td>7.0</td>\n",
       "      <td>18.0</td>\n",
       "      <td>91.0</td>\n",
       "      <td>18.0</td>\n",
       "      <td>NaN</td>\n",
       "    </tr>\n",
       "    <tr>\n",
       "      <th>DOT</th>\n",
       "      <td>8683.0</td>\n",
       "      <td>19177.0</td>\n",
       "      <td>9673.0</td>\n",
       "      <td>22096.0</td>\n",
       "      <td>6551.0</td>\n",
       "    </tr>\n",
       "    <tr>\n",
       "      <th>DPR</th>\n",
       "      <td>1416.0</td>\n",
       "      <td>2929.0</td>\n",
       "      <td>1103.0</td>\n",
       "      <td>3897.0</td>\n",
       "      <td>1485.0</td>\n",
       "    </tr>\n",
       "    <tr>\n",
       "      <th>DSNY</th>\n",
       "      <td>6406.0</td>\n",
       "      <td>22208.0</td>\n",
       "      <td>6079.0</td>\n",
       "      <td>18125.0</td>\n",
       "      <td>10503.0</td>\n",
       "    </tr>\n",
       "    <tr>\n",
       "      <th>EDC</th>\n",
       "      <td>1.0</td>\n",
       "      <td>62.0</td>\n",
       "      <td>41.0</td>\n",
       "      <td>15.0</td>\n",
       "      <td>4.0</td>\n",
       "    </tr>\n",
       "    <tr>\n",
       "      <th>FDNY</th>\n",
       "      <td>39.0</td>\n",
       "      <td>127.0</td>\n",
       "      <td>1344.0</td>\n",
       "      <td>158.0</td>\n",
       "      <td>8.0</td>\n",
       "    </tr>\n",
       "    <tr>\n",
       "      <th>HPD</th>\n",
       "      <td>77774.0</td>\n",
       "      <td>81382.0</td>\n",
       "      <td>51017.0</td>\n",
       "      <td>31080.0</td>\n",
       "      <td>3562.0</td>\n",
       "    </tr>\n",
       "    <tr>\n",
       "      <th>NYPD</th>\n",
       "      <td>48837.0</td>\n",
       "      <td>88973.0</td>\n",
       "      <td>55841.0</td>\n",
       "      <td>69931.0</td>\n",
       "      <td>10101.0</td>\n",
       "    </tr>\n",
       "    <tr>\n",
       "      <th>TLC</th>\n",
       "      <td>318.0</td>\n",
       "      <td>1238.0</td>\n",
       "      <td>4393.0</td>\n",
       "      <td>1146.0</td>\n",
       "      <td>34.0</td>\n",
       "    </tr>\n",
       "  </tbody>\n",
       "</table>\n",
       "</div>"
      ],
      "text/plain": [
       "Borough    BRONX  BROOKLYN  MANHATTAN   QUEENS  STATEN ISLAND\n",
       "Agency                                                       \n",
       "3/1/01      17.0      28.0       23.0     28.0            6.0\n",
       "DCA        958.0    1532.0     1529.0   1547.0          194.0\n",
       "DEP       5837.0   17917.0    17315.0  15216.0         4061.0\n",
       "DFTA        21.0      33.0       24.0     21.0            2.0\n",
       "DHS        397.0    1130.0    12767.0    734.0           55.0\n",
       "DOB       5160.0   10993.0     6507.0  10567.0         1594.0\n",
       "DOE        129.0     127.0       49.0    136.0           13.0\n",
       "DOF        143.0     161.0      153.0    112.0           10.0\n",
       "DOHMH     2406.0    4481.0     3759.0   2814.0          728.0\n",
       "DOITT        7.0      18.0       91.0     18.0            NaN\n",
       "DOT       8683.0   19177.0     9673.0  22096.0         6551.0\n",
       "DPR       1416.0    2929.0     1103.0   3897.0         1485.0\n",
       "DSNY      6406.0   22208.0     6079.0  18125.0        10503.0\n",
       "EDC          1.0      62.0       41.0     15.0            4.0\n",
       "FDNY        39.0     127.0     1344.0    158.0            8.0\n",
       "HPD      77774.0   81382.0    51017.0  31080.0         3562.0\n",
       "NYPD     48837.0   88973.0    55841.0  69931.0        10101.0\n",
       "TLC        318.0    1238.0     4393.0   1146.0           34.0"
      ]
     },
     "execution_count": 52,
     "metadata": {},
     "output_type": "execute_result"
    }
   ],
   "source": [
    "agency_borough"
   ]
  },
  {
   "cell_type": "markdown",
   "metadata": {},
   "source": [
    "<h3>We can create 'top 5 Agency' subplots subplots for each borough</h3>"
   ]
  },
  {
   "cell_type": "code",
   "execution_count": 53,
   "metadata": {
    "collapsed": false
   },
   "outputs": [
    {
     "data": {
      "image/png": "[encoded data removed]",
      "text/plain": [
       "<matplotlib.figure.Figure at 0x120cecf60>"
      ]
     },
     "metadata": {},
     "output_type": "display_data"
    }
   ],
   "source": [
    "#We'll arrange the subplots in two rows and three columns. \n",
    "#Since we have only 5 boroughs, one plot will be blank\n",
    "COL_NUM = 2\n",
    "ROW_NUM = 3\n",
    "import matplotlib.pyplot as plt\n",
    "fig, axes = plt.subplots(ROW_NUM, COL_NUM, figsize=(12,12))\n",
    "\n",
    "for i, (label, col) in enumerate(agency_borough.iteritems()): \n",
    "    ax = axes[int(i/COL_NUM), i%COL_NUM]\n",
    "    col = col.sort_values(ascending=False)[:5] \n",
    "    col.plot(kind='barh', ax=ax)\n",
    "    ax.set_title(label)\n",
    "\n",
    "plt.tight_layout() "
   ]
  },
  {
   "cell_type": "code",
   "execution_count": 54,
   "metadata": {
    "collapsed": false
   },
   "outputs": [
    {
     "name": "stdout",
     "output_type": "stream",
     "text": [
      "0 BRONX Agency\n",
      "3/1/01       17.0\n",
      "DCA         958.0\n",
      "DEP        5837.0\n",
      "DFTA         21.0\n",
      "DHS         397.0\n",
      "DOB        5160.0\n",
      "DOE         129.0\n",
      "DOF         143.0\n",
      "DOHMH      2406.0\n",
      "DOITT         7.0\n",
      "DOT        8683.0\n",
      "DPR        1416.0\n",
      "DSNY       6406.0\n",
      "EDC           1.0\n",
      "FDNY         39.0\n",
      "HPD       77774.0\n",
      "NYPD      48837.0\n",
      "TLC         318.0\n",
      "Name: BRONX, dtype: float64\n",
      "1 BROOKLYN Agency\n",
      "3/1/01       28.0\n",
      "DCA        1532.0\n",
      "DEP       17917.0\n",
      "DFTA         33.0\n",
      "DHS        1130.0\n",
      "DOB       10993.0\n",
      "DOE         127.0\n",
      "DOF         161.0\n",
      "DOHMH      4481.0\n",
      "DOITT        18.0\n",
      "DOT       19177.0\n",
      "DPR        2929.0\n",
      "DSNY      22208.0\n",
      "EDC          62.0\n",
      "FDNY        127.0\n",
      "HPD       81382.0\n",
      "NYPD      88973.0\n",
      "TLC        1238.0\n",
      "Name: BROOKLYN, dtype: float64\n",
      "2 MANHATTAN Agency\n",
      "3/1/01       23.0\n",
      "DCA        1529.0\n",
      "DEP       17315.0\n",
      "DFTA         24.0\n",
      "DHS       12767.0\n",
      "DOB        6507.0\n",
      "DOE          49.0\n",
      "DOF         153.0\n",
      "DOHMH      3759.0\n",
      "DOITT        91.0\n",
      "DOT        9673.0\n",
      "DPR        1103.0\n",
      "DSNY       6079.0\n",
      "EDC          41.0\n",
      "FDNY       1344.0\n",
      "HPD       51017.0\n",
      "NYPD      55841.0\n",
      "TLC        4393.0\n",
      "Name: MANHATTAN, dtype: float64\n",
      "3 QUEENS Agency\n",
      "3/1/01       28.0\n",
      "DCA        1547.0\n",
      "DEP       15216.0\n",
      "DFTA         21.0\n",
      "DHS         734.0\n",
      "DOB       10567.0\n",
      "DOE         136.0\n",
      "DOF         112.0\n",
      "DOHMH      2814.0\n",
      "DOITT        18.0\n",
      "DOT       22096.0\n",
      "DPR        3897.0\n",
      "DSNY      18125.0\n",
      "EDC          15.0\n",
      "FDNY        158.0\n",
      "HPD       31080.0\n",
      "NYPD      69931.0\n",
      "TLC        1146.0\n",
      "Name: QUEENS, dtype: float64\n",
      "4 STATEN ISLAND Agency\n",
      "3/1/01        6.0\n",
      "DCA         194.0\n",
      "DEP        4061.0\n",
      "DFTA          2.0\n",
      "DHS          55.0\n",
      "DOB        1594.0\n",
      "DOE          13.0\n",
      "DOF          10.0\n",
      "DOHMH       728.0\n",
      "DOITT         NaN\n",
      "DOT        6551.0\n",
      "DPR        1485.0\n",
      "DSNY      10503.0\n",
      "EDC           4.0\n",
      "FDNY          8.0\n",
      "HPD        3562.0\n",
      "NYPD      10101.0\n",
      "TLC          34.0\n",
      "Name: STATEN ISLAND, dtype: float64\n"
     ]
    }
   ],
   "source": [
    "for i, (label, col) in enumerate(agency_borough.iteritems()): \n",
    "    print(i,label,col)"
   ]
  },
  {
   "cell_type": "markdown",
   "metadata": {},
   "source": [
    "<h1>Processing time</h1>\n",
    "<h2>We can compute simple statistics on processing time</h2>"
   ]
  },
  {
   "cell_type": "code",
   "execution_count": null,
   "metadata": {
    "collapsed": false
   },
   "outputs": [],
   "source": [
    "grouped = data[['processing_time','Borough']].groupby('Borough')"
   ]
  },
  {
   "cell_type": "code",
   "execution_count": null,
   "metadata": {
    "collapsed": false
   },
   "outputs": [],
   "source": [
    "grouped.describe()"
   ]
  },
  {
   "cell_type": "markdown",
   "metadata": {},
   "source": [
    "<h3>But it is easier to convert the timedelta processing_time into floats for calculation purposes</h3>"
   ]
  },
  {
   "cell_type": "code",
   "execution_count": null,
   "metadata": {
    "collapsed": false
   },
   "outputs": [],
   "source": [
    "import numpy as np\n",
    "#The time it takes to process. Cleaned up\n",
    "data['float_time'] =data['processing_time'].apply(lambda x:x/np.timedelta64(1, 'D'))"
   ]
  },
  {
   "cell_type": "code",
   "execution_count": null,
   "metadata": {
    "collapsed": false
   },
   "outputs": [],
   "source": [
    "data"
   ]
  },
  {
   "cell_type": "markdown",
   "metadata": {},
   "source": [
    "<h2>Now we can compute stats easily</h2>"
   ]
  },
  {
   "cell_type": "code",
   "execution_count": null,
   "metadata": {
    "collapsed": false
   },
   "outputs": [],
   "source": [
    "grouped = data[['float_time','Agency']].groupby('Agency')\n",
    "grouped.mean().sort_values('float_time',ascending=False)"
   ]
  },
  {
   "cell_type": "code",
   "execution_count": null,
   "metadata": {
    "collapsed": false
   },
   "outputs": [],
   "source": [
    "data['float_time'].hist(bins=50)"
   ]
  },
  {
   "cell_type": "markdown",
   "metadata": {
    "collapsed": true
   },
   "source": [
    "<h1>Other useful visualization libraries</h1>\n",
    "<h2>seaborn: https://seaborn.pydata.org/</h2>\n",
    "<h2>bokeh: http://bokeh.pydata.org/en/latest/</h2>\n",
    "<h2>plotly: https://plot.ly/</h2>\n"
   ]
  },
  {
   "cell_type": "code",
   "execution_count": null,
   "metadata": {
    "collapsed": true
   },
   "outputs": [],
   "source": []
  }
 ],
 "metadata": {
  "anaconda-cloud": {},
  "kernelspec": {
   "display_name": "Python [conda env:tflearn]",
   "language": "python",
   "name": "conda-env-tflearn-py"
  },
  "language_info": {
   "codemirror_mode": {
    "name": "ipython",
    "version": 3
   },
   "file_extension": ".py",
   "mimetype": "text/x-python",
   "name": "python",
   "nbconvert_exporter": "python",
   "pygments_lexer": "ipython3",
   "version": "3.5.2"
  }
 },
 "nbformat": 4,
 "nbformat_minor": 0
}
