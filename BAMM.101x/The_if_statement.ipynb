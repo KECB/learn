{
 "cells": [
  {
   "cell_type": "markdown",
   "metadata": {},
   "source": [
    "<h1>Controling execution using the if statement</h1>"
   ]
  },
  {
   "cell_type": "code",
   "execution_count": null,
   "metadata": {
    "collapsed": false
   },
   "outputs": [],
   "source": [
    "x = int(input(\"Enter an integer: \"))\n",
    "y = int(input(\"Enter a second integer\"))\n",
    "if x%y == 0:\n",
    "    print(x,\"is divisible by\",y) #This block will execute if the remainder of x/y is zero\n",
    "else:\n",
    "    print(x,\"is not divisible by\",y)"
   ]
  },
  {
   "cell_type": "code",
   "execution_count": null,
   "metadata": {
    "collapsed": false
   },
   "outputs": [],
   "source": [
    "purchase_price = float(input(\"Enter the purchase price of the stock: \"))\n",
    "price_now = float(input(\"Enter the current price of the stock: \"))\n",
    "if price_now < purchase_price * 0.9:\n",
    "    print(\"STOP LOSS: Sell the stock! \")\n",
    "elif price_now > purchase_price * 1.2:\n",
    "    print(\"PROFIT TAKING: Sell the stock!\")\n",
    "else:\n",
    "    print(\"HOLD: Don't do anything!\")"
   ]
  },
  {
   "cell_type": "code",
   "execution_count": null,
   "metadata": {
    "collapsed": false
   },
   "outputs": [],
   "source": [
    "purchase_price = float(input(\"Enter the purchase price of the stock: \"))\n",
    "price_now = float(input(\"Enter the current price of the stock: \"))\n",
    "if price_now < purchase_price * 0.9:\n",
    "    print(\"STOP LOSS: Sell the stock! \")\n",
    "    print(\"You've lost\",purchase_price-price_now,\"Dollars per share\")\n",
    "elif price_now > purchase_price * 1.2:\n",
    "    print(\"PROFIT TAKING: Sell the stock!\")\n",
    "    print(\"You've gained\",price_now-purchase_price,\"Dollars per share\")\n",
    "\n",
    "else:\n",
    "    print(\"HOLD: Don't do anything!\")\n",
    "    print(\"Your unrealized profit is\",price_now-purchase_price,\"Dollars per share\")\n",
    "print(\"Hope you enjoyed this program!\")"
   ]
  },
  {
   "cell_type": "code",
   "execution_count": null,
   "metadata": {
    "collapsed": true
   },
   "outputs": [],
   "source": []
  }
 ],
 "metadata": {
  "kernelspec": {
   "display_name": "Python [Root]",
   "language": "python",
   "name": "Python [Root]"
  },
  "language_info": {
   "codemirror_mode": {
    "name": "ipython",
    "version": 3
   },
   "file_extension": ".py",
   "mimetype": "text/x-python",
   "name": "python",
   "nbconvert_exporter": "python",
   "pygments_lexer": "ipython3",
   "version": "3.5.2"
  }
 },
 "nbformat": 4,
 "nbformat_minor": 2
}
