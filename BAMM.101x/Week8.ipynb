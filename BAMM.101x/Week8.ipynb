{
 "cells": [
  {
   "cell_type": "code",
   "execution_count": 1,
   "metadata": {
    "collapsed": false
   },
   "outputs": [],
   "source": [
    "import pandas as pd\n",
    "import numpy as np\n",
    "import datetime\n",
    "\n",
    "data = pd.read_csv('311_data.csv')"
   ]
  },
  {
   "cell_type": "code",
   "execution_count": 2,
   "metadata": {
    "collapsed": false
   },
   "outputs": [
    {
     "data": {
      "text/html": [
       "<div>\n",
       "<style>\n",
       "    .dataframe thead tr:only-child th {\n",
       "        text-align: right;\n",
       "    }\n",
       "\n",
       "    .dataframe thead th {\n",
       "        text-align: left;\n",
       "    }\n",
       "\n",
       "    .dataframe tbody tr th {\n",
       "        vertical-align: top;\n",
       "    }\n",
       "</style>\n",
       "<table border=\"1\" class=\"dataframe\">\n",
       "  <thead>\n",
       "    <tr style=\"text-align: right;\">\n",
       "      <th></th>\n",
       "      <th>Created Date</th>\n",
       "      <th>Closed Date</th>\n",
       "      <th>Agency</th>\n",
       "      <th>Borough</th>\n",
       "    </tr>\n",
       "  </thead>\n",
       "  <tbody>\n",
       "    <tr>\n",
       "      <th>0</th>\n",
       "      <td>01/01/2016 12:00:09 AM</td>\n",
       "      <td>01/01/2016 01:57:32 AM</td>\n",
       "      <td>NYPD</td>\n",
       "      <td>BROOKLYN</td>\n",
       "    </tr>\n",
       "    <tr>\n",
       "      <th>1</th>\n",
       "      <td>01/01/2016 12:00:40 AM</td>\n",
       "      <td>01/01/2016 03:12:53 AM</td>\n",
       "      <td>NYPD</td>\n",
       "      <td>BRONX</td>\n",
       "    </tr>\n",
       "    <tr>\n",
       "      <th>2</th>\n",
       "      <td>01/01/2016 12:01:09 AM</td>\n",
       "      <td>01/21/2016 09:20:55 AM</td>\n",
       "      <td>HPD</td>\n",
       "      <td>BRONX</td>\n",
       "    </tr>\n",
       "    <tr>\n",
       "      <th>3</th>\n",
       "      <td>01/01/2016 12:02:59 AM</td>\n",
       "      <td>01/01/2016 11:35:50 PM</td>\n",
       "      <td>NYPD</td>\n",
       "      <td>Unspecified</td>\n",
       "    </tr>\n",
       "    <tr>\n",
       "      <th>4</th>\n",
       "      <td>01/01/2016 12:03:03 AM</td>\n",
       "      <td>01/08/2016 01:13:00 AM</td>\n",
       "      <td>HPD</td>\n",
       "      <td>BRONX</td>\n",
       "    </tr>\n",
       "  </tbody>\n",
       "</table>\n",
       "</div>"
      ],
      "text/plain": [
       "             Created Date             Closed Date Agency      Borough\n",
       "0  01/01/2016 12:00:09 AM  01/01/2016 01:57:32 AM   NYPD     BROOKLYN\n",
       "1  01/01/2016 12:00:40 AM  01/01/2016 03:12:53 AM   NYPD        BRONX\n",
       "2  01/01/2016 12:01:09 AM  01/21/2016 09:20:55 AM    HPD        BRONX\n",
       "3  01/01/2016 12:02:59 AM  01/01/2016 11:35:50 PM   NYPD  Unspecified\n",
       "4  01/01/2016 12:03:03 AM  01/08/2016 01:13:00 AM    HPD        BRONX"
      ]
     },
     "execution_count": 2,
     "metadata": {},
     "output_type": "execute_result"
    }
   ],
   "source": [
    "ccab_data = data[['Created Date', 'Closed Date', 'Agency', 'Borough']]\n",
    "ccab_data[0:5]"
   ]
  },
  {
   "cell_type": "code",
   "execution_count": 3,
   "metadata": {
    "collapsed": false
   },
   "outputs": [
    {
     "name": "stdout",
     "output_type": "stream",
     "text": [
      "<class 'pandas.core.frame.DataFrame'>\n",
      "RangeIndex: 1527 entries, 0 to 1526\n",
      "Data columns (total 4 columns):\n",
      "Created Date    1527 non-null object\n",
      "Closed Date     1518 non-null object\n",
      "Agency          1527 non-null object\n",
      "Borough         1526 non-null object\n",
      "dtypes: object(4)\n",
      "memory usage: 47.8+ KB\n"
     ]
    }
   ],
   "source": [
    "ccab_data.info()"
   ]
  },
  {
   "cell_type": "code",
   "execution_count": 25,
   "metadata": {
    "collapsed": false
   },
   "outputs": [
    {
     "name": "stdout",
     "output_type": "stream",
     "text": [
      "<class 'pandas.core.frame.DataFrame'>\n",
      "Int64Index: 1517 entries, 0 to 1525\n",
      "Data columns (total 4 columns):\n",
      "Created Date    1517 non-null datetime64[ns]\n",
      "Closed Date     1517 non-null object\n",
      "Agency          1517 non-null object\n",
      "Borough         1517 non-null object\n",
      "dtypes: datetime64[ns](1), object(3)\n",
      "memory usage: 59.3+ KB\n"
     ]
    }
   ],
   "source": [
    "#ccab_data = ccab_data[(ccab_data['Closed Date'].notnull()) & (ccab_data['Borough'].notnull())]\n",
    "#ccab_data.info()"
   ]
  },
  {
   "cell_type": "code",
   "execution_count": 6,
   "metadata": {
    "collapsed": false
   },
   "outputs": [
    {
     "name": "stdout",
     "output_type": "stream",
     "text": [
      "<class 'pandas.core.frame.DataFrame'>\n",
      "RangeIndex: 1527 entries, 0 to 1526\n",
      "Data columns (total 4 columns):\n",
      "Created Date    1527 non-null datetime64[ns]\n",
      "Closed Date     1518 non-null object\n",
      "Agency          1527 non-null object\n",
      "Borough         1526 non-null object\n",
      "dtypes: datetime64[ns](1), object(3)\n",
      "memory usage: 47.8+ KB\n"
     ]
    }
   ],
   "source": [
    "ccab_data['Created Date'] = ccab_data['Created Date'].apply(lambda x:datetime.datetime.strptime(x, '%m/%d/%Y %I:%M:%S %p'))\n",
    "ccab_data.info()"
   ]
  },
  {
   "cell_type": "code",
   "execution_count": 8,
   "metadata": {
    "collapsed": false
   },
   "outputs": [
    {
     "name": "stderr",
     "output_type": "stream",
     "text": [
      "/Users/Beck/anaconda/envs/tflearn/lib/python3.5/site-packages/ipykernel/__main__.py:1: SettingWithCopyWarning: \n",
      "A value is trying to be set on a copy of a slice from a DataFrame.\n",
      "Try using .loc[row_indexer,col_indexer] = value instead\n",
      "\n",
      "See the caveats in the documentation: http://pandas.pydata.org/pandas-docs/stable/indexing.html#indexing-view-versus-copy\n",
      "  if __name__ == '__main__':\n"
     ]
    }
   ],
   "source": [
    "ccab_data['Closed Date'] = ccab_data['Closed Date'].apply(lambda x:pd.to_datetime(x, format='%m/%d/%Y %I:%M:%S %p', errors='ignore'))"
   ]
  },
  {
   "cell_type": "code",
   "execution_count": 9,
   "metadata": {
    "collapsed": false
   },
   "outputs": [
    {
     "name": "stdout",
     "output_type": "stream",
     "text": [
      "<class 'pandas.core.frame.DataFrame'>\n",
      "RangeIndex: 1527 entries, 0 to 1526\n",
      "Data columns (total 4 columns):\n",
      "Created Date    1527 non-null datetime64[ns]\n",
      "Closed Date     1518 non-null datetime64[ns]\n",
      "Agency          1527 non-null object\n",
      "Borough         1526 non-null object\n",
      "dtypes: datetime64[ns](2), object(2)\n",
      "memory usage: 47.8+ KB\n"
     ]
    }
   ],
   "source": [
    "ccab_data.info()"
   ]
  },
  {
   "cell_type": "code",
   "execution_count": 10,
   "metadata": {
    "collapsed": false
   },
   "outputs": [
    {
     "name": "stderr",
     "output_type": "stream",
     "text": [
      "/Users/Beck/anaconda/envs/tflearn/lib/python3.5/site-packages/ipykernel/__main__.py:1: SettingWithCopyWarning: \n",
      "A value is trying to be set on a copy of a slice from a DataFrame.\n",
      "Try using .loc[row_indexer,col_indexer] = value instead\n",
      "\n",
      "See the caveats in the documentation: http://pandas.pydata.org/pandas-docs/stable/indexing.html#indexing-view-versus-copy\n",
      "  if __name__ == '__main__':\n"
     ]
    }
   ],
   "source": [
    "ccab_data['processing_time'] = ccab_data['Closed Date'] - ccab_data['Created Date']"
   ]
  },
  {
   "cell_type": "code",
   "execution_count": 11,
   "metadata": {
    "collapsed": false
   },
   "outputs": [
    {
     "data": {
      "text/html": [
       "<div>\n",
       "<style>\n",
       "    .dataframe thead tr:only-child th {\n",
       "        text-align: right;\n",
       "    }\n",
       "\n",
       "    .dataframe thead th {\n",
       "        text-align: left;\n",
       "    }\n",
       "\n",
       "    .dataframe tbody tr th {\n",
       "        vertical-align: top;\n",
       "    }\n",
       "</style>\n",
       "<table border=\"1\" class=\"dataframe\">\n",
       "  <thead>\n",
       "    <tr style=\"text-align: right;\">\n",
       "      <th></th>\n",
       "      <th>Created Date</th>\n",
       "      <th>Closed Date</th>\n",
       "      <th>Agency</th>\n",
       "      <th>Borough</th>\n",
       "      <th>processing_time</th>\n",
       "    </tr>\n",
       "  </thead>\n",
       "  <tbody>\n",
       "    <tr>\n",
       "      <th>0</th>\n",
       "      <td>2016-01-01 00:00:09</td>\n",
       "      <td>2016-01-01 01:57:32</td>\n",
       "      <td>NYPD</td>\n",
       "      <td>BROOKLYN</td>\n",
       "      <td>0 days 01:57:23</td>\n",
       "    </tr>\n",
       "    <tr>\n",
       "      <th>1</th>\n",
       "      <td>2016-01-01 00:00:40</td>\n",
       "      <td>2016-01-01 03:12:53</td>\n",
       "      <td>NYPD</td>\n",
       "      <td>BRONX</td>\n",
       "      <td>0 days 03:12:13</td>\n",
       "    </tr>\n",
       "    <tr>\n",
       "      <th>2</th>\n",
       "      <td>2016-01-01 00:01:09</td>\n",
       "      <td>2016-01-21 09:20:55</td>\n",
       "      <td>HPD</td>\n",
       "      <td>BRONX</td>\n",
       "      <td>20 days 09:19:46</td>\n",
       "    </tr>\n",
       "    <tr>\n",
       "      <th>3</th>\n",
       "      <td>2016-01-01 00:02:59</td>\n",
       "      <td>2016-01-01 23:35:50</td>\n",
       "      <td>NYPD</td>\n",
       "      <td>Unspecified</td>\n",
       "      <td>0 days 23:32:51</td>\n",
       "    </tr>\n",
       "    <tr>\n",
       "      <th>4</th>\n",
       "      <td>2016-01-01 00:03:03</td>\n",
       "      <td>2016-01-08 01:13:00</td>\n",
       "      <td>HPD</td>\n",
       "      <td>BRONX</td>\n",
       "      <td>7 days 01:09:57</td>\n",
       "    </tr>\n",
       "  </tbody>\n",
       "</table>\n",
       "</div>"
      ],
      "text/plain": [
       "         Created Date         Closed Date Agency      Borough  processing_time\n",
       "0 2016-01-01 00:00:09 2016-01-01 01:57:32   NYPD     BROOKLYN  0 days 01:57:23\n",
       "1 2016-01-01 00:00:40 2016-01-01 03:12:53   NYPD        BRONX  0 days 03:12:13\n",
       "2 2016-01-01 00:01:09 2016-01-21 09:20:55    HPD        BRONX 20 days 09:19:46\n",
       "3 2016-01-01 00:02:59 2016-01-01 23:35:50   NYPD  Unspecified  0 days 23:32:51\n",
       "4 2016-01-01 00:03:03 2016-01-08 01:13:00    HPD        BRONX  7 days 01:09:57"
      ]
     },
     "execution_count": 11,
     "metadata": {},
     "output_type": "execute_result"
    }
   ],
   "source": [
    "ccab_data[0:5]"
   ]
  },
  {
   "cell_type": "code",
   "execution_count": 12,
   "metadata": {
    "collapsed": false
   },
   "outputs": [
    {
     "name": "stderr",
     "output_type": "stream",
     "text": [
      "/Users/Beck/anaconda/envs/tflearn/lib/python3.5/site-packages/ipykernel/__main__.py:1: SettingWithCopyWarning: \n",
      "A value is trying to be set on a copy of a slice from a DataFrame.\n",
      "Try using .loc[row_indexer,col_indexer] = value instead\n",
      "\n",
      "See the caveats in the documentation: http://pandas.pydata.org/pandas-docs/stable/indexing.html#indexing-view-versus-copy\n",
      "  if __name__ == '__main__':\n"
     ]
    }
   ],
   "source": [
    "ccab_data['start_time_window'] = ccab_data['Created Date'].apply(lambda x:x.hour)"
   ]
  },
  {
   "cell_type": "code",
   "execution_count": 13,
   "metadata": {
    "collapsed": false
   },
   "outputs": [],
   "source": [
    "ccab_data.to_csv('output.csv')"
   ]
  },
  {
   "cell_type": "code",
   "execution_count": 14,
   "metadata": {
    "collapsed": false
   },
   "outputs": [],
   "source": [
    "data_output = pd.read_csv('output.csv')"
   ]
  },
  {
   "cell_type": "code",
   "execution_count": 16,
   "metadata": {
    "collapsed": false
   },
   "outputs": [],
   "source": [
    "def part1():\n",
    "    data = pd.read_csv('311_data.csv')\n",
    "    # Create a view of the dataframe containing specific columns\n",
    "    ccab_data = data[['Created Date', 'Closed Date', 'Agency', 'Borough']]\n",
    "    # Convert string to datetime type\n",
    "    ccab_data['Created Date'] = ccab_data['Created Date'].apply(lambda x:datetime.datetime.strptime(x, '%m/%d/%Y %I:%M:%S %p'))\n",
    "    ccab_data['Closed Date'] = ccab_data['Closed Date'].apply(lambda x:pd.to_datetime(x, format='%m/%d/%Y %I:%M:%S %p', errors='ignore'))\n",
    "    # create a column 'processing_time'\n",
    "    ccab_data['processing_time'] = ccab_data['Closed Date'] - ccab_data['Created Date']\n",
    "    # Create a new column - 'start_time_window' - that contains the hour of the day that the incident report was created\n",
    "    ccab_data['start_time_window'] = ccab_data['Created Date'].apply(lambda x:x.hour)\n",
    "    # output a csv file named output1.csv \n",
    "    ccab_data.to_csv('output1.csv')\n",
    "    return ccab_data"
   ]
  },
  {
   "cell_type": "code",
   "execution_count": 17,
   "metadata": {
    "collapsed": false
   },
   "outputs": [
    {
     "name": "stderr",
     "output_type": "stream",
     "text": [
      "/Users/Beck/anaconda/envs/tflearn/lib/python3.5/site-packages/ipykernel/__main__.py:6: SettingWithCopyWarning: \n",
      "A value is trying to be set on a copy of a slice from a DataFrame.\n",
      "Try using .loc[row_indexer,col_indexer] = value instead\n",
      "\n",
      "See the caveats in the documentation: http://pandas.pydata.org/pandas-docs/stable/indexing.html#indexing-view-versus-copy\n",
      "/Users/Beck/anaconda/envs/tflearn/lib/python3.5/site-packages/ipykernel/__main__.py:7: SettingWithCopyWarning: \n",
      "A value is trying to be set on a copy of a slice from a DataFrame.\n",
      "Try using .loc[row_indexer,col_indexer] = value instead\n",
      "\n",
      "See the caveats in the documentation: http://pandas.pydata.org/pandas-docs/stable/indexing.html#indexing-view-versus-copy\n",
      "/Users/Beck/anaconda/envs/tflearn/lib/python3.5/site-packages/ipykernel/__main__.py:9: SettingWithCopyWarning: \n",
      "A value is trying to be set on a copy of a slice from a DataFrame.\n",
      "Try using .loc[row_indexer,col_indexer] = value instead\n",
      "\n",
      "See the caveats in the documentation: http://pandas.pydata.org/pandas-docs/stable/indexing.html#indexing-view-versus-copy\n",
      "/Users/Beck/anaconda/envs/tflearn/lib/python3.5/site-packages/ipykernel/__main__.py:11: SettingWithCopyWarning: \n",
      "A value is trying to be set on a copy of a slice from a DataFrame.\n",
      "Try using .loc[row_indexer,col_indexer] = value instead\n",
      "\n",
      "See the caveats in the documentation: http://pandas.pydata.org/pandas-docs/stable/indexing.html#indexing-view-versus-copy\n"
     ]
    }
   ],
   "source": [
    "part1()"
   ]
  },
  {
   "cell_type": "code",
   "execution_count": 201,
   "metadata": {
    "collapsed": false
   },
   "outputs": [
    {
     "data": {
      "text/plain": [
       "<matplotlib.figure.Figure at 0x127d997b8>"
      ]
     },
     "metadata": {},
     "output_type": "display_data"
    }
   ],
   "source": [
    "import pandas as pd\n",
    "import numpy as np\n",
    "import datetime\n",
    "%matplotlib inline\n",
    "import seaborn as sns\n",
    "plt.gcf().subplots_adjust(bottom=0.15)\n",
    "#Your code starts here\n",
    "data = pd.read_csv('311_data_2.csv')\n",
    "# Convert string to datetime type\n",
    "data['Created Date'] = data['Created Date'].apply(lambda x:datetime.datetime.strptime(x, '%m/%d/%Y %I:%M:%S %p'))\n",
    "data['Closed Date'] = data['Closed Date'].apply(lambda x:pd.to_datetime(x, format='%m/%d/%Y %I:%M:%S %p', errors='ignore'))\n",
    "# create a column 'processing_time'\n",
    "data['processing_time'] = data['Closed Date'] - ccab_data['Created Date']\n",
    "# Create a new column - 'start_time_window' - that contains the hour of the day that the incident report was created\n",
    "data['start_time_window'] = data['Created Date'].apply(lambda x:x.hour)\n",
    "\n",
    "\n"
   ]
  },
  {
   "cell_type": "code",
   "execution_count": 202,
   "metadata": {
    "collapsed": false
   },
   "outputs": [],
   "source": [
    "def convert_time(x):\n",
    "    try:\n",
    "        x = np.timedelta64(x, 'h')\n",
    "        return x.astype('int').item()\n",
    "    except:\n",
    "        return 0"
   ]
  },
  {
   "cell_type": "code",
   "execution_count": 203,
   "metadata": {
    "collapsed": false
   },
   "outputs": [],
   "source": [
    "group_data = data\n",
    "group_data['processing_time'] = group_data['processing_time'].apply(lambda x:convert_time(x))\n",
    "#start_time_group['processing_time'] = start_time_group['processing_time'].apply(lambda x:np.timedelta64(x,'m'))\n",
    "#start_time_group.size().plot(kind='bar', figsize=(8,5.5))\n",
    "# plt.savefig(\"1.png\",dpi=100)\n",
    "# plt.clf()\n",
    "#group_data['processing_time']"
   ]
  },
  {
   "cell_type": "code",
   "execution_count": 238,
   "metadata": {
    "collapsed": false
   },
   "outputs": [
    {
     "data": {
      "text/plain": [
       "start_time_window\n",
       "0     15.206612\n",
       "1     70.585294\n",
       "2     55.587940\n",
       "3     73.202703\n",
       "4    110.696203\n",
       "5     60.723214\n",
       "6    124.646341\n",
       "7     60.652778\n",
       "8    138.030000\n",
       "Name: mean, dtype: float64"
      ]
     },
     "execution_count": 238,
     "metadata": {},
     "output_type": "execute_result"
    }
   ],
   "source": [
    "start_time_group = group_data.groupby('start_time_window').agg({'processing_time':['mean']})\n",
    "#start_time_group.size().plot('bar', figsize=(8,5.5))\n",
    "start_time_group['processing_time']['mean']"
   ]
  },
  {
   "cell_type": "code",
   "execution_count": 244,
   "metadata": {
    "collapsed": false
   },
   "outputs": [
    {
     "data": {
      "text/plain": [
       "<matplotlib.figure.Figure at 0x13d254940>"
      ]
     },
     "metadata": {},
     "output_type": "display_data"
    }
   ],
   "source": [
    "a4_dims = (8, 5.5)\n",
    "fig, ax = plt.subplots(figsize=a4_dims)\n",
    "#seaborn.voilinplot(ax=ax, data=df, **violin_options)\n",
    "plt.bar([0,1,2,3,4,5,6,7,8], start_time_group['processing_time']['mean'], align='center')\n",
    "ax.set_title('start_time_window')\n",
    "plt.savefig(\"1.png\",dpi=100)\n",
    "plt.clf()"
   ]
  },
  {
   "cell_type": "code",
   "execution_count": 40,
   "metadata": {
    "collapsed": false
   },
   "outputs": [
    {
     "data": {
      "text/plain": [
       "<matplotlib.figure.Figure at 0x130cf8d30>"
      ]
     },
     "metadata": {},
     "output_type": "display_data"
    }
   ],
   "source": [
    "a4_dims = (8, 5.5)\n",
    "fig, ax = plt.subplots(figsize=a4_dims)\n",
    "#seaborn.voilinplot(ax=ax, data=df, **violin_options)\n",
    "sns.boxplot(x='start_time_window', y='processing_time',ax=ax, data=data)\n",
    "plt.savefig(\"2.png\",dpi=100)\n",
    "plt.clf()"
   ]
  },
  {
   "cell_type": "code",
   "execution_count": 44,
   "metadata": {
    "collapsed": false
   },
   "outputs": [
    {
     "data": {
      "text/plain": [
       "<matplotlib.figure.Figure at 0x12e25ec18>"
      ]
     },
     "metadata": {},
     "output_type": "display_data"
    }
   ],
   "source": [
    "data.groupby('Agency').size().sort_values(ascending=False).plot(kind='bar',figsize=(8,5.5))\n",
    "plt.savefig(\"3.png\",dpi=100)\n",
    "plt.clf()"
   ]
  },
  {
   "cell_type": "code",
   "execution_count": 51,
   "metadata": {
    "collapsed": false
   },
   "outputs": [
    {
     "data": {
      "text/plain": [
       "<matplotlib.figure.Figure at 0x13dcc0da0>"
      ]
     },
     "metadata": {},
     "output_type": "display_data"
    }
   ],
   "source": [
    "COL_NUM = 2\n",
    "ROW_NUM = 3\n",
    "fig, axes = plt.subplots(ROW_NUM, COL_NUM, figsize=(12,12))\n",
    "\n",
    "for i, (label, col) in enumerate(data.groupby(['Agency', 'Borough']).size().unstack().iteritems()):\n",
    "    ax = axes[int(i/COL_NUM), i%COL_NUM]\n",
    "    col = col.sort_values(ascending=False)\n",
    "    ax.set_title(label)\n",
    "    col.plot(kind='barh', ax=ax)\n",
    "plt.tight_layout()\n",
    "plt.savefig(\"4.png\",dpi=100)\n",
    "plt.clf()"
   ]
  },
  {
   "cell_type": "code",
   "execution_count": null,
   "metadata": {
    "collapsed": true
   },
   "outputs": [],
   "source": []
  }
 ],
 "metadata": {
  "anaconda-cloud": {},
  "kernelspec": {
   "display_name": "Python [conda env:tflearn]",
   "language": "python",
   "name": "conda-env-tflearn-py"
  },
  "language_info": {
   "codemirror_mode": {
    "name": "ipython",
    "version": 3
   },
   "file_extension": ".py",
   "mimetype": "text/x-python",
   "name": "python",
   "nbconvert_exporter": "python",
   "pygments_lexer": "ipython3",
   "version": "3.5.2"
  }
 },
 "nbformat": 4,
 "nbformat_minor": 1
}
