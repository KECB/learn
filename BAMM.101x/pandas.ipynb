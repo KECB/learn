{
 "cells": [
  {
   "cell_type": "markdown",
   "metadata": {},
   "source": [
    "<h1>Pandas</h1>"
   ]
  },
  {
   "cell_type": "code",
   "execution_count": null,
   "metadata": {
    "collapsed": true
   },
   "outputs": [],
   "source": [
    "#installing pandas libraries\n",
    "!pip install pandas-datareader\n",
    "!pip install --upgrade html5lib==1.0b8\n",
    "\n",
    "#There is a bug in the latest version of html5lib so install an earlier version\n",
    "#Restart kernel after installing html5lib"
   ]
  },
  {
   "cell_type": "markdown",
   "metadata": {},
   "source": [
    "<h2>Imports</h2>"
   ]
  },
  {
   "cell_type": "code",
   "execution_count": 2,
   "metadata": {
    "collapsed": false
   },
   "outputs": [],
   "source": [
    "import pandas as pd #pandas library\n",
    "from pandas_datareader import data #data readers (google, html, etc.)\n",
    "#The following line ensures that graphs are rendered in the notebook\n",
    "%matplotlib inline \n",
    "import numpy as np\n",
    "import matplotlib.pyplot as plt #Plotting library\n",
    "import datetime as dt #datetime for timeseries support"
   ]
  },
  {
   "cell_type": "markdown",
   "metadata": {},
   "source": [
    "<h2>The structure of a dataframe</h2>"
   ]
  },
  {
   "cell_type": "code",
   "execution_count": 3,
   "metadata": {
    "collapsed": false
   },
   "outputs": [
    {
     "data": {
      "text/html": [
       "<div>\n",
       "<table border=\"1\" class=\"dataframe\">\n",
       "  <thead>\n",
       "    <tr style=\"text-align: right;\">\n",
       "      <th></th>\n",
       "      <th>A</th>\n",
       "      <th>B</th>\n",
       "      <th>C</th>\n",
       "    </tr>\n",
       "  </thead>\n",
       "  <tbody>\n",
       "    <tr>\n",
       "      <th>0</th>\n",
       "      <td>1</td>\n",
       "      <td>2</td>\n",
       "      <td>3</td>\n",
       "    </tr>\n",
       "    <tr>\n",
       "      <th>1</th>\n",
       "      <td>1</td>\n",
       "      <td>2</td>\n",
       "      <td>3</td>\n",
       "    </tr>\n",
       "  </tbody>\n",
       "</table>\n",
       "</div>"
      ],
      "text/plain": [
       "   A  B  C\n",
       "0  1  2  3\n",
       "1  1  2  3"
      ]
     },
     "execution_count": 3,
     "metadata": {},
     "output_type": "execute_result"
    }
   ],
   "source": [
    "pd.DataFrame([[1,2,3],[1,2,3]],columns=['A','B','C'])"
   ]
  },
  {
   "cell_type": "markdown",
   "metadata": {},
   "source": [
    "<h3>Accessing columns and rows</h3>"
   ]
  },
  {
   "cell_type": "code",
   "execution_count": 40,
   "metadata": {
    "collapsed": false
   },
   "outputs": [
    {
     "name": "stdout",
     "output_type": "stream",
     "text": [
      "4562807608\n",
      "4562807608\n"
     ]
    },
    {
     "data": {
      "text/html": [
       "<div>\n",
       "<table border=\"1\" class=\"dataframe\">\n",
       "  <thead>\n",
       "    <tr style=\"text-align: right;\">\n",
       "      <th></th>\n",
       "      <th>A</th>\n",
       "      <th>B</th>\n",
       "      <th>C</th>\n",
       "    </tr>\n",
       "    <tr>\n",
       "      <th>row_label</th>\n",
       "      <th></th>\n",
       "      <th></th>\n",
       "      <th></th>\n",
       "    </tr>\n",
       "  </thead>\n",
       "  <tbody>\n",
       "    <tr>\n",
       "      <th>r1</th>\n",
       "      <td>00</td>\n",
       "      <td>01</td>\n",
       "      <td>02</td>\n",
       "    </tr>\n",
       "    <tr>\n",
       "      <th>r2</th>\n",
       "      <td>10</td>\n",
       "      <td>11</td>\n",
       "      <td>12</td>\n",
       "    </tr>\n",
       "    <tr>\n",
       "      <th>r3</th>\n",
       "      <td>20</td>\n",
       "      <td>21</td>\n",
       "      <td>22</td>\n",
       "    </tr>\n",
       "  </tbody>\n",
       "</table>\n",
       "</div>"
      ],
      "text/plain": [
       "            A   B   C\n",
       "row_label            \n",
       "r1         00  01  02\n",
       "r2         10  11  12\n",
       "r3         20  21  22"
      ]
     },
     "execution_count": 40,
     "metadata": {},
     "output_type": "execute_result"
    }
   ],
   "source": [
    "df = pd.DataFrame([['r1','00','01','02'],['r2','10','11','12'],['r3','20','21','22']],columns=['row_label','A','B','C'])\n",
    "print(id(df))\n",
    "df.set_index('row_label',inplace=True)\n",
    "print(id(df))\n",
    "df"
   ]
  },
  {
   "cell_type": "code",
   "execution_count": 39,
   "metadata": {
    "collapsed": false
   },
   "outputs": [
    {
     "name": "stdout",
     "output_type": "stream",
     "text": [
      "    age diabetes    nationality  type\n",
      "a  25.0      yes             UK     1\n",
      "b  30.0      yes          China     3\n",
      "c  15.0       no  United States     2\n",
      "d   NaN      yes             UK     3\n",
      "e  25.0       no          Japan     2\n",
      "f  22.0       no          China     3\n",
      "g   NaN       no             UK     1\n",
      "h  45.0      yes             UK     1\n",
      "i  18.0       no          Japan     2\n",
      "j  33.0       no  United States     1\n"
     ]
    }
   ],
   "source": [
    "data = {'nationality': ['UK', 'China', 'US', 'UK', 'Japan', 'China', 'UK', 'UK', 'Japan', 'US'],\n",
    "        'age': [25, 30, 15, np.nan, 25, 22, np.nan,45 ,18, 33],\n",
    "        'type': [1, 3, 2, 3, 2, 3, 1, 1, 2, 1],\n",
    "        'diabetes': ['yes', 'yes', 'no', 'yes', 'no', 'no', 'no', 'yes', 'no', 'no']}\n",
    "\n",
    "labels = ['a', 'b', 'c', 'd', 'e', 'f', 'g', 'h', 'i', 'j']\n",
    "df=pd.DataFrame(data=data,index=labels)\n",
    "#print(df[df['age'].between(20,30)])\n",
    "#print(df.groupby('nationality').mean()['age'])\n",
    "#print(df.sort_values(by=['age','type'],ascending=[False,True]))\n",
    "df['nationality'] = df['nationality'].replace('US','United States')\n",
    "print(df)"
   ]
  },
  {
   "cell_type": "code",
   "execution_count": 41,
   "metadata": {
    "collapsed": false
   },
   "outputs": [
    {
     "data": {
      "text/plain": [
       "A    10\n",
       "B    11\n",
       "C    12\n",
       "Name: r2, dtype: object"
      ]
     },
     "execution_count": 41,
     "metadata": {},
     "output_type": "execute_result"
    }
   ],
   "source": [
    "df.ix[1]"
   ]
  },
  {
   "cell_type": "markdown",
   "metadata": {},
   "source": [
    "<h3>Getting column data</h3>"
   ]
  },
  {
   "cell_type": "code",
   "execution_count": 42,
   "metadata": {
    "collapsed": false
   },
   "outputs": [
    {
     "data": {
      "text/plain": [
       "row_label\n",
       "r1    01\n",
       "r2    11\n",
       "r3    21\n",
       "Name: B, dtype: object"
      ]
     },
     "execution_count": 42,
     "metadata": {},
     "output_type": "execute_result"
    }
   ],
   "source": [
    "df['B']"
   ]
  },
  {
   "cell_type": "markdown",
   "metadata": {},
   "source": [
    "<h3>Getting row data</h3>"
   ]
  },
  {
   "cell_type": "code",
   "execution_count": 43,
   "metadata": {
    "collapsed": false
   },
   "outputs": [
    {
     "data": {
      "text/plain": [
       "A    00\n",
       "B    01\n",
       "C    02\n",
       "Name: r1, dtype: object"
      ]
     },
     "execution_count": 43,
     "metadata": {},
     "output_type": "execute_result"
    }
   ],
   "source": [
    "df.loc['r1']"
   ]
  },
  {
   "cell_type": "markdown",
   "metadata": {},
   "source": [
    "<h3>Getting a row by row number</h3>"
   ]
  },
  {
   "cell_type": "code",
   "execution_count": 44,
   "metadata": {
    "collapsed": false
   },
   "outputs": [
    {
     "data": {
      "text/plain": [
       "A    00\n",
       "B    01\n",
       "C    02\n",
       "Name: r1, dtype: object"
      ]
     },
     "execution_count": 44,
     "metadata": {},
     "output_type": "execute_result"
    }
   ],
   "source": [
    "df.iloc[0]"
   ]
  },
  {
   "cell_type": "markdown",
   "metadata": {},
   "source": [
    "<h3>Getting multiple columns<h3>"
   ]
  },
  {
   "cell_type": "code",
   "execution_count": 45,
   "metadata": {
    "collapsed": false
   },
   "outputs": [
    {
     "data": {
      "text/html": [
       "<div>\n",
       "<table border=\"1\" class=\"dataframe\">\n",
       "  <thead>\n",
       "    <tr style=\"text-align: right;\">\n",
       "      <th></th>\n",
       "      <th>B</th>\n",
       "      <th>A</th>\n",
       "    </tr>\n",
       "    <tr>\n",
       "      <th>row_label</th>\n",
       "      <th></th>\n",
       "      <th></th>\n",
       "    </tr>\n",
       "  </thead>\n",
       "  <tbody>\n",
       "    <tr>\n",
       "      <th>r1</th>\n",
       "      <td>01</td>\n",
       "      <td>00</td>\n",
       "    </tr>\n",
       "    <tr>\n",
       "      <th>r2</th>\n",
       "      <td>11</td>\n",
       "      <td>10</td>\n",
       "    </tr>\n",
       "    <tr>\n",
       "      <th>r3</th>\n",
       "      <td>21</td>\n",
       "      <td>20</td>\n",
       "    </tr>\n",
       "  </tbody>\n",
       "</table>\n",
       "</div>"
      ],
      "text/plain": [
       "            B   A\n",
       "row_label        \n",
       "r1         01  00\n",
       "r2         11  10\n",
       "r3         21  20"
      ]
     },
     "execution_count": 45,
     "metadata": {},
     "output_type": "execute_result"
    }
   ],
   "source": [
    "df[['B','A']] #Note that the column identifiers are in a list"
   ]
  },
  {
   "cell_type": "markdown",
   "metadata": {},
   "source": [
    "<h3>Getting a specific cell</h3>"
   ]
  },
  {
   "cell_type": "code",
   "execution_count": 46,
   "metadata": {
    "collapsed": false
   },
   "outputs": [
    {
     "data": {
      "text/plain": [
       "'11'"
      ]
     },
     "execution_count": 46,
     "metadata": {},
     "output_type": "execute_result"
    }
   ],
   "source": [
    "df.loc['r2','B']"
   ]
  },
  {
   "cell_type": "code",
   "execution_count": 47,
   "metadata": {
    "collapsed": false
   },
   "outputs": [
    {
     "data": {
      "text/plain": [
       "'10'"
      ]
     },
     "execution_count": 47,
     "metadata": {},
     "output_type": "execute_result"
    }
   ],
   "source": [
    "df.loc['r2']['A']"
   ]
  },
  {
   "cell_type": "markdown",
   "metadata": {},
   "source": [
    "<h3>Slicing</h3>"
   ]
  },
  {
   "cell_type": "code",
   "execution_count": 49,
   "metadata": {
    "collapsed": false
   },
   "outputs": [
    {
     "name": "stdout",
     "output_type": "stream",
     "text": [
      "            A   B   C\n",
      "row_label            \n",
      "r1         00  01  02\n",
      "r2         10  11  12\n",
      "r3         20  21  22\n",
      "            A   B   C\n",
      "row_label            \n",
      "r1         00  01  02\n",
      "r2         10  11  12\n"
     ]
    }
   ],
   "source": [
    "print(df)\n",
    "print(df.loc['r1':'r2'])"
   ]
  },
  {
   "cell_type": "code",
   "execution_count": 50,
   "metadata": {
    "collapsed": false
   },
   "outputs": [
    {
     "data": {
      "text/html": [
       "<div>\n",
       "<table border=\"1\" class=\"dataframe\">\n",
       "  <thead>\n",
       "    <tr style=\"text-align: right;\">\n",
       "      <th></th>\n",
       "      <th>B</th>\n",
       "      <th>C</th>\n",
       "    </tr>\n",
       "    <tr>\n",
       "      <th>row_label</th>\n",
       "      <th></th>\n",
       "      <th></th>\n",
       "    </tr>\n",
       "  </thead>\n",
       "  <tbody>\n",
       "    <tr>\n",
       "      <th>r1</th>\n",
       "      <td>01</td>\n",
       "      <td>02</td>\n",
       "    </tr>\n",
       "    <tr>\n",
       "      <th>r2</th>\n",
       "      <td>11</td>\n",
       "      <td>12</td>\n",
       "    </tr>\n",
       "  </tbody>\n",
       "</table>\n",
       "</div>"
      ],
      "text/plain": [
       "            B   C\n",
       "row_label        \n",
       "r1         01  02\n",
       "r2         11  12"
      ]
     },
     "execution_count": 50,
     "metadata": {},
     "output_type": "execute_result"
    }
   ],
   "source": [
    "df.loc['r1':'r2','B':'C']"
   ]
  },
  {
   "cell_type": "markdown",
   "metadata": {},
   "source": [
    "<h2>Pandas datareader</h2>\n",
    "<li>Access data from html tables on any web page</li>\n",
    "<li>Get data from google finance</li>\n",
    "<li>Get data from the federal reserve</li>"
   ]
  },
  {
   "cell_type": "markdown",
   "metadata": {},
   "source": [
    "<h3>HTML Tables</h3>\n",
    "<li>Pandas datareader can read a table in an html page into a dataframe\n",
    "<li>the read_html function returns a list of all dataframes with one dataframe for each html table on the page"
   ]
  },
  {
   "cell_type": "markdown",
   "metadata": {},
   "source": [
    "<h4>Example: Read the tables on the google finance page</h4>"
   ]
  },
  {
   "cell_type": "code",
   "execution_count": 60,
   "metadata": {
    "collapsed": false
   },
   "outputs": [
    {
     "name": "stdout",
     "output_type": "stream",
     "text": [
      "2\n"
     ]
    }
   ],
   "source": [
    "#df_list = pd.read_html('http://www.bloomberg.com/markets/currencies/major')\n",
    "df_list = pd.read_html('http://www.waihuipaijia.cn/'\n",
    "                      , encoding='utf-8')\n",
    "print(len(df_list))"
   ]
  },
  {
   "cell_type": "markdown",
   "metadata": {},
   "source": [
    "<h4>The page contains only one table so the read_html function returns a list of one element</h4>"
   ]
  },
  {
   "cell_type": "code",
   "execution_count": 61,
   "metadata": {
    "collapsed": false
   },
   "outputs": [
    {
     "name": "stdout",
     "output_type": "stream",
     "text": [
      "          0                                         1\n",
      "0  中行外汇牌价查询  中国银行外汇牌价更新：2017-08-30 06:37:40 外汇交易平台排行榜\n"
     ]
    }
   ],
   "source": [
    "df = df_list[0]\n",
    "print(df)"
   ]
  },
  {
   "cell_type": "markdown",
   "metadata": {},
   "source": [
    "<h4>Note that the read_html function has automatically detected the header columns</h4>\n",
    "<h4>If an index is necessary, we need to explicitly specify it</h4>"
   ]
  },
  {
   "cell_type": "code",
   "execution_count": null,
   "metadata": {
    "collapsed": false
   },
   "outputs": [],
   "source": [
    "df.set_index('Currency',inplace=True)\n",
    "print(df)"
   ]
  },
  {
   "cell_type": "markdown",
   "metadata": {},
   "source": [
    "<h4>Now we can use .loc to extract specific currency rates</h4>"
   ]
  },
  {
   "cell_type": "code",
   "execution_count": null,
   "metadata": {
    "collapsed": false
   },
   "outputs": [],
   "source": [
    "df.loc['EUR-CHF','Value']"
   ]
  },
  {
   "cell_type": "markdown",
   "metadata": {},
   "source": [
    "<h3>Working with views and copies</h3>"
   ]
  },
  {
   "cell_type": "markdown",
   "metadata": {},
   "source": [
    "<h4>Chained indexing creates a copy and changes to the copy won't be reflected in the original dataframe</h4>"
   ]
  },
  {
   "cell_type": "code",
   "execution_count": null,
   "metadata": {
    "collapsed": false
   },
   "outputs": [],
   "source": [
    "eur_usd = df.loc['EUR-USD']['Change'] #This is chained indexing\n",
    "df.loc['EUR-USD']['Change'] = 1.0 #Here we are changing a value in a copy of the dataframe\n",
    "print(eur_usd)\n",
    "print(df.loc['EUR-USD']['Change']) #Neither eur_usd, nor the dataframe are changed"
   ]
  },
  {
   "cell_type": "code",
   "execution_count": null,
   "metadata": {
    "collapsed": false
   },
   "outputs": [],
   "source": [
    "eur_usd = df.loc['EUR-USD','Change'] #eur_usd points to the value inside the dataframe\n",
    "df.loc['EUR-USD','Change'] = 1.0 #Change the value in the view \n",
    "print(eur_usd) #eur_usd is changed (because it points to the view)\n",
    "print(df.loc['EUR-USD']['Change']) #The dataframe has been correctly updated"
   ]
  },
  {
   "cell_type": "markdown",
   "metadata": {},
   "source": [
    "<h2>Getting historical stock prices from Google financs</h2>\n",
    "Usage: DataReader(ticker,source,startdate,enddate)<br>\n",
    "Unfortunately, the Yahoo finance datareader has stopped working because of a change to Yahoo's website\n"
   ]
  },
  {
   "cell_type": "code",
   "execution_count": 62,
   "metadata": {
    "collapsed": false
   },
   "outputs": [
    {
     "name": "stdout",
     "output_type": "stream",
     "text": [
      "2017-01-01 00:00:00 2017-08-30 14:58:14.819387\n"
     ]
    }
   ],
   "source": [
    "from pandas_datareader import data\n",
    "import datetime as dt\n",
    "start=dt.datetime(2017, 1, 1)\n",
    "end=dt.datetime.today()\n",
    "\n",
    "\n",
    "print(start,end)\n",
    "\n",
    "\n",
    "df = data.DataReader('IBM', 'google', start, end)\n"
   ]
  },
  {
   "cell_type": "code",
   "execution_count": 63,
   "metadata": {
    "collapsed": false
   },
   "outputs": [
    {
     "data": {
      "text/html": [
       "<div>\n",
       "<table border=\"1\" class=\"dataframe\">\n",
       "  <thead>\n",
       "    <tr style=\"text-align: right;\">\n",
       "      <th></th>\n",
       "      <th>Open</th>\n",
       "      <th>High</th>\n",
       "      <th>Low</th>\n",
       "      <th>Close</th>\n",
       "      <th>Volume</th>\n",
       "    </tr>\n",
       "    <tr>\n",
       "      <th>Date</th>\n",
       "      <th></th>\n",
       "      <th></th>\n",
       "      <th></th>\n",
       "      <th></th>\n",
       "      <th></th>\n",
       "    </tr>\n",
       "  </thead>\n",
       "  <tbody>\n",
       "    <tr>\n",
       "      <th>2017-01-03</th>\n",
       "      <td>167.00</td>\n",
       "      <td>167.87</td>\n",
       "      <td>166.01</td>\n",
       "      <td>167.19</td>\n",
       "      <td>2934299</td>\n",
       "    </tr>\n",
       "    <tr>\n",
       "      <th>2017-01-04</th>\n",
       "      <td>167.77</td>\n",
       "      <td>169.87</td>\n",
       "      <td>167.36</td>\n",
       "      <td>169.26</td>\n",
       "      <td>3381432</td>\n",
       "    </tr>\n",
       "    <tr>\n",
       "      <th>2017-01-05</th>\n",
       "      <td>169.25</td>\n",
       "      <td>169.39</td>\n",
       "      <td>167.26</td>\n",
       "      <td>168.70</td>\n",
       "      <td>2682301</td>\n",
       "    </tr>\n",
       "    <tr>\n",
       "      <th>2017-01-06</th>\n",
       "      <td>168.69</td>\n",
       "      <td>169.92</td>\n",
       "      <td>167.52</td>\n",
       "      <td>169.53</td>\n",
       "      <td>2945536</td>\n",
       "    </tr>\n",
       "    <tr>\n",
       "      <th>2017-01-09</th>\n",
       "      <td>169.47</td>\n",
       "      <td>169.80</td>\n",
       "      <td>167.62</td>\n",
       "      <td>167.65</td>\n",
       "      <td>3189891</td>\n",
       "    </tr>\n",
       "    <tr>\n",
       "      <th>2017-01-10</th>\n",
       "      <td>167.98</td>\n",
       "      <td>168.09</td>\n",
       "      <td>165.34</td>\n",
       "      <td>165.52</td>\n",
       "      <td>4118694</td>\n",
       "    </tr>\n",
       "    <tr>\n",
       "      <th>2017-01-11</th>\n",
       "      <td>166.05</td>\n",
       "      <td>167.76</td>\n",
       "      <td>165.60</td>\n",
       "      <td>167.75</td>\n",
       "      <td>3599464</td>\n",
       "    </tr>\n",
       "    <tr>\n",
       "      <th>2017-01-12</th>\n",
       "      <td>167.77</td>\n",
       "      <td>168.01</td>\n",
       "      <td>165.56</td>\n",
       "      <td>167.95</td>\n",
       "      <td>2927973</td>\n",
       "    </tr>\n",
       "    <tr>\n",
       "      <th>2017-01-13</th>\n",
       "      <td>167.97</td>\n",
       "      <td>168.48</td>\n",
       "      <td>166.88</td>\n",
       "      <td>167.34</td>\n",
       "      <td>2875433</td>\n",
       "    </tr>\n",
       "    <tr>\n",
       "      <th>2017-01-17</th>\n",
       "      <td>166.69</td>\n",
       "      <td>168.18</td>\n",
       "      <td>166.12</td>\n",
       "      <td>167.89</td>\n",
       "      <td>3315655</td>\n",
       "    </tr>\n",
       "    <tr>\n",
       "      <th>2017-01-18</th>\n",
       "      <td>167.45</td>\n",
       "      <td>168.59</td>\n",
       "      <td>166.69</td>\n",
       "      <td>166.80</td>\n",
       "      <td>4007779</td>\n",
       "    </tr>\n",
       "    <tr>\n",
       "      <th>2017-01-19</th>\n",
       "      <td>166.96</td>\n",
       "      <td>167.45</td>\n",
       "      <td>165.80</td>\n",
       "      <td>166.81</td>\n",
       "      <td>6963386</td>\n",
       "    </tr>\n",
       "    <tr>\n",
       "      <th>2017-01-20</th>\n",
       "      <td>167.81</td>\n",
       "      <td>170.64</td>\n",
       "      <td>166.00</td>\n",
       "      <td>170.55</td>\n",
       "      <td>12690029</td>\n",
       "    </tr>\n",
       "    <tr>\n",
       "      <th>2017-01-23</th>\n",
       "      <td>170.08</td>\n",
       "      <td>171.25</td>\n",
       "      <td>170.01</td>\n",
       "      <td>171.03</td>\n",
       "      <td>5478224</td>\n",
       "    </tr>\n",
       "    <tr>\n",
       "      <th>2017-01-24</th>\n",
       "      <td>171.36</td>\n",
       "      <td>176.00</td>\n",
       "      <td>171.16</td>\n",
       "      <td>175.90</td>\n",
       "      <td>6952369</td>\n",
       "    </tr>\n",
       "    <tr>\n",
       "      <th>2017-01-25</th>\n",
       "      <td>176.26</td>\n",
       "      <td>179.25</td>\n",
       "      <td>176.13</td>\n",
       "      <td>178.29</td>\n",
       "      <td>5922462</td>\n",
       "    </tr>\n",
       "    <tr>\n",
       "      <th>2017-01-26</th>\n",
       "      <td>178.06</td>\n",
       "      <td>178.88</td>\n",
       "      <td>177.51</td>\n",
       "      <td>178.66</td>\n",
       "      <td>3063924</td>\n",
       "    </tr>\n",
       "    <tr>\n",
       "      <th>2017-01-27</th>\n",
       "      <td>178.47</td>\n",
       "      <td>179.20</td>\n",
       "      <td>177.30</td>\n",
       "      <td>177.30</td>\n",
       "      <td>3482311</td>\n",
       "    </tr>\n",
       "    <tr>\n",
       "      <th>2017-01-30</th>\n",
       "      <td>176.98</td>\n",
       "      <td>177.07</td>\n",
       "      <td>174.58</td>\n",
       "      <td>175.80</td>\n",
       "      <td>4094755</td>\n",
       "    </tr>\n",
       "    <tr>\n",
       "      <th>2017-01-31</th>\n",
       "      <td>175.05</td>\n",
       "      <td>175.58</td>\n",
       "      <td>173.61</td>\n",
       "      <td>174.52</td>\n",
       "      <td>4138962</td>\n",
       "    </tr>\n",
       "    <tr>\n",
       "      <th>2017-02-01</th>\n",
       "      <td>175.00</td>\n",
       "      <td>175.70</td>\n",
       "      <td>172.89</td>\n",
       "      <td>174.29</td>\n",
       "      <td>2795745</td>\n",
       "    </tr>\n",
       "    <tr>\n",
       "      <th>2017-02-02</th>\n",
       "      <td>174.23</td>\n",
       "      <td>174.97</td>\n",
       "      <td>173.55</td>\n",
       "      <td>174.58</td>\n",
       "      <td>2620526</td>\n",
       "    </tr>\n",
       "    <tr>\n",
       "      <th>2017-02-03</th>\n",
       "      <td>175.00</td>\n",
       "      <td>176.34</td>\n",
       "      <td>174.89</td>\n",
       "      <td>175.82</td>\n",
       "      <td>3309288</td>\n",
       "    </tr>\n",
       "    <tr>\n",
       "      <th>2017-02-06</th>\n",
       "      <td>175.31</td>\n",
       "      <td>175.98</td>\n",
       "      <td>174.38</td>\n",
       "      <td>175.86</td>\n",
       "      <td>2650785</td>\n",
       "    </tr>\n",
       "    <tr>\n",
       "      <th>2017-02-07</th>\n",
       "      <td>176.00</td>\n",
       "      <td>178.62</td>\n",
       "      <td>175.90</td>\n",
       "      <td>178.46</td>\n",
       "      <td>3873455</td>\n",
       "    </tr>\n",
       "    <tr>\n",
       "      <th>2017-02-08</th>\n",
       "      <td>177.50</td>\n",
       "      <td>177.50</td>\n",
       "      <td>175.88</td>\n",
       "      <td>176.17</td>\n",
       "      <td>2913126</td>\n",
       "    </tr>\n",
       "    <tr>\n",
       "      <th>2017-02-09</th>\n",
       "      <td>176.17</td>\n",
       "      <td>177.80</td>\n",
       "      <td>175.91</td>\n",
       "      <td>177.21</td>\n",
       "      <td>3090710</td>\n",
       "    </tr>\n",
       "    <tr>\n",
       "      <th>2017-02-10</th>\n",
       "      <td>177.37</td>\n",
       "      <td>178.87</td>\n",
       "      <td>176.76</td>\n",
       "      <td>178.68</td>\n",
       "      <td>2930710</td>\n",
       "    </tr>\n",
       "    <tr>\n",
       "      <th>2017-02-13</th>\n",
       "      <td>179.24</td>\n",
       "      <td>179.90</td>\n",
       "      <td>178.84</td>\n",
       "      <td>179.36</td>\n",
       "      <td>3093372</td>\n",
       "    </tr>\n",
       "    <tr>\n",
       "      <th>2017-02-14</th>\n",
       "      <td>178.57</td>\n",
       "      <td>180.13</td>\n",
       "      <td>178.35</td>\n",
       "      <td>180.13</td>\n",
       "      <td>2776528</td>\n",
       "    </tr>\n",
       "    <tr>\n",
       "      <th>...</th>\n",
       "      <td>...</td>\n",
       "      <td>...</td>\n",
       "      <td>...</td>\n",
       "      <td>...</td>\n",
       "      <td>...</td>\n",
       "    </tr>\n",
       "    <tr>\n",
       "      <th>2017-07-19</th>\n",
       "      <td>150.02</td>\n",
       "      <td>150.25</td>\n",
       "      <td>146.71</td>\n",
       "      <td>147.53</td>\n",
       "      <td>14293610</td>\n",
       "    </tr>\n",
       "    <tr>\n",
       "      <th>2017-07-20</th>\n",
       "      <td>147.53</td>\n",
       "      <td>148.83</td>\n",
       "      <td>147.03</td>\n",
       "      <td>147.66</td>\n",
       "      <td>7212233</td>\n",
       "    </tr>\n",
       "    <tr>\n",
       "      <th>2017-07-21</th>\n",
       "      <td>147.59</td>\n",
       "      <td>147.87</td>\n",
       "      <td>146.51</td>\n",
       "      <td>147.08</td>\n",
       "      <td>6509459</td>\n",
       "    </tr>\n",
       "    <tr>\n",
       "      <th>2017-07-24</th>\n",
       "      <td>147.00</td>\n",
       "      <td>147.04</td>\n",
       "      <td>145.80</td>\n",
       "      <td>145.99</td>\n",
       "      <td>3877593</td>\n",
       "    </tr>\n",
       "    <tr>\n",
       "      <th>2017-07-25</th>\n",
       "      <td>146.57</td>\n",
       "      <td>147.49</td>\n",
       "      <td>146.03</td>\n",
       "      <td>146.19</td>\n",
       "      <td>4208895</td>\n",
       "    </tr>\n",
       "    <tr>\n",
       "      <th>2017-07-26</th>\n",
       "      <td>146.27</td>\n",
       "      <td>146.46</td>\n",
       "      <td>144.47</td>\n",
       "      <td>145.36</td>\n",
       "      <td>3932361</td>\n",
       "    </tr>\n",
       "    <tr>\n",
       "      <th>2017-07-27</th>\n",
       "      <td>145.00</td>\n",
       "      <td>145.40</td>\n",
       "      <td>143.64</td>\n",
       "      <td>145.07</td>\n",
       "      <td>6430841</td>\n",
       "    </tr>\n",
       "    <tr>\n",
       "      <th>2017-07-28</th>\n",
       "      <td>144.81</td>\n",
       "      <td>145.04</td>\n",
       "      <td>143.84</td>\n",
       "      <td>144.29</td>\n",
       "      <td>3054834</td>\n",
       "    </tr>\n",
       "    <tr>\n",
       "      <th>2017-07-31</th>\n",
       "      <td>NaN</td>\n",
       "      <td>144.93</td>\n",
       "      <td>NaN</td>\n",
       "      <td>144.67</td>\n",
       "      <td>4355718</td>\n",
       "    </tr>\n",
       "    <tr>\n",
       "      <th>2017-08-01</th>\n",
       "      <td>145.00</td>\n",
       "      <td>145.67</td>\n",
       "      <td>144.72</td>\n",
       "      <td>145.30</td>\n",
       "      <td>3219477</td>\n",
       "    </tr>\n",
       "    <tr>\n",
       "      <th>2017-08-02</th>\n",
       "      <td>145.12</td>\n",
       "      <td>145.29</td>\n",
       "      <td>144.22</td>\n",
       "      <td>144.45</td>\n",
       "      <td>3540949</td>\n",
       "    </tr>\n",
       "    <tr>\n",
       "      <th>2017-08-03</th>\n",
       "      <td>144.43</td>\n",
       "      <td>145.34</td>\n",
       "      <td>144.43</td>\n",
       "      <td>144.94</td>\n",
       "      <td>3035393</td>\n",
       "    </tr>\n",
       "    <tr>\n",
       "      <th>2017-08-04</th>\n",
       "      <td>145.00</td>\n",
       "      <td>145.39</td>\n",
       "      <td>144.40</td>\n",
       "      <td>145.16</td>\n",
       "      <td>2549400</td>\n",
       "    </tr>\n",
       "    <tr>\n",
       "      <th>2017-08-07</th>\n",
       "      <td>145.00</td>\n",
       "      <td>145.09</td>\n",
       "      <td>142.75</td>\n",
       "      <td>143.47</td>\n",
       "      <td>4618284</td>\n",
       "    </tr>\n",
       "    <tr>\n",
       "      <th>2017-08-08</th>\n",
       "      <td>142.00</td>\n",
       "      <td>142.76</td>\n",
       "      <td>142.00</td>\n",
       "      <td>142.11</td>\n",
       "      <td>3298718</td>\n",
       "    </tr>\n",
       "    <tr>\n",
       "      <th>2017-08-09</th>\n",
       "      <td>141.75</td>\n",
       "      <td>142.03</td>\n",
       "      <td>141.19</td>\n",
       "      <td>141.77</td>\n",
       "      <td>2925770</td>\n",
       "    </tr>\n",
       "    <tr>\n",
       "      <th>2017-08-10</th>\n",
       "      <td>141.64</td>\n",
       "      <td>142.42</td>\n",
       "      <td>141.23</td>\n",
       "      <td>141.84</td>\n",
       "      <td>4525378</td>\n",
       "    </tr>\n",
       "    <tr>\n",
       "      <th>2017-08-11</th>\n",
       "      <td>142.45</td>\n",
       "      <td>142.59</td>\n",
       "      <td>141.52</td>\n",
       "      <td>141.84</td>\n",
       "      <td>3004360</td>\n",
       "    </tr>\n",
       "    <tr>\n",
       "      <th>2017-08-14</th>\n",
       "      <td>142.00</td>\n",
       "      <td>142.76</td>\n",
       "      <td>141.94</td>\n",
       "      <td>142.32</td>\n",
       "      <td>2248607</td>\n",
       "    </tr>\n",
       "    <tr>\n",
       "      <th>2017-08-15</th>\n",
       "      <td>142.55</td>\n",
       "      <td>143.34</td>\n",
       "      <td>140.58</td>\n",
       "      <td>142.07</td>\n",
       "      <td>4681545</td>\n",
       "    </tr>\n",
       "    <tr>\n",
       "      <th>2017-08-16</th>\n",
       "      <td>141.79</td>\n",
       "      <td>142.91</td>\n",
       "      <td>141.61</td>\n",
       "      <td>142.50</td>\n",
       "      <td>3287821</td>\n",
       "    </tr>\n",
       "    <tr>\n",
       "      <th>2017-08-17</th>\n",
       "      <td>142.52</td>\n",
       "      <td>142.89</td>\n",
       "      <td>140.70</td>\n",
       "      <td>140.70</td>\n",
       "      <td>4422087</td>\n",
       "    </tr>\n",
       "    <tr>\n",
       "      <th>2017-08-18</th>\n",
       "      <td>140.87</td>\n",
       "      <td>141.15</td>\n",
       "      <td>139.58</td>\n",
       "      <td>139.70</td>\n",
       "      <td>4152714</td>\n",
       "    </tr>\n",
       "    <tr>\n",
       "      <th>2017-08-21</th>\n",
       "      <td>139.59</td>\n",
       "      <td>140.42</td>\n",
       "      <td>139.13</td>\n",
       "      <td>140.33</td>\n",
       "      <td>3190691</td>\n",
       "    </tr>\n",
       "    <tr>\n",
       "      <th>2017-08-22</th>\n",
       "      <td>140.64</td>\n",
       "      <td>141.15</td>\n",
       "      <td>140.38</td>\n",
       "      <td>141.01</td>\n",
       "      <td>2544446</td>\n",
       "    </tr>\n",
       "    <tr>\n",
       "      <th>2017-08-23</th>\n",
       "      <td>140.70</td>\n",
       "      <td>143.05</td>\n",
       "      <td>140.68</td>\n",
       "      <td>142.14</td>\n",
       "      <td>4048317</td>\n",
       "    </tr>\n",
       "    <tr>\n",
       "      <th>2017-08-24</th>\n",
       "      <td>142.50</td>\n",
       "      <td>143.68</td>\n",
       "      <td>142.25</td>\n",
       "      <td>142.94</td>\n",
       "      <td>3592183</td>\n",
       "    </tr>\n",
       "    <tr>\n",
       "      <th>2017-08-25</th>\n",
       "      <td>143.30</td>\n",
       "      <td>144.19</td>\n",
       "      <td>143.25</td>\n",
       "      <td>143.74</td>\n",
       "      <td>2872893</td>\n",
       "    </tr>\n",
       "    <tr>\n",
       "      <th>2017-08-28</th>\n",
       "      <td>144.11</td>\n",
       "      <td>144.56</td>\n",
       "      <td>142.39</td>\n",
       "      <td>142.51</td>\n",
       "      <td>5134463</td>\n",
       "    </tr>\n",
       "    <tr>\n",
       "      <th>2017-08-29</th>\n",
       "      <td>142.10</td>\n",
       "      <td>143.42</td>\n",
       "      <td>141.90</td>\n",
       "      <td>143.14</td>\n",
       "      <td>3009520</td>\n",
       "    </tr>\n",
       "  </tbody>\n",
       "</table>\n",
       "<p>166 rows × 5 columns</p>\n",
       "</div>"
      ],
      "text/plain": [
       "              Open    High     Low   Close    Volume\n",
       "Date                                                \n",
       "2017-01-03  167.00  167.87  166.01  167.19   2934299\n",
       "2017-01-04  167.77  169.87  167.36  169.26   3381432\n",
       "2017-01-05  169.25  169.39  167.26  168.70   2682301\n",
       "2017-01-06  168.69  169.92  167.52  169.53   2945536\n",
       "2017-01-09  169.47  169.80  167.62  167.65   3189891\n",
       "2017-01-10  167.98  168.09  165.34  165.52   4118694\n",
       "2017-01-11  166.05  167.76  165.60  167.75   3599464\n",
       "2017-01-12  167.77  168.01  165.56  167.95   2927973\n",
       "2017-01-13  167.97  168.48  166.88  167.34   2875433\n",
       "2017-01-17  166.69  168.18  166.12  167.89   3315655\n",
       "2017-01-18  167.45  168.59  166.69  166.80   4007779\n",
       "2017-01-19  166.96  167.45  165.80  166.81   6963386\n",
       "2017-01-20  167.81  170.64  166.00  170.55  12690029\n",
       "2017-01-23  170.08  171.25  170.01  171.03   5478224\n",
       "2017-01-24  171.36  176.00  171.16  175.90   6952369\n",
       "2017-01-25  176.26  179.25  176.13  178.29   5922462\n",
       "2017-01-26  178.06  178.88  177.51  178.66   3063924\n",
       "2017-01-27  178.47  179.20  177.30  177.30   3482311\n",
       "2017-01-30  176.98  177.07  174.58  175.80   4094755\n",
       "2017-01-31  175.05  175.58  173.61  174.52   4138962\n",
       "2017-02-01  175.00  175.70  172.89  174.29   2795745\n",
       "2017-02-02  174.23  174.97  173.55  174.58   2620526\n",
       "2017-02-03  175.00  176.34  174.89  175.82   3309288\n",
       "2017-02-06  175.31  175.98  174.38  175.86   2650785\n",
       "2017-02-07  176.00  178.62  175.90  178.46   3873455\n",
       "2017-02-08  177.50  177.50  175.88  176.17   2913126\n",
       "2017-02-09  176.17  177.80  175.91  177.21   3090710\n",
       "2017-02-10  177.37  178.87  176.76  178.68   2930710\n",
       "2017-02-13  179.24  179.90  178.84  179.36   3093372\n",
       "2017-02-14  178.57  180.13  178.35  180.13   2776528\n",
       "...            ...     ...     ...     ...       ...\n",
       "2017-07-19  150.02  150.25  146.71  147.53  14293610\n",
       "2017-07-20  147.53  148.83  147.03  147.66   7212233\n",
       "2017-07-21  147.59  147.87  146.51  147.08   6509459\n",
       "2017-07-24  147.00  147.04  145.80  145.99   3877593\n",
       "2017-07-25  146.57  147.49  146.03  146.19   4208895\n",
       "2017-07-26  146.27  146.46  144.47  145.36   3932361\n",
       "2017-07-27  145.00  145.40  143.64  145.07   6430841\n",
       "2017-07-28  144.81  145.04  143.84  144.29   3054834\n",
       "2017-07-31     NaN  144.93     NaN  144.67   4355718\n",
       "2017-08-01  145.00  145.67  144.72  145.30   3219477\n",
       "2017-08-02  145.12  145.29  144.22  144.45   3540949\n",
       "2017-08-03  144.43  145.34  144.43  144.94   3035393\n",
       "2017-08-04  145.00  145.39  144.40  145.16   2549400\n",
       "2017-08-07  145.00  145.09  142.75  143.47   4618284\n",
       "2017-08-08  142.00  142.76  142.00  142.11   3298718\n",
       "2017-08-09  141.75  142.03  141.19  141.77   2925770\n",
       "2017-08-10  141.64  142.42  141.23  141.84   4525378\n",
       "2017-08-11  142.45  142.59  141.52  141.84   3004360\n",
       "2017-08-14  142.00  142.76  141.94  142.32   2248607\n",
       "2017-08-15  142.55  143.34  140.58  142.07   4681545\n",
       "2017-08-16  141.79  142.91  141.61  142.50   3287821\n",
       "2017-08-17  142.52  142.89  140.70  140.70   4422087\n",
       "2017-08-18  140.87  141.15  139.58  139.70   4152714\n",
       "2017-08-21  139.59  140.42  139.13  140.33   3190691\n",
       "2017-08-22  140.64  141.15  140.38  141.01   2544446\n",
       "2017-08-23  140.70  143.05  140.68  142.14   4048317\n",
       "2017-08-24  142.50  143.68  142.25  142.94   3592183\n",
       "2017-08-25  143.30  144.19  143.25  143.74   2872893\n",
       "2017-08-28  144.11  144.56  142.39  142.51   5134463\n",
       "2017-08-29  142.10  143.42  141.90  143.14   3009520\n",
       "\n",
       "[166 rows x 5 columns]"
      ]
     },
     "execution_count": 63,
     "metadata": {},
     "output_type": "execute_result"
    }
   ],
   "source": [
    "df"
   ]
  },
  {
   "cell_type": "markdown",
   "metadata": {},
   "source": [
    "<h2>Datareader documentation</h2>\n",
    "http://pandas-datareader.readthedocs.io/en/latest/</h2>"
   ]
  },
  {
   "cell_type": "markdown",
   "metadata": {},
   "source": [
    "<h3>Working with a timeseries data frame</h3>\n",
    "<li>The data is organized by time with the index serving as the timeline\n"
   ]
  },
  {
   "cell_type": "markdown",
   "metadata": {},
   "source": [
    "<h4>Creating new columns</h4>\n",
    "<li>Add a column to a dataframe\n",
    "<li>Base the elements of the column on some combination of data in the existing columns\n",
    "<h4>Example: Number of Days that the stock closed higher than it opened\n",
    "<li>We'll create a new column with the header \"UP\"\n",
    "<li>And use np.where to decide what to put in the column"
   ]
  },
  {
   "cell_type": "code",
   "execution_count": 64,
   "metadata": {
    "collapsed": false
   },
   "outputs": [
    {
     "data": {
      "text/html": [
       "<div>\n",
       "<table border=\"1\" class=\"dataframe\">\n",
       "  <thead>\n",
       "    <tr style=\"text-align: right;\">\n",
       "      <th></th>\n",
       "      <th>Open</th>\n",
       "      <th>High</th>\n",
       "      <th>Low</th>\n",
       "      <th>Close</th>\n",
       "      <th>Volume</th>\n",
       "      <th>UP</th>\n",
       "    </tr>\n",
       "    <tr>\n",
       "      <th>Date</th>\n",
       "      <th></th>\n",
       "      <th></th>\n",
       "      <th></th>\n",
       "      <th></th>\n",
       "      <th></th>\n",
       "      <th></th>\n",
       "    </tr>\n",
       "  </thead>\n",
       "  <tbody>\n",
       "    <tr>\n",
       "      <th>2017-01-03</th>\n",
       "      <td>167.00</td>\n",
       "      <td>167.87</td>\n",
       "      <td>166.01</td>\n",
       "      <td>167.19</td>\n",
       "      <td>2934299</td>\n",
       "      <td>1</td>\n",
       "    </tr>\n",
       "    <tr>\n",
       "      <th>2017-01-04</th>\n",
       "      <td>167.77</td>\n",
       "      <td>169.87</td>\n",
       "      <td>167.36</td>\n",
       "      <td>169.26</td>\n",
       "      <td>3381432</td>\n",
       "      <td>1</td>\n",
       "    </tr>\n",
       "    <tr>\n",
       "      <th>2017-01-05</th>\n",
       "      <td>169.25</td>\n",
       "      <td>169.39</td>\n",
       "      <td>167.26</td>\n",
       "      <td>168.70</td>\n",
       "      <td>2682301</td>\n",
       "      <td>0</td>\n",
       "    </tr>\n",
       "    <tr>\n",
       "      <th>2017-01-06</th>\n",
       "      <td>168.69</td>\n",
       "      <td>169.92</td>\n",
       "      <td>167.52</td>\n",
       "      <td>169.53</td>\n",
       "      <td>2945536</td>\n",
       "      <td>1</td>\n",
       "    </tr>\n",
       "    <tr>\n",
       "      <th>2017-01-09</th>\n",
       "      <td>169.47</td>\n",
       "      <td>169.80</td>\n",
       "      <td>167.62</td>\n",
       "      <td>167.65</td>\n",
       "      <td>3189891</td>\n",
       "      <td>0</td>\n",
       "    </tr>\n",
       "    <tr>\n",
       "      <th>2017-01-10</th>\n",
       "      <td>167.98</td>\n",
       "      <td>168.09</td>\n",
       "      <td>165.34</td>\n",
       "      <td>165.52</td>\n",
       "      <td>4118694</td>\n",
       "      <td>0</td>\n",
       "    </tr>\n",
       "    <tr>\n",
       "      <th>2017-01-11</th>\n",
       "      <td>166.05</td>\n",
       "      <td>167.76</td>\n",
       "      <td>165.60</td>\n",
       "      <td>167.75</td>\n",
       "      <td>3599464</td>\n",
       "      <td>1</td>\n",
       "    </tr>\n",
       "    <tr>\n",
       "      <th>2017-01-12</th>\n",
       "      <td>167.77</td>\n",
       "      <td>168.01</td>\n",
       "      <td>165.56</td>\n",
       "      <td>167.95</td>\n",
       "      <td>2927973</td>\n",
       "      <td>1</td>\n",
       "    </tr>\n",
       "    <tr>\n",
       "      <th>2017-01-13</th>\n",
       "      <td>167.97</td>\n",
       "      <td>168.48</td>\n",
       "      <td>166.88</td>\n",
       "      <td>167.34</td>\n",
       "      <td>2875433</td>\n",
       "      <td>0</td>\n",
       "    </tr>\n",
       "    <tr>\n",
       "      <th>2017-01-17</th>\n",
       "      <td>166.69</td>\n",
       "      <td>168.18</td>\n",
       "      <td>166.12</td>\n",
       "      <td>167.89</td>\n",
       "      <td>3315655</td>\n",
       "      <td>1</td>\n",
       "    </tr>\n",
       "    <tr>\n",
       "      <th>2017-01-18</th>\n",
       "      <td>167.45</td>\n",
       "      <td>168.59</td>\n",
       "      <td>166.69</td>\n",
       "      <td>166.80</td>\n",
       "      <td>4007779</td>\n",
       "      <td>0</td>\n",
       "    </tr>\n",
       "    <tr>\n",
       "      <th>2017-01-19</th>\n",
       "      <td>166.96</td>\n",
       "      <td>167.45</td>\n",
       "      <td>165.80</td>\n",
       "      <td>166.81</td>\n",
       "      <td>6963386</td>\n",
       "      <td>0</td>\n",
       "    </tr>\n",
       "    <tr>\n",
       "      <th>2017-01-20</th>\n",
       "      <td>167.81</td>\n",
       "      <td>170.64</td>\n",
       "      <td>166.00</td>\n",
       "      <td>170.55</td>\n",
       "      <td>12690029</td>\n",
       "      <td>1</td>\n",
       "    </tr>\n",
       "    <tr>\n",
       "      <th>2017-01-23</th>\n",
       "      <td>170.08</td>\n",
       "      <td>171.25</td>\n",
       "      <td>170.01</td>\n",
       "      <td>171.03</td>\n",
       "      <td>5478224</td>\n",
       "      <td>1</td>\n",
       "    </tr>\n",
       "    <tr>\n",
       "      <th>2017-01-24</th>\n",
       "      <td>171.36</td>\n",
       "      <td>176.00</td>\n",
       "      <td>171.16</td>\n",
       "      <td>175.90</td>\n",
       "      <td>6952369</td>\n",
       "      <td>1</td>\n",
       "    </tr>\n",
       "    <tr>\n",
       "      <th>2017-01-25</th>\n",
       "      <td>176.26</td>\n",
       "      <td>179.25</td>\n",
       "      <td>176.13</td>\n",
       "      <td>178.29</td>\n",
       "      <td>5922462</td>\n",
       "      <td>1</td>\n",
       "    </tr>\n",
       "    <tr>\n",
       "      <th>2017-01-26</th>\n",
       "      <td>178.06</td>\n",
       "      <td>178.88</td>\n",
       "      <td>177.51</td>\n",
       "      <td>178.66</td>\n",
       "      <td>3063924</td>\n",
       "      <td>1</td>\n",
       "    </tr>\n",
       "    <tr>\n",
       "      <th>2017-01-27</th>\n",
       "      <td>178.47</td>\n",
       "      <td>179.20</td>\n",
       "      <td>177.30</td>\n",
       "      <td>177.30</td>\n",
       "      <td>3482311</td>\n",
       "      <td>0</td>\n",
       "    </tr>\n",
       "    <tr>\n",
       "      <th>2017-01-30</th>\n",
       "      <td>176.98</td>\n",
       "      <td>177.07</td>\n",
       "      <td>174.58</td>\n",
       "      <td>175.80</td>\n",
       "      <td>4094755</td>\n",
       "      <td>0</td>\n",
       "    </tr>\n",
       "    <tr>\n",
       "      <th>2017-01-31</th>\n",
       "      <td>175.05</td>\n",
       "      <td>175.58</td>\n",
       "      <td>173.61</td>\n",
       "      <td>174.52</td>\n",
       "      <td>4138962</td>\n",
       "      <td>0</td>\n",
       "    </tr>\n",
       "    <tr>\n",
       "      <th>2017-02-01</th>\n",
       "      <td>175.00</td>\n",
       "      <td>175.70</td>\n",
       "      <td>172.89</td>\n",
       "      <td>174.29</td>\n",
       "      <td>2795745</td>\n",
       "      <td>0</td>\n",
       "    </tr>\n",
       "    <tr>\n",
       "      <th>2017-02-02</th>\n",
       "      <td>174.23</td>\n",
       "      <td>174.97</td>\n",
       "      <td>173.55</td>\n",
       "      <td>174.58</td>\n",
       "      <td>2620526</td>\n",
       "      <td>1</td>\n",
       "    </tr>\n",
       "    <tr>\n",
       "      <th>2017-02-03</th>\n",
       "      <td>175.00</td>\n",
       "      <td>176.34</td>\n",
       "      <td>174.89</td>\n",
       "      <td>175.82</td>\n",
       "      <td>3309288</td>\n",
       "      <td>1</td>\n",
       "    </tr>\n",
       "    <tr>\n",
       "      <th>2017-02-06</th>\n",
       "      <td>175.31</td>\n",
       "      <td>175.98</td>\n",
       "      <td>174.38</td>\n",
       "      <td>175.86</td>\n",
       "      <td>2650785</td>\n",
       "      <td>1</td>\n",
       "    </tr>\n",
       "    <tr>\n",
       "      <th>2017-02-07</th>\n",
       "      <td>176.00</td>\n",
       "      <td>178.62</td>\n",
       "      <td>175.90</td>\n",
       "      <td>178.46</td>\n",
       "      <td>3873455</td>\n",
       "      <td>1</td>\n",
       "    </tr>\n",
       "    <tr>\n",
       "      <th>2017-02-08</th>\n",
       "      <td>177.50</td>\n",
       "      <td>177.50</td>\n",
       "      <td>175.88</td>\n",
       "      <td>176.17</td>\n",
       "      <td>2913126</td>\n",
       "      <td>0</td>\n",
       "    </tr>\n",
       "    <tr>\n",
       "      <th>2017-02-09</th>\n",
       "      <td>176.17</td>\n",
       "      <td>177.80</td>\n",
       "      <td>175.91</td>\n",
       "      <td>177.21</td>\n",
       "      <td>3090710</td>\n",
       "      <td>1</td>\n",
       "    </tr>\n",
       "    <tr>\n",
       "      <th>2017-02-10</th>\n",
       "      <td>177.37</td>\n",
       "      <td>178.87</td>\n",
       "      <td>176.76</td>\n",
       "      <td>178.68</td>\n",
       "      <td>2930710</td>\n",
       "      <td>1</td>\n",
       "    </tr>\n",
       "    <tr>\n",
       "      <th>2017-02-13</th>\n",
       "      <td>179.24</td>\n",
       "      <td>179.90</td>\n",
       "      <td>178.84</td>\n",
       "      <td>179.36</td>\n",
       "      <td>3093372</td>\n",
       "      <td>1</td>\n",
       "    </tr>\n",
       "    <tr>\n",
       "      <th>2017-02-14</th>\n",
       "      <td>178.57</td>\n",
       "      <td>180.13</td>\n",
       "      <td>178.35</td>\n",
       "      <td>180.13</td>\n",
       "      <td>2776528</td>\n",
       "      <td>1</td>\n",
       "    </tr>\n",
       "    <tr>\n",
       "      <th>...</th>\n",
       "      <td>...</td>\n",
       "      <td>...</td>\n",
       "      <td>...</td>\n",
       "      <td>...</td>\n",
       "      <td>...</td>\n",
       "      <td>...</td>\n",
       "    </tr>\n",
       "    <tr>\n",
       "      <th>2017-07-19</th>\n",
       "      <td>150.02</td>\n",
       "      <td>150.25</td>\n",
       "      <td>146.71</td>\n",
       "      <td>147.53</td>\n",
       "      <td>14293610</td>\n",
       "      <td>0</td>\n",
       "    </tr>\n",
       "    <tr>\n",
       "      <th>2017-07-20</th>\n",
       "      <td>147.53</td>\n",
       "      <td>148.83</td>\n",
       "      <td>147.03</td>\n",
       "      <td>147.66</td>\n",
       "      <td>7212233</td>\n",
       "      <td>1</td>\n",
       "    </tr>\n",
       "    <tr>\n",
       "      <th>2017-07-21</th>\n",
       "      <td>147.59</td>\n",
       "      <td>147.87</td>\n",
       "      <td>146.51</td>\n",
       "      <td>147.08</td>\n",
       "      <td>6509459</td>\n",
       "      <td>0</td>\n",
       "    </tr>\n",
       "    <tr>\n",
       "      <th>2017-07-24</th>\n",
       "      <td>147.00</td>\n",
       "      <td>147.04</td>\n",
       "      <td>145.80</td>\n",
       "      <td>145.99</td>\n",
       "      <td>3877593</td>\n",
       "      <td>0</td>\n",
       "    </tr>\n",
       "    <tr>\n",
       "      <th>2017-07-25</th>\n",
       "      <td>146.57</td>\n",
       "      <td>147.49</td>\n",
       "      <td>146.03</td>\n",
       "      <td>146.19</td>\n",
       "      <td>4208895</td>\n",
       "      <td>0</td>\n",
       "    </tr>\n",
       "    <tr>\n",
       "      <th>2017-07-26</th>\n",
       "      <td>146.27</td>\n",
       "      <td>146.46</td>\n",
       "      <td>144.47</td>\n",
       "      <td>145.36</td>\n",
       "      <td>3932361</td>\n",
       "      <td>0</td>\n",
       "    </tr>\n",
       "    <tr>\n",
       "      <th>2017-07-27</th>\n",
       "      <td>145.00</td>\n",
       "      <td>145.40</td>\n",
       "      <td>143.64</td>\n",
       "      <td>145.07</td>\n",
       "      <td>6430841</td>\n",
       "      <td>1</td>\n",
       "    </tr>\n",
       "    <tr>\n",
       "      <th>2017-07-28</th>\n",
       "      <td>144.81</td>\n",
       "      <td>145.04</td>\n",
       "      <td>143.84</td>\n",
       "      <td>144.29</td>\n",
       "      <td>3054834</td>\n",
       "      <td>0</td>\n",
       "    </tr>\n",
       "    <tr>\n",
       "      <th>2017-07-31</th>\n",
       "      <td>NaN</td>\n",
       "      <td>144.93</td>\n",
       "      <td>NaN</td>\n",
       "      <td>144.67</td>\n",
       "      <td>4355718</td>\n",
       "      <td>0</td>\n",
       "    </tr>\n",
       "    <tr>\n",
       "      <th>2017-08-01</th>\n",
       "      <td>145.00</td>\n",
       "      <td>145.67</td>\n",
       "      <td>144.72</td>\n",
       "      <td>145.30</td>\n",
       "      <td>3219477</td>\n",
       "      <td>1</td>\n",
       "    </tr>\n",
       "    <tr>\n",
       "      <th>2017-08-02</th>\n",
       "      <td>145.12</td>\n",
       "      <td>145.29</td>\n",
       "      <td>144.22</td>\n",
       "      <td>144.45</td>\n",
       "      <td>3540949</td>\n",
       "      <td>0</td>\n",
       "    </tr>\n",
       "    <tr>\n",
       "      <th>2017-08-03</th>\n",
       "      <td>144.43</td>\n",
       "      <td>145.34</td>\n",
       "      <td>144.43</td>\n",
       "      <td>144.94</td>\n",
       "      <td>3035393</td>\n",
       "      <td>1</td>\n",
       "    </tr>\n",
       "    <tr>\n",
       "      <th>2017-08-04</th>\n",
       "      <td>145.00</td>\n",
       "      <td>145.39</td>\n",
       "      <td>144.40</td>\n",
       "      <td>145.16</td>\n",
       "      <td>2549400</td>\n",
       "      <td>1</td>\n",
       "    </tr>\n",
       "    <tr>\n",
       "      <th>2017-08-07</th>\n",
       "      <td>145.00</td>\n",
       "      <td>145.09</td>\n",
       "      <td>142.75</td>\n",
       "      <td>143.47</td>\n",
       "      <td>4618284</td>\n",
       "      <td>0</td>\n",
       "    </tr>\n",
       "    <tr>\n",
       "      <th>2017-08-08</th>\n",
       "      <td>142.00</td>\n",
       "      <td>142.76</td>\n",
       "      <td>142.00</td>\n",
       "      <td>142.11</td>\n",
       "      <td>3298718</td>\n",
       "      <td>1</td>\n",
       "    </tr>\n",
       "    <tr>\n",
       "      <th>2017-08-09</th>\n",
       "      <td>141.75</td>\n",
       "      <td>142.03</td>\n",
       "      <td>141.19</td>\n",
       "      <td>141.77</td>\n",
       "      <td>2925770</td>\n",
       "      <td>1</td>\n",
       "    </tr>\n",
       "    <tr>\n",
       "      <th>2017-08-10</th>\n",
       "      <td>141.64</td>\n",
       "      <td>142.42</td>\n",
       "      <td>141.23</td>\n",
       "      <td>141.84</td>\n",
       "      <td>4525378</td>\n",
       "      <td>1</td>\n",
       "    </tr>\n",
       "    <tr>\n",
       "      <th>2017-08-11</th>\n",
       "      <td>142.45</td>\n",
       "      <td>142.59</td>\n",
       "      <td>141.52</td>\n",
       "      <td>141.84</td>\n",
       "      <td>3004360</td>\n",
       "      <td>0</td>\n",
       "    </tr>\n",
       "    <tr>\n",
       "      <th>2017-08-14</th>\n",
       "      <td>142.00</td>\n",
       "      <td>142.76</td>\n",
       "      <td>141.94</td>\n",
       "      <td>142.32</td>\n",
       "      <td>2248607</td>\n",
       "      <td>1</td>\n",
       "    </tr>\n",
       "    <tr>\n",
       "      <th>2017-08-15</th>\n",
       "      <td>142.55</td>\n",
       "      <td>143.34</td>\n",
       "      <td>140.58</td>\n",
       "      <td>142.07</td>\n",
       "      <td>4681545</td>\n",
       "      <td>0</td>\n",
       "    </tr>\n",
       "    <tr>\n",
       "      <th>2017-08-16</th>\n",
       "      <td>141.79</td>\n",
       "      <td>142.91</td>\n",
       "      <td>141.61</td>\n",
       "      <td>142.50</td>\n",
       "      <td>3287821</td>\n",
       "      <td>1</td>\n",
       "    </tr>\n",
       "    <tr>\n",
       "      <th>2017-08-17</th>\n",
       "      <td>142.52</td>\n",
       "      <td>142.89</td>\n",
       "      <td>140.70</td>\n",
       "      <td>140.70</td>\n",
       "      <td>4422087</td>\n",
       "      <td>0</td>\n",
       "    </tr>\n",
       "    <tr>\n",
       "      <th>2017-08-18</th>\n",
       "      <td>140.87</td>\n",
       "      <td>141.15</td>\n",
       "      <td>139.58</td>\n",
       "      <td>139.70</td>\n",
       "      <td>4152714</td>\n",
       "      <td>0</td>\n",
       "    </tr>\n",
       "    <tr>\n",
       "      <th>2017-08-21</th>\n",
       "      <td>139.59</td>\n",
       "      <td>140.42</td>\n",
       "      <td>139.13</td>\n",
       "      <td>140.33</td>\n",
       "      <td>3190691</td>\n",
       "      <td>1</td>\n",
       "    </tr>\n",
       "    <tr>\n",
       "      <th>2017-08-22</th>\n",
       "      <td>140.64</td>\n",
       "      <td>141.15</td>\n",
       "      <td>140.38</td>\n",
       "      <td>141.01</td>\n",
       "      <td>2544446</td>\n",
       "      <td>1</td>\n",
       "    </tr>\n",
       "    <tr>\n",
       "      <th>2017-08-23</th>\n",
       "      <td>140.70</td>\n",
       "      <td>143.05</td>\n",
       "      <td>140.68</td>\n",
       "      <td>142.14</td>\n",
       "      <td>4048317</td>\n",
       "      <td>1</td>\n",
       "    </tr>\n",
       "    <tr>\n",
       "      <th>2017-08-24</th>\n",
       "      <td>142.50</td>\n",
       "      <td>143.68</td>\n",
       "      <td>142.25</td>\n",
       "      <td>142.94</td>\n",
       "      <td>3592183</td>\n",
       "      <td>1</td>\n",
       "    </tr>\n",
       "    <tr>\n",
       "      <th>2017-08-25</th>\n",
       "      <td>143.30</td>\n",
       "      <td>144.19</td>\n",
       "      <td>143.25</td>\n",
       "      <td>143.74</td>\n",
       "      <td>2872893</td>\n",
       "      <td>1</td>\n",
       "    </tr>\n",
       "    <tr>\n",
       "      <th>2017-08-28</th>\n",
       "      <td>144.11</td>\n",
       "      <td>144.56</td>\n",
       "      <td>142.39</td>\n",
       "      <td>142.51</td>\n",
       "      <td>5134463</td>\n",
       "      <td>0</td>\n",
       "    </tr>\n",
       "    <tr>\n",
       "      <th>2017-08-29</th>\n",
       "      <td>142.10</td>\n",
       "      <td>143.42</td>\n",
       "      <td>141.90</td>\n",
       "      <td>143.14</td>\n",
       "      <td>3009520</td>\n",
       "      <td>1</td>\n",
       "    </tr>\n",
       "  </tbody>\n",
       "</table>\n",
       "<p>166 rows × 6 columns</p>\n",
       "</div>"
      ],
      "text/plain": [
       "              Open    High     Low   Close    Volume  UP\n",
       "Date                                                    \n",
       "2017-01-03  167.00  167.87  166.01  167.19   2934299   1\n",
       "2017-01-04  167.77  169.87  167.36  169.26   3381432   1\n",
       "2017-01-05  169.25  169.39  167.26  168.70   2682301   0\n",
       "2017-01-06  168.69  169.92  167.52  169.53   2945536   1\n",
       "2017-01-09  169.47  169.80  167.62  167.65   3189891   0\n",
       "2017-01-10  167.98  168.09  165.34  165.52   4118694   0\n",
       "2017-01-11  166.05  167.76  165.60  167.75   3599464   1\n",
       "2017-01-12  167.77  168.01  165.56  167.95   2927973   1\n",
       "2017-01-13  167.97  168.48  166.88  167.34   2875433   0\n",
       "2017-01-17  166.69  168.18  166.12  167.89   3315655   1\n",
       "2017-01-18  167.45  168.59  166.69  166.80   4007779   0\n",
       "2017-01-19  166.96  167.45  165.80  166.81   6963386   0\n",
       "2017-01-20  167.81  170.64  166.00  170.55  12690029   1\n",
       "2017-01-23  170.08  171.25  170.01  171.03   5478224   1\n",
       "2017-01-24  171.36  176.00  171.16  175.90   6952369   1\n",
       "2017-01-25  176.26  179.25  176.13  178.29   5922462   1\n",
       "2017-01-26  178.06  178.88  177.51  178.66   3063924   1\n",
       "2017-01-27  178.47  179.20  177.30  177.30   3482311   0\n",
       "2017-01-30  176.98  177.07  174.58  175.80   4094755   0\n",
       "2017-01-31  175.05  175.58  173.61  174.52   4138962   0\n",
       "2017-02-01  175.00  175.70  172.89  174.29   2795745   0\n",
       "2017-02-02  174.23  174.97  173.55  174.58   2620526   1\n",
       "2017-02-03  175.00  176.34  174.89  175.82   3309288   1\n",
       "2017-02-06  175.31  175.98  174.38  175.86   2650785   1\n",
       "2017-02-07  176.00  178.62  175.90  178.46   3873455   1\n",
       "2017-02-08  177.50  177.50  175.88  176.17   2913126   0\n",
       "2017-02-09  176.17  177.80  175.91  177.21   3090710   1\n",
       "2017-02-10  177.37  178.87  176.76  178.68   2930710   1\n",
       "2017-02-13  179.24  179.90  178.84  179.36   3093372   1\n",
       "2017-02-14  178.57  180.13  178.35  180.13   2776528   1\n",
       "...            ...     ...     ...     ...       ...  ..\n",
       "2017-07-19  150.02  150.25  146.71  147.53  14293610   0\n",
       "2017-07-20  147.53  148.83  147.03  147.66   7212233   1\n",
       "2017-07-21  147.59  147.87  146.51  147.08   6509459   0\n",
       "2017-07-24  147.00  147.04  145.80  145.99   3877593   0\n",
       "2017-07-25  146.57  147.49  146.03  146.19   4208895   0\n",
       "2017-07-26  146.27  146.46  144.47  145.36   3932361   0\n",
       "2017-07-27  145.00  145.40  143.64  145.07   6430841   1\n",
       "2017-07-28  144.81  145.04  143.84  144.29   3054834   0\n",
       "2017-07-31     NaN  144.93     NaN  144.67   4355718   0\n",
       "2017-08-01  145.00  145.67  144.72  145.30   3219477   1\n",
       "2017-08-02  145.12  145.29  144.22  144.45   3540949   0\n",
       "2017-08-03  144.43  145.34  144.43  144.94   3035393   1\n",
       "2017-08-04  145.00  145.39  144.40  145.16   2549400   1\n",
       "2017-08-07  145.00  145.09  142.75  143.47   4618284   0\n",
       "2017-08-08  142.00  142.76  142.00  142.11   3298718   1\n",
       "2017-08-09  141.75  142.03  141.19  141.77   2925770   1\n",
       "2017-08-10  141.64  142.42  141.23  141.84   4525378   1\n",
       "2017-08-11  142.45  142.59  141.52  141.84   3004360   0\n",
       "2017-08-14  142.00  142.76  141.94  142.32   2248607   1\n",
       "2017-08-15  142.55  143.34  140.58  142.07   4681545   0\n",
       "2017-08-16  141.79  142.91  141.61  142.50   3287821   1\n",
       "2017-08-17  142.52  142.89  140.70  140.70   4422087   0\n",
       "2017-08-18  140.87  141.15  139.58  139.70   4152714   0\n",
       "2017-08-21  139.59  140.42  139.13  140.33   3190691   1\n",
       "2017-08-22  140.64  141.15  140.38  141.01   2544446   1\n",
       "2017-08-23  140.70  143.05  140.68  142.14   4048317   1\n",
       "2017-08-24  142.50  143.68  142.25  142.94   3592183   1\n",
       "2017-08-25  143.30  144.19  143.25  143.74   2872893   1\n",
       "2017-08-28  144.11  144.56  142.39  142.51   5134463   0\n",
       "2017-08-29  142.10  143.42  141.90  143.14   3009520   1\n",
       "\n",
       "[166 rows x 6 columns]"
      ]
     },
     "execution_count": 64,
     "metadata": {},
     "output_type": "execute_result"
    }
   ],
   "source": [
    "df['UP']=np.where(df['Close']>df['Open'],1,0)\n",
    "df"
   ]
  },
  {
   "cell_type": "markdown",
   "metadata": {},
   "source": [
    "<h3>Get summary statistics</h3>\n",
    "<li>The \"describe\" function returns a dataframe containing summary stats for all numerical columns\n",
    "<li>Columns containing non-numerical data are ignored"
   ]
  },
  {
   "cell_type": "code",
   "execution_count": 65,
   "metadata": {
    "collapsed": false
   },
   "outputs": [
    {
     "data": {
      "text/html": [
       "<div>\n",
       "<table border=\"1\" class=\"dataframe\">\n",
       "  <thead>\n",
       "    <tr style=\"text-align: right;\">\n",
       "      <th></th>\n",
       "      <th>Open</th>\n",
       "      <th>High</th>\n",
       "      <th>Low</th>\n",
       "      <th>Close</th>\n",
       "      <th>Volume</th>\n",
       "      <th>UP</th>\n",
       "    </tr>\n",
       "  </thead>\n",
       "  <tbody>\n",
       "    <tr>\n",
       "      <th>count</th>\n",
       "      <td>165.000000</td>\n",
       "      <td>166.000000</td>\n",
       "      <td>165.000000</td>\n",
       "      <td>166.000000</td>\n",
       "      <td>1.660000e+02</td>\n",
       "      <td>166.000000</td>\n",
       "    </tr>\n",
       "    <tr>\n",
       "      <th>mean</th>\n",
       "      <td>161.618667</td>\n",
       "      <td>162.346084</td>\n",
       "      <td>160.736848</td>\n",
       "      <td>161.486566</td>\n",
       "      <td>4.112198e+06</td>\n",
       "      <td>0.487952</td>\n",
       "    </tr>\n",
       "    <tr>\n",
       "      <th>std</th>\n",
       "      <td>12.905701</td>\n",
       "      <td>13.028233</td>\n",
       "      <td>12.835382</td>\n",
       "      <td>12.995748</td>\n",
       "      <td>2.090827e+06</td>\n",
       "      <td>0.501367</td>\n",
       "    </tr>\n",
       "    <tr>\n",
       "      <th>min</th>\n",
       "      <td>139.590000</td>\n",
       "      <td>140.420000</td>\n",
       "      <td>139.130000</td>\n",
       "      <td>139.700000</td>\n",
       "      <td>1.825048e+06</td>\n",
       "      <td>0.000000</td>\n",
       "    </tr>\n",
       "    <tr>\n",
       "      <th>25%</th>\n",
       "      <td>152.030000</td>\n",
       "      <td>152.875000</td>\n",
       "      <td>151.600000</td>\n",
       "      <td>152.102500</td>\n",
       "      <td>3.057106e+06</td>\n",
       "      <td>0.000000</td>\n",
       "    </tr>\n",
       "    <tr>\n",
       "      <th>50%</th>\n",
       "      <td>159.440000</td>\n",
       "      <td>159.470000</td>\n",
       "      <td>158.640000</td>\n",
       "      <td>158.945000</td>\n",
       "      <td>3.547950e+06</td>\n",
       "      <td>0.000000</td>\n",
       "    </tr>\n",
       "    <tr>\n",
       "      <th>75%</th>\n",
       "      <td>174.300000</td>\n",
       "      <td>175.390000</td>\n",
       "      <td>173.460000</td>\n",
       "      <td>174.507500</td>\n",
       "      <td>4.406930e+06</td>\n",
       "      <td>1.000000</td>\n",
       "    </tr>\n",
       "    <tr>\n",
       "      <th>max</th>\n",
       "      <td>182.000000</td>\n",
       "      <td>182.790000</td>\n",
       "      <td>180.920000</td>\n",
       "      <td>181.950000</td>\n",
       "      <td>1.928428e+07</td>\n",
       "      <td>1.000000</td>\n",
       "    </tr>\n",
       "  </tbody>\n",
       "</table>\n",
       "</div>"
      ],
      "text/plain": [
       "             Open        High         Low       Close        Volume  \\\n",
       "count  165.000000  166.000000  165.000000  166.000000  1.660000e+02   \n",
       "mean   161.618667  162.346084  160.736848  161.486566  4.112198e+06   \n",
       "std     12.905701   13.028233   12.835382   12.995748  2.090827e+06   \n",
       "min    139.590000  140.420000  139.130000  139.700000  1.825048e+06   \n",
       "25%    152.030000  152.875000  151.600000  152.102500  3.057106e+06   \n",
       "50%    159.440000  159.470000  158.640000  158.945000  3.547950e+06   \n",
       "75%    174.300000  175.390000  173.460000  174.507500  4.406930e+06   \n",
       "max    182.000000  182.790000  180.920000  181.950000  1.928428e+07   \n",
       "\n",
       "               UP  \n",
       "count  166.000000  \n",
       "mean     0.487952  \n",
       "std      0.501367  \n",
       "min      0.000000  \n",
       "25%      0.000000  \n",
       "50%      0.000000  \n",
       "75%      1.000000  \n",
       "max      1.000000  "
      ]
     },
     "execution_count": 65,
     "metadata": {},
     "output_type": "execute_result"
    }
   ],
   "source": [
    "df.describe()"
   ]
  },
  {
   "cell_type": "markdown",
   "metadata": {},
   "source": [
    "<h4>Calculate the percentage of days that the stock has closed higher than its open</h4>"
   ]
  },
  {
   "cell_type": "code",
   "execution_count": 66,
   "metadata": {
    "collapsed": false
   },
   "outputs": [
    {
     "data": {
      "text/plain": [
       "0.48795180722891568"
      ]
     },
     "execution_count": 66,
     "metadata": {},
     "output_type": "execute_result"
    }
   ],
   "source": [
    "df['UP'].sum()/df['UP'].count()"
   ]
  },
  {
   "cell_type": "markdown",
   "metadata": {},
   "source": [
    "<h4>Calculate percent changes</h4>\n",
    "<li>The function pct_change computes a percent change between successive rows (times in  timeseries data)\n",
    "<li>Defaults to a single time delta\n",
    "<li>With an argument, the time delta can be changed"
   ]
  },
  {
   "cell_type": "code",
   "execution_count": 67,
   "metadata": {
    "collapsed": false
   },
   "outputs": [
    {
     "data": {
      "text/plain": [
       "Date\n",
       "2017-01-03         NaN\n",
       "2017-01-04    0.012381\n",
       "2017-01-05   -0.003309\n",
       "2017-01-06    0.004920\n",
       "2017-01-09   -0.011089\n",
       "2017-01-10   -0.012705\n",
       "2017-01-11    0.013473\n",
       "2017-01-12    0.001192\n",
       "2017-01-13   -0.003632\n",
       "2017-01-17    0.003287\n",
       "2017-01-18   -0.006492\n",
       "2017-01-19    0.000060\n",
       "2017-01-20    0.022421\n",
       "2017-01-23    0.002814\n",
       "2017-01-24    0.028475\n",
       "2017-01-25    0.013587\n",
       "2017-01-26    0.002075\n",
       "2017-01-27   -0.007612\n",
       "2017-01-30   -0.008460\n",
       "2017-01-31   -0.007281\n",
       "2017-02-01   -0.001318\n",
       "2017-02-02    0.001664\n",
       "2017-02-03    0.007103\n",
       "2017-02-06    0.000228\n",
       "2017-02-07    0.014784\n",
       "2017-02-08   -0.012832\n",
       "2017-02-09    0.005903\n",
       "2017-02-10    0.008295\n",
       "2017-02-13    0.003806\n",
       "2017-02-14    0.004293\n",
       "                ...   \n",
       "2017-07-19   -0.042013\n",
       "2017-07-20    0.000881\n",
       "2017-07-21   -0.003928\n",
       "2017-07-24   -0.007411\n",
       "2017-07-25    0.001370\n",
       "2017-07-26   -0.005678\n",
       "2017-07-27   -0.001995\n",
       "2017-07-28   -0.005377\n",
       "2017-07-31    0.002634\n",
       "2017-08-01    0.004355\n",
       "2017-08-02   -0.005850\n",
       "2017-08-03    0.003392\n",
       "2017-08-04    0.001518\n",
       "2017-08-07   -0.011642\n",
       "2017-08-08   -0.009479\n",
       "2017-08-09   -0.002393\n",
       "2017-08-10    0.000494\n",
       "2017-08-11    0.000000\n",
       "2017-08-14    0.003384\n",
       "2017-08-15   -0.001757\n",
       "2017-08-16    0.003027\n",
       "2017-08-17   -0.012632\n",
       "2017-08-18   -0.007107\n",
       "2017-08-21    0.004510\n",
       "2017-08-22    0.004846\n",
       "2017-08-23    0.008014\n",
       "2017-08-24    0.005628\n",
       "2017-08-25    0.005597\n",
       "2017-08-28   -0.008557\n",
       "2017-08-29    0.004421\n",
       "Name: Close, dtype: float64"
      ]
     },
     "execution_count": 67,
     "metadata": {},
     "output_type": "execute_result"
    }
   ],
   "source": [
    "df['Close'].pct_change() #One timeperiod percent change"
   ]
  },
  {
   "cell_type": "code",
   "execution_count": 71,
   "metadata": {
    "collapsed": false
   },
   "outputs": [
    {
     "data": {
      "text/plain": [
       "Date\n",
       "2017-01-03         NaN\n",
       "2017-01-04         NaN\n",
       "2017-01-05    0.009032\n",
       "2017-01-06    0.001595\n",
       "2017-01-09   -0.006224\n",
       "2017-01-10   -0.023654\n",
       "2017-01-11    0.000596\n",
       "2017-01-12    0.014681\n",
       "2017-01-13   -0.002444\n",
       "2017-01-17   -0.000357\n",
       "2017-01-18   -0.003227\n",
       "2017-01-19   -0.006433\n",
       "2017-01-20    0.022482\n",
       "2017-01-23    0.025298\n",
       "2017-01-24    0.031369\n",
       "2017-01-25    0.042449\n",
       "2017-01-26    0.015691\n",
       "2017-01-27   -0.005553\n",
       "2017-01-30   -0.016008\n",
       "2017-01-31   -0.015680\n",
       "2017-02-01   -0.008589\n",
       "2017-02-02    0.000344\n",
       "2017-02-03    0.008778\n",
       "2017-02-06    0.007332\n",
       "2017-02-07    0.015015\n",
       "2017-02-08    0.001763\n",
       "2017-02-09   -0.007004\n",
       "2017-02-10    0.014248\n",
       "2017-02-13    0.012132\n",
       "2017-02-14    0.008115\n",
       "                ...   \n",
       "2017-07-19   -0.035815\n",
       "2017-07-20   -0.041169\n",
       "2017-07-21   -0.003050\n",
       "2017-07-24   -0.011310\n",
       "2017-07-25   -0.006051\n",
       "2017-07-26   -0.004315\n",
       "2017-07-27   -0.007661\n",
       "2017-07-28   -0.007361\n",
       "2017-07-31   -0.002757\n",
       "2017-08-01    0.007000\n",
       "2017-08-02   -0.001521\n",
       "2017-08-03   -0.002478\n",
       "2017-08-04    0.004915\n",
       "2017-08-07   -0.010142\n",
       "2017-08-08   -0.021011\n",
       "2017-08-09   -0.011849\n",
       "2017-08-10   -0.001900\n",
       "2017-08-11    0.000494\n",
       "2017-08-14    0.003384\n",
       "2017-08-15    0.001622\n",
       "2017-08-16    0.001265\n",
       "2017-08-17   -0.009643\n",
       "2017-08-18   -0.019649\n",
       "2017-08-21   -0.002630\n",
       "2017-08-22    0.009377\n",
       "2017-08-23    0.012898\n",
       "2017-08-24    0.013687\n",
       "2017-08-25    0.011257\n",
       "2017-08-28   -0.003008\n",
       "2017-08-29   -0.004174\n",
       "Name: Close, dtype: float64"
      ]
     },
     "execution_count": 71,
     "metadata": {},
     "output_type": "execute_result"
    }
   ],
   "source": [
    "n=2\n",
    "df['Close'].pct_change(n) #n timeperiods percent change"
   ]
  },
  {
   "cell_type": "markdown",
   "metadata": {},
   "source": [
    "<h3>NaN support</h3>\n",
    "Pandas functions can ignore NaNs"
   ]
  },
  {
   "cell_type": "code",
   "execution_count": 72,
   "metadata": {
    "collapsed": false
   },
   "outputs": [
    {
     "data": {
      "text/plain": [
       "-0.013587425292889614"
      ]
     },
     "execution_count": 72,
     "metadata": {},
     "output_type": "execute_result"
    }
   ],
   "source": [
    "n=13\n",
    "df['Close'].pct_change(n).mean()"
   ]
  },
  {
   "cell_type": "markdown",
   "metadata": {},
   "source": [
    "<h3>Rolling windows</h3>\n",
    "<li>\"rolling\" function extracts rolling windows\n",
    "<li>For example, the 21 period rolling window of the 13 period percent change "
   ]
  },
  {
   "cell_type": "code",
   "execution_count": 73,
   "metadata": {
    "collapsed": false
   },
   "outputs": [
    {
     "data": {
      "text/plain": [
       "Rolling [window=21,center=False,axis=0]"
      ]
     },
     "execution_count": 73,
     "metadata": {},
     "output_type": "execute_result"
    }
   ],
   "source": [
    "df['Close'].pct_change(n).rolling(21)"
   ]
  },
  {
   "cell_type": "markdown",
   "metadata": {},
   "source": [
    "<h4>Calculate something on the rolling windows</h4>"
   ]
  },
  {
   "cell_type": "markdown",
   "metadata": {},
   "source": [
    "<h4>Example: mean (the 21 day moving average of the 13 day percent change)"
   ]
  },
  {
   "cell_type": "code",
   "execution_count": 74,
   "metadata": {
    "collapsed": false
   },
   "outputs": [
    {
     "data": {
      "text/plain": [
       "Date\n",
       "2017-01-03         NaN\n",
       "2017-01-04         NaN\n",
       "2017-01-05         NaN\n",
       "2017-01-06         NaN\n",
       "2017-01-09         NaN\n",
       "2017-01-10         NaN\n",
       "2017-01-11         NaN\n",
       "2017-01-12         NaN\n",
       "2017-01-13         NaN\n",
       "2017-01-17         NaN\n",
       "2017-01-18         NaN\n",
       "2017-01-19         NaN\n",
       "2017-01-20         NaN\n",
       "2017-01-23         NaN\n",
       "2017-01-24         NaN\n",
       "2017-01-25         NaN\n",
       "2017-01-26         NaN\n",
       "2017-01-27         NaN\n",
       "2017-01-30         NaN\n",
       "2017-01-31         NaN\n",
       "2017-02-01         NaN\n",
       "2017-02-02         NaN\n",
       "2017-02-03         NaN\n",
       "2017-02-06         NaN\n",
       "2017-02-07         NaN\n",
       "2017-02-08         NaN\n",
       "2017-02-09         NaN\n",
       "2017-02-10         NaN\n",
       "2017-02-13         NaN\n",
       "2017-02-14         NaN\n",
       "                ...   \n",
       "2017-07-19   -0.000918\n",
       "2017-07-20   -0.003539\n",
       "2017-07-21   -0.006686\n",
       "2017-07-24   -0.009687\n",
       "2017-07-25   -0.012159\n",
       "2017-07-26   -0.015860\n",
       "2017-07-27   -0.019281\n",
       "2017-07-28   -0.022425\n",
       "2017-07-31   -0.024900\n",
       "2017-08-01   -0.027353\n",
       "2017-08-02   -0.030923\n",
       "2017-08-03   -0.033265\n",
       "2017-08-04   -0.035073\n",
       "2017-08-07   -0.035799\n",
       "2017-08-08   -0.037118\n",
       "2017-08-09   -0.038652\n",
       "2017-08-10   -0.039790\n",
       "2017-08-11   -0.041058\n",
       "2017-08-14   -0.041750\n",
       "2017-08-15   -0.042200\n",
       "2017-08-16   -0.042386\n",
       "2017-08-17   -0.041653\n",
       "2017-08-18   -0.041579\n",
       "2017-08-21   -0.040335\n",
       "2017-08-22   -0.039247\n",
       "2017-08-23   -0.038309\n",
       "2017-08-24   -0.036125\n",
       "2017-08-25   -0.032987\n",
       "2017-08-28   -0.029972\n",
       "2017-08-29   -0.026738\n",
       "Name: Close, dtype: float64"
      ]
     },
     "execution_count": 74,
     "metadata": {},
     "output_type": "execute_result"
    }
   ],
   "source": [
    "n=13\n",
    "df['Close'].pct_change(n).rolling(21).mean()"
   ]
  },
  {
   "cell_type": "markdown",
   "metadata": {},
   "source": [
    "<h4>Calculate several moving averages and graph them</h4>"
   ]
  },
  {
   "cell_type": "code",
   "execution_count": 75,
   "metadata": {
    "collapsed": true
   },
   "outputs": [],
   "source": [
    "ma_8 = df['Close'].pct_change(n).rolling(window=8).mean()\n",
    "ma_13= df['Close'].pct_change(n).rolling(window=13).mean()\n",
    "ma_21= df['Close'].pct_change(n).rolling(window=21).mean()\n",
    "ma_34= df['Close'].pct_change(n).rolling(window=34).mean()\n",
    "ma_55= df['Close'].pct_change(n).rolling(window=55).mean()"
   ]
  },
  {
   "cell_type": "code",
   "execution_count": 76,
   "metadata": {
    "collapsed": false
   },
   "outputs": [
    {
     "data": {
      "text/plain": [
       "<matplotlib.axes._subplots.AxesSubplot at 0x113819898>"
      ]
     },
     "execution_count": 76,
     "metadata": {},
     "output_type": "execute_result"
    },
    {
     "data": {
      "image/png": "[encoded data removed]",
      "text/plain": [
       "<matplotlib.figure.Figure at 0x113884f28>"
      ]
     },
     "metadata": {},
     "output_type": "display_data"
    }
   ],
   "source": [
    "ma_8.plot()\n",
    "ma_34.plot()"
   ]
  },
  {
   "cell_type": "markdown",
   "metadata": {},
   "source": [
    "<h2>Linear regression with pandas</h2>\n",
    "<h4>Example: TAN is the ticker for a solar ETF. FSLR, RGSE, and SCTY are tickers of companies that build or lease solar panels. Each has a different business model. We'll use pandas to study the risk reward tradeoff between the 4 investments and also see how correlated they are</h4>"
   ]
  },
  {
   "cell_type": "code",
   "execution_count": 77,
   "metadata": {
    "collapsed": false
   },
   "outputs": [],
   "source": [
    "import datetime\n",
    "import pandas_datareader as data\n",
    "start = datetime.datetime(2015,7,1)\n",
    "end = datetime.datetime(2016,6,1)\n",
    "solar_df = data.DataReader(['FSLR', 'TAN','RGSE','SCTY'],'google', start=start,end=end)['Close']"
   ]
  },
  {
   "cell_type": "code",
   "execution_count": 78,
   "metadata": {
    "collapsed": false
   },
   "outputs": [
    {
     "data": {
      "text/html": [
       "<div>\n",
       "<table border=\"1\" class=\"dataframe\">\n",
       "  <thead>\n",
       "    <tr style=\"text-align: right;\">\n",
       "      <th></th>\n",
       "      <th>FSLR</th>\n",
       "      <th>RGSE</th>\n",
       "      <th>SCTY</th>\n",
       "      <th>TAN</th>\n",
       "    </tr>\n",
       "    <tr>\n",
       "      <th>Date</th>\n",
       "      <th></th>\n",
       "      <th></th>\n",
       "      <th></th>\n",
       "      <th></th>\n",
       "    </tr>\n",
       "  </thead>\n",
       "  <tbody>\n",
       "    <tr>\n",
       "      <th>2015-07-01</th>\n",
       "      <td>46.04</td>\n",
       "      <td>1128.00</td>\n",
       "      <td>52.40</td>\n",
       "      <td>38.84</td>\n",
       "    </tr>\n",
       "    <tr>\n",
       "      <th>2015-07-02</th>\n",
       "      <td>45.17</td>\n",
       "      <td>1200.00</td>\n",
       "      <td>52.27</td>\n",
       "      <td>38.55</td>\n",
       "    </tr>\n",
       "    <tr>\n",
       "      <th>2015-07-06</th>\n",
       "      <td>44.19</td>\n",
       "      <td>1008.00</td>\n",
       "      <td>51.75</td>\n",
       "      <td>36.37</td>\n",
       "    </tr>\n",
       "    <tr>\n",
       "      <th>2015-07-07</th>\n",
       "      <td>45.12</td>\n",
       "      <td>984.00</td>\n",
       "      <td>53.21</td>\n",
       "      <td>36.10</td>\n",
       "    </tr>\n",
       "    <tr>\n",
       "      <th>2015-07-08</th>\n",
       "      <td>43.27</td>\n",
       "      <td>852.00</td>\n",
       "      <td>51.48</td>\n",
       "      <td>33.67</td>\n",
       "    </tr>\n",
       "    <tr>\n",
       "      <th>2015-07-09</th>\n",
       "      <td>43.65</td>\n",
       "      <td>876.00</td>\n",
       "      <td>51.98</td>\n",
       "      <td>35.23</td>\n",
       "    </tr>\n",
       "    <tr>\n",
       "      <th>2015-07-10</th>\n",
       "      <td>44.03</td>\n",
       "      <td>942.00</td>\n",
       "      <td>53.00</td>\n",
       "      <td>36.49</td>\n",
       "    </tr>\n",
       "    <tr>\n",
       "      <th>2015-07-13</th>\n",
       "      <td>46.01</td>\n",
       "      <td>978.00</td>\n",
       "      <td>53.39</td>\n",
       "      <td>37.37</td>\n",
       "    </tr>\n",
       "    <tr>\n",
       "      <th>2015-07-14</th>\n",
       "      <td>45.81</td>\n",
       "      <td>906.00</td>\n",
       "      <td>54.26</td>\n",
       "      <td>37.86</td>\n",
       "    </tr>\n",
       "    <tr>\n",
       "      <th>2015-07-15</th>\n",
       "      <td>44.49</td>\n",
       "      <td>888.00</td>\n",
       "      <td>52.54</td>\n",
       "      <td>37.06</td>\n",
       "    </tr>\n",
       "    <tr>\n",
       "      <th>2015-07-16</th>\n",
       "      <td>44.76</td>\n",
       "      <td>894.00</td>\n",
       "      <td>52.80</td>\n",
       "      <td>37.51</td>\n",
       "    </tr>\n",
       "    <tr>\n",
       "      <th>2015-07-17</th>\n",
       "      <td>43.95</td>\n",
       "      <td>900.00</td>\n",
       "      <td>52.15</td>\n",
       "      <td>37.48</td>\n",
       "    </tr>\n",
       "    <tr>\n",
       "      <th>2015-07-20</th>\n",
       "      <td>43.28</td>\n",
       "      <td>852.00</td>\n",
       "      <td>55.77</td>\n",
       "      <td>37.66</td>\n",
       "    </tr>\n",
       "    <tr>\n",
       "      <th>2015-07-21</th>\n",
       "      <td>43.48</td>\n",
       "      <td>894.00</td>\n",
       "      <td>56.20</td>\n",
       "      <td>37.06</td>\n",
       "    </tr>\n",
       "    <tr>\n",
       "      <th>2015-07-22</th>\n",
       "      <td>42.50</td>\n",
       "      <td>924.00</td>\n",
       "      <td>55.36</td>\n",
       "      <td>36.62</td>\n",
       "    </tr>\n",
       "    <tr>\n",
       "      <th>2015-07-23</th>\n",
       "      <td>42.74</td>\n",
       "      <td>900.00</td>\n",
       "      <td>53.67</td>\n",
       "      <td>35.88</td>\n",
       "    </tr>\n",
       "    <tr>\n",
       "      <th>2015-07-24</th>\n",
       "      <td>42.97</td>\n",
       "      <td>942.00</td>\n",
       "      <td>54.62</td>\n",
       "      <td>35.47</td>\n",
       "    </tr>\n",
       "    <tr>\n",
       "      <th>2015-07-27</th>\n",
       "      <td>42.27</td>\n",
       "      <td>966.00</td>\n",
       "      <td>54.69</td>\n",
       "      <td>34.58</td>\n",
       "    </tr>\n",
       "    <tr>\n",
       "      <th>2015-07-28</th>\n",
       "      <td>43.38</td>\n",
       "      <td>990.00</td>\n",
       "      <td>56.03</td>\n",
       "      <td>35.27</td>\n",
       "    </tr>\n",
       "    <tr>\n",
       "      <th>2015-07-29</th>\n",
       "      <td>45.54</td>\n",
       "      <td>990.00</td>\n",
       "      <td>58.05</td>\n",
       "      <td>36.24</td>\n",
       "    </tr>\n",
       "    <tr>\n",
       "      <th>2015-07-30</th>\n",
       "      <td>45.31</td>\n",
       "      <td>996.00</td>\n",
       "      <td>59.58</td>\n",
       "      <td>36.05</td>\n",
       "    </tr>\n",
       "    <tr>\n",
       "      <th>2015-07-31</th>\n",
       "      <td>44.30</td>\n",
       "      <td>1038.00</td>\n",
       "      <td>58.00</td>\n",
       "      <td>35.32</td>\n",
       "    </tr>\n",
       "    <tr>\n",
       "      <th>2015-08-03</th>\n",
       "      <td>43.69</td>\n",
       "      <td>1116.00</td>\n",
       "      <td>57.92</td>\n",
       "      <td>34.22</td>\n",
       "    </tr>\n",
       "    <tr>\n",
       "      <th>2015-08-04</th>\n",
       "      <td>44.50</td>\n",
       "      <td>1272.00</td>\n",
       "      <td>59.00</td>\n",
       "      <td>33.93</td>\n",
       "    </tr>\n",
       "    <tr>\n",
       "      <th>2015-08-05</th>\n",
       "      <td>51.92</td>\n",
       "      <td>1218.00</td>\n",
       "      <td>60.17</td>\n",
       "      <td>35.59</td>\n",
       "    </tr>\n",
       "    <tr>\n",
       "      <th>2015-08-06</th>\n",
       "      <td>51.20</td>\n",
       "      <td>1254.00</td>\n",
       "      <td>55.34</td>\n",
       "      <td>33.91</td>\n",
       "    </tr>\n",
       "    <tr>\n",
       "      <th>2015-08-07</th>\n",
       "      <td>52.08</td>\n",
       "      <td>1188.00</td>\n",
       "      <td>52.25</td>\n",
       "      <td>33.29</td>\n",
       "    </tr>\n",
       "    <tr>\n",
       "      <th>2015-08-10</th>\n",
       "      <td>53.48</td>\n",
       "      <td>1068.00</td>\n",
       "      <td>51.17</td>\n",
       "      <td>34.16</td>\n",
       "    </tr>\n",
       "    <tr>\n",
       "      <th>2015-08-11</th>\n",
       "      <td>51.44</td>\n",
       "      <td>846.00</td>\n",
       "      <td>48.79</td>\n",
       "      <td>32.78</td>\n",
       "    </tr>\n",
       "    <tr>\n",
       "      <th>2015-08-12</th>\n",
       "      <td>51.88</td>\n",
       "      <td>839.04</td>\n",
       "      <td>50.86</td>\n",
       "      <td>33.10</td>\n",
       "    </tr>\n",
       "    <tr>\n",
       "      <th>...</th>\n",
       "      <td>...</td>\n",
       "      <td>...</td>\n",
       "      <td>...</td>\n",
       "      <td>...</td>\n",
       "    </tr>\n",
       "    <tr>\n",
       "      <th>2016-04-20</th>\n",
       "      <td>61.72</td>\n",
       "      <td>324.00</td>\n",
       "      <td>32.65</td>\n",
       "      <td>24.16</td>\n",
       "    </tr>\n",
       "    <tr>\n",
       "      <th>2016-04-21</th>\n",
       "      <td>61.94</td>\n",
       "      <td>300.00</td>\n",
       "      <td>33.87</td>\n",
       "      <td>24.21</td>\n",
       "    </tr>\n",
       "    <tr>\n",
       "      <th>2016-04-22</th>\n",
       "      <td>61.54</td>\n",
       "      <td>312.00</td>\n",
       "      <td>33.34</td>\n",
       "      <td>24.33</td>\n",
       "    </tr>\n",
       "    <tr>\n",
       "      <th>2016-04-25</th>\n",
       "      <td>60.39</td>\n",
       "      <td>306.60</td>\n",
       "      <td>31.18</td>\n",
       "      <td>23.94</td>\n",
       "    </tr>\n",
       "    <tr>\n",
       "      <th>2016-04-26</th>\n",
       "      <td>61.24</td>\n",
       "      <td>317.40</td>\n",
       "      <td>33.00</td>\n",
       "      <td>24.33</td>\n",
       "    </tr>\n",
       "    <tr>\n",
       "      <th>2016-04-27</th>\n",
       "      <td>62.03</td>\n",
       "      <td>306.00</td>\n",
       "      <td>33.31</td>\n",
       "      <td>24.79</td>\n",
       "    </tr>\n",
       "    <tr>\n",
       "      <th>2016-04-28</th>\n",
       "      <td>57.02</td>\n",
       "      <td>306.06</td>\n",
       "      <td>32.24</td>\n",
       "      <td>24.18</td>\n",
       "    </tr>\n",
       "    <tr>\n",
       "      <th>2016-04-29</th>\n",
       "      <td>55.84</td>\n",
       "      <td>303.00</td>\n",
       "      <td>30.32</td>\n",
       "      <td>23.82</td>\n",
       "    </tr>\n",
       "    <tr>\n",
       "      <th>2016-05-02</th>\n",
       "      <td>54.85</td>\n",
       "      <td>300.06</td>\n",
       "      <td>29.55</td>\n",
       "      <td>23.53</td>\n",
       "    </tr>\n",
       "    <tr>\n",
       "      <th>2016-05-03</th>\n",
       "      <td>52.85</td>\n",
       "      <td>271.20</td>\n",
       "      <td>26.45</td>\n",
       "      <td>22.74</td>\n",
       "    </tr>\n",
       "    <tr>\n",
       "      <th>2016-05-04</th>\n",
       "      <td>51.78</td>\n",
       "      <td>276.00</td>\n",
       "      <td>23.65</td>\n",
       "      <td>22.47</td>\n",
       "    </tr>\n",
       "    <tr>\n",
       "      <th>2016-05-05</th>\n",
       "      <td>51.96</td>\n",
       "      <td>279.00</td>\n",
       "      <td>21.67</td>\n",
       "      <td>22.09</td>\n",
       "    </tr>\n",
       "    <tr>\n",
       "      <th>2016-05-06</th>\n",
       "      <td>51.80</td>\n",
       "      <td>279.00</td>\n",
       "      <td>21.84</td>\n",
       "      <td>22.13</td>\n",
       "    </tr>\n",
       "    <tr>\n",
       "      <th>2016-05-09</th>\n",
       "      <td>50.60</td>\n",
       "      <td>277.08</td>\n",
       "      <td>22.51</td>\n",
       "      <td>21.64</td>\n",
       "    </tr>\n",
       "    <tr>\n",
       "      <th>2016-05-10</th>\n",
       "      <td>51.27</td>\n",
       "      <td>276.00</td>\n",
       "      <td>17.82</td>\n",
       "      <td>21.40</td>\n",
       "    </tr>\n",
       "    <tr>\n",
       "      <th>2016-05-11</th>\n",
       "      <td>50.74</td>\n",
       "      <td>294.00</td>\n",
       "      <td>18.69</td>\n",
       "      <td>21.62</td>\n",
       "    </tr>\n",
       "    <tr>\n",
       "      <th>2016-05-12</th>\n",
       "      <td>49.09</td>\n",
       "      <td>270.00</td>\n",
       "      <td>18.92</td>\n",
       "      <td>21.17</td>\n",
       "    </tr>\n",
       "    <tr>\n",
       "      <th>2016-05-13</th>\n",
       "      <td>48.56</td>\n",
       "      <td>190.20</td>\n",
       "      <td>19.60</td>\n",
       "      <td>20.98</td>\n",
       "    </tr>\n",
       "    <tr>\n",
       "      <th>2016-05-16</th>\n",
       "      <td>49.07</td>\n",
       "      <td>210.00</td>\n",
       "      <td>20.06</td>\n",
       "      <td>21.28</td>\n",
       "    </tr>\n",
       "    <tr>\n",
       "      <th>2016-05-17</th>\n",
       "      <td>48.51</td>\n",
       "      <td>216.00</td>\n",
       "      <td>20.50</td>\n",
       "      <td>21.11</td>\n",
       "    </tr>\n",
       "    <tr>\n",
       "      <th>2016-05-18</th>\n",
       "      <td>48.71</td>\n",
       "      <td>210.00</td>\n",
       "      <td>20.00</td>\n",
       "      <td>21.20</td>\n",
       "    </tr>\n",
       "    <tr>\n",
       "      <th>2016-05-19</th>\n",
       "      <td>47.09</td>\n",
       "      <td>216.00</td>\n",
       "      <td>20.37</td>\n",
       "      <td>20.93</td>\n",
       "    </tr>\n",
       "    <tr>\n",
       "      <th>2016-05-20</th>\n",
       "      <td>48.02</td>\n",
       "      <td>192.00</td>\n",
       "      <td>21.94</td>\n",
       "      <td>21.49</td>\n",
       "    </tr>\n",
       "    <tr>\n",
       "      <th>2016-05-23</th>\n",
       "      <td>49.04</td>\n",
       "      <td>198.00</td>\n",
       "      <td>24.05</td>\n",
       "      <td>21.82</td>\n",
       "    </tr>\n",
       "    <tr>\n",
       "      <th>2016-05-24</th>\n",
       "      <td>50.46</td>\n",
       "      <td>204.00</td>\n",
       "      <td>23.74</td>\n",
       "      <td>22.06</td>\n",
       "    </tr>\n",
       "    <tr>\n",
       "      <th>2016-05-25</th>\n",
       "      <td>50.56</td>\n",
       "      <td>202.80</td>\n",
       "      <td>24.07</td>\n",
       "      <td>22.09</td>\n",
       "    </tr>\n",
       "    <tr>\n",
       "      <th>2016-05-26</th>\n",
       "      <td>49.73</td>\n",
       "      <td>186.00</td>\n",
       "      <td>23.73</td>\n",
       "      <td>21.97</td>\n",
       "    </tr>\n",
       "    <tr>\n",
       "      <th>2016-05-27</th>\n",
       "      <td>49.90</td>\n",
       "      <td>198.00</td>\n",
       "      <td>22.26</td>\n",
       "      <td>21.96</td>\n",
       "    </tr>\n",
       "    <tr>\n",
       "      <th>2016-05-31</th>\n",
       "      <td>49.65</td>\n",
       "      <td>180.00</td>\n",
       "      <td>22.39</td>\n",
       "      <td>22.01</td>\n",
       "    </tr>\n",
       "    <tr>\n",
       "      <th>2016-06-01</th>\n",
       "      <td>50.07</td>\n",
       "      <td>177.00</td>\n",
       "      <td>21.41</td>\n",
       "      <td>22.10</td>\n",
       "    </tr>\n",
       "  </tbody>\n",
       "</table>\n",
       "<p>232 rows × 4 columns</p>\n",
       "</div>"
      ],
      "text/plain": [
       "             FSLR     RGSE   SCTY    TAN\n",
       "Date                                    \n",
       "2015-07-01  46.04  1128.00  52.40  38.84\n",
       "2015-07-02  45.17  1200.00  52.27  38.55\n",
       "2015-07-06  44.19  1008.00  51.75  36.37\n",
       "2015-07-07  45.12   984.00  53.21  36.10\n",
       "2015-07-08  43.27   852.00  51.48  33.67\n",
       "2015-07-09  43.65   876.00  51.98  35.23\n",
       "2015-07-10  44.03   942.00  53.00  36.49\n",
       "2015-07-13  46.01   978.00  53.39  37.37\n",
       "2015-07-14  45.81   906.00  54.26  37.86\n",
       "2015-07-15  44.49   888.00  52.54  37.06\n",
       "2015-07-16  44.76   894.00  52.80  37.51\n",
       "2015-07-17  43.95   900.00  52.15  37.48\n",
       "2015-07-20  43.28   852.00  55.77  37.66\n",
       "2015-07-21  43.48   894.00  56.20  37.06\n",
       "2015-07-22  42.50   924.00  55.36  36.62\n",
       "2015-07-23  42.74   900.00  53.67  35.88\n",
       "2015-07-24  42.97   942.00  54.62  35.47\n",
       "2015-07-27  42.27   966.00  54.69  34.58\n",
       "2015-07-28  43.38   990.00  56.03  35.27\n",
       "2015-07-29  45.54   990.00  58.05  36.24\n",
       "2015-07-30  45.31   996.00  59.58  36.05\n",
       "2015-07-31  44.30  1038.00  58.00  35.32\n",
       "2015-08-03  43.69  1116.00  57.92  34.22\n",
       "2015-08-04  44.50  1272.00  59.00  33.93\n",
       "2015-08-05  51.92  1218.00  60.17  35.59\n",
       "2015-08-06  51.20  1254.00  55.34  33.91\n",
       "2015-08-07  52.08  1188.00  52.25  33.29\n",
       "2015-08-10  53.48  1068.00  51.17  34.16\n",
       "2015-08-11  51.44   846.00  48.79  32.78\n",
       "2015-08-12  51.88   839.04  50.86  33.10\n",
       "...           ...      ...    ...    ...\n",
       "2016-04-20  61.72   324.00  32.65  24.16\n",
       "2016-04-21  61.94   300.00  33.87  24.21\n",
       "2016-04-22  61.54   312.00  33.34  24.33\n",
       "2016-04-25  60.39   306.60  31.18  23.94\n",
       "2016-04-26  61.24   317.40  33.00  24.33\n",
       "2016-04-27  62.03   306.00  33.31  24.79\n",
       "2016-04-28  57.02   306.06  32.24  24.18\n",
       "2016-04-29  55.84   303.00  30.32  23.82\n",
       "2016-05-02  54.85   300.06  29.55  23.53\n",
       "2016-05-03  52.85   271.20  26.45  22.74\n",
       "2016-05-04  51.78   276.00  23.65  22.47\n",
       "2016-05-05  51.96   279.00  21.67  22.09\n",
       "2016-05-06  51.80   279.00  21.84  22.13\n",
       "2016-05-09  50.60   277.08  22.51  21.64\n",
       "2016-05-10  51.27   276.00  17.82  21.40\n",
       "2016-05-11  50.74   294.00  18.69  21.62\n",
       "2016-05-12  49.09   270.00  18.92  21.17\n",
       "2016-05-13  48.56   190.20  19.60  20.98\n",
       "2016-05-16  49.07   210.00  20.06  21.28\n",
       "2016-05-17  48.51   216.00  20.50  21.11\n",
       "2016-05-18  48.71   210.00  20.00  21.20\n",
       "2016-05-19  47.09   216.00  20.37  20.93\n",
       "2016-05-20  48.02   192.00  21.94  21.49\n",
       "2016-05-23  49.04   198.00  24.05  21.82\n",
       "2016-05-24  50.46   204.00  23.74  22.06\n",
       "2016-05-25  50.56   202.80  24.07  22.09\n",
       "2016-05-26  49.73   186.00  23.73  21.97\n",
       "2016-05-27  49.90   198.00  22.26  21.96\n",
       "2016-05-31  49.65   180.00  22.39  22.01\n",
       "2016-06-01  50.07   177.00  21.41  22.10\n",
       "\n",
       "[232 rows x 4 columns]"
      ]
     },
     "execution_count": 78,
     "metadata": {},
     "output_type": "execute_result"
    }
   ],
   "source": [
    "solar_df"
   ]
  },
  {
   "cell_type": "markdown",
   "metadata": {},
   "source": [
    "<h4>Let's calculate returns (the 1 day percent change)</h4>"
   ]
  },
  {
   "cell_type": "code",
   "execution_count": 79,
   "metadata": {
    "collapsed": false
   },
   "outputs": [
    {
     "name": "stdout",
     "output_type": "stream",
     "text": [
      "                FSLR      RGSE      SCTY       TAN\n",
      "Date                                              \n",
      "2015-07-01       NaN       NaN       NaN       NaN\n",
      "2015-07-02 -0.018897  0.063830 -0.002481 -0.007467\n",
      "2015-07-06 -0.021696 -0.160000 -0.009948 -0.056550\n",
      "2015-07-07  0.021045 -0.023810  0.028213 -0.007424\n",
      "2015-07-08 -0.041002 -0.134146 -0.032513 -0.067313\n",
      "2015-07-09  0.008782  0.028169  0.009713  0.046332\n",
      "2015-07-10  0.008706  0.075342  0.019623  0.035765\n",
      "2015-07-13  0.044969  0.038217  0.007358  0.024116\n",
      "2015-07-14 -0.004347 -0.073620  0.016295  0.013112\n",
      "2015-07-15 -0.028815 -0.019868 -0.031699 -0.021130\n",
      "2015-07-16  0.006069  0.006757  0.004949  0.012142\n",
      "2015-07-17 -0.018097  0.006711 -0.012311 -0.000800\n",
      "2015-07-20 -0.015245 -0.053333  0.069415  0.004803\n",
      "2015-07-21  0.004621  0.049296  0.007710 -0.015932\n",
      "2015-07-22 -0.022539  0.033557 -0.014947 -0.011873\n",
      "2015-07-23  0.005647 -0.025974 -0.030527 -0.020208\n",
      "2015-07-24  0.005381  0.046667  0.017701 -0.011427\n",
      "2015-07-27 -0.016290  0.025478  0.001282 -0.025092\n",
      "2015-07-28  0.026260  0.024845  0.024502  0.019954\n",
      "2015-07-29  0.049793  0.000000  0.036052  0.027502\n",
      "2015-07-30 -0.005051  0.006061  0.026357 -0.005243\n",
      "2015-07-31 -0.022291  0.042169 -0.026519 -0.020250\n",
      "2015-08-03 -0.013770  0.075145 -0.001379 -0.031144\n",
      "2015-08-04  0.018540  0.139785  0.018646 -0.008475\n",
      "2015-08-05  0.166742 -0.042453  0.019831  0.048924\n",
      "2015-08-06 -0.013867  0.029557 -0.080273 -0.047204\n",
      "2015-08-07  0.017187 -0.052632 -0.055837 -0.018284\n",
      "2015-08-10  0.026882 -0.101010 -0.020670  0.026134\n",
      "2015-08-11 -0.038145 -0.207865 -0.046512 -0.040398\n",
      "2015-08-12  0.008554 -0.008227  0.042427  0.009762\n",
      "...              ...       ...       ...       ...\n",
      "2016-04-20  0.019828  0.038262  0.078269  0.018979\n",
      "2016-04-21  0.003564 -0.074074  0.037366  0.002070\n",
      "2016-04-22 -0.006458  0.040000 -0.015648  0.004957\n",
      "2016-04-25 -0.018687 -0.017308 -0.064787 -0.016030\n",
      "2016-04-26  0.014075  0.035225  0.058371  0.016291\n",
      "2016-04-27  0.012900 -0.035917  0.009394  0.018907\n",
      "2016-04-28 -0.080767  0.000196 -0.032122 -0.024607\n",
      "2016-04-29 -0.020694 -0.009998 -0.059553 -0.014888\n",
      "2016-05-02 -0.017729 -0.009703 -0.025396 -0.012175\n",
      "2016-05-03 -0.036463 -0.096181 -0.104907 -0.033574\n",
      "2016-05-04 -0.020246  0.017699 -0.105860 -0.011873\n",
      "2016-05-05  0.003476  0.010870 -0.083721 -0.016911\n",
      "2016-05-06 -0.003079  0.000000  0.007845  0.001811\n",
      "2016-05-09 -0.023166 -0.006882  0.030678 -0.022142\n",
      "2016-05-10  0.013241 -0.003898 -0.208352 -0.011091\n",
      "2016-05-11 -0.010337  0.065217  0.048822  0.010280\n",
      "2016-05-12 -0.032519 -0.081633  0.012306 -0.020814\n",
      "2016-05-13 -0.010796 -0.295556  0.035941 -0.008975\n",
      "2016-05-16  0.010502  0.104101  0.023469  0.014299\n",
      "2016-05-17 -0.011412  0.028571  0.021934 -0.007989\n",
      "2016-05-18  0.004123 -0.027778 -0.024390  0.004263\n",
      "2016-05-19 -0.033258  0.028571  0.018500 -0.012736\n",
      "2016-05-20  0.019749 -0.111111  0.077074  0.026756\n",
      "2016-05-23  0.021241  0.031250  0.096171  0.015356\n",
      "2016-05-24  0.028956  0.030303 -0.012890  0.010999\n",
      "2016-05-25  0.001982 -0.005882  0.013901  0.001360\n",
      "2016-05-26 -0.016416 -0.082840 -0.014125 -0.005432\n",
      "2016-05-27  0.003418  0.064516 -0.061947 -0.000455\n",
      "2016-05-31 -0.005010 -0.090909  0.005840  0.002277\n",
      "2016-06-01  0.008459 -0.016667 -0.043770  0.004089\n",
      "\n",
      "[232 rows x 4 columns]\n"
     ]
    }
   ],
   "source": [
    "rets = solar_df.pct_change()\n",
    "print(rets)"
   ]
  },
  {
   "cell_type": "markdown",
   "metadata": {},
   "source": [
    "<h4>Let's visualize the relationship between each stock and the ETF</h4>"
   ]
  },
  {
   "cell_type": "code",
   "execution_count": 80,
   "metadata": {
    "collapsed": false
   },
   "outputs": [
    {
     "data": {
      "text/plain": [
       "<matplotlib.collections.PathCollection at 0x113864240>"
      ]
     },
     "execution_count": 80,
     "metadata": {},
     "output_type": "execute_result"
    },
    {
     "data": {
      "image/png": "[encoded data removed]",
      "text/plain": [
       "<matplotlib.figure.Figure at 0x110577278>"
      ]
     },
     "metadata": {},
     "output_type": "display_data"
    }
   ],
   "source": [
    "import matplotlib.pyplot as plt\n",
    "plt.scatter(rets.FSLR,rets.TAN)"
   ]
  },
  {
   "cell_type": "code",
   "execution_count": 81,
   "metadata": {
    "collapsed": false
   },
   "outputs": [
    {
     "data": {
      "text/plain": [
       "<matplotlib.collections.PathCollection at 0x112f29eb8>"
      ]
     },
     "execution_count": 81,
     "metadata": {},
     "output_type": "execute_result"
    },
    {
     "data": {
      "image/png": "[encoded data removed]",
      "text/plain": [
       "<matplotlib.figure.Figure at 0x112f5b0b8>"
      ]
     },
     "metadata": {},
     "output_type": "display_data"
    }
   ],
   "source": [
    "plt.scatter(rets.RGSE,rets.TAN)"
   ]
  },
  {
   "cell_type": "code",
   "execution_count": 82,
   "metadata": {
    "collapsed": false
   },
   "outputs": [
    {
     "data": {
      "text/plain": [
       "<matplotlib.collections.PathCollection at 0x11317e518>"
      ]
     },
     "execution_count": 82,
     "metadata": {},
     "output_type": "execute_result"
    },
    {
     "data": {
      "image/png": "[encoded data removed]",
      "text/plain": [
       "<matplotlib.figure.Figure at 0x112f3eb70>"
      ]
     },
     "metadata": {},
     "output_type": "display_data"
    }
   ],
   "source": [
    "plt.scatter(rets.SCTY,rets.TAN)"
   ]
  },
  {
   "cell_type": "markdown",
   "metadata": {},
   "source": [
    "<h4>The correlation matrix</h4>"
   ]
  },
  {
   "cell_type": "code",
   "execution_count": 83,
   "metadata": {
    "collapsed": false
   },
   "outputs": [
    {
     "name": "stdout",
     "output_type": "stream",
     "text": [
      "          FSLR      RGSE      SCTY       TAN\n",
      "FSLR  1.000000  0.249923  0.272612  0.670114\n",
      "RGSE  0.249923  1.000000  0.236604  0.389566\n",
      "SCTY  0.272612  0.236604  1.000000  0.559854\n",
      "TAN   0.670114  0.389566  0.559854  1.000000\n"
     ]
    }
   ],
   "source": [
    "solar_corr = rets.corr()\n",
    "print(solar_corr)"
   ]
  },
  {
   "cell_type": "markdown",
   "metadata": {},
   "source": [
    "<h3>Basic risk analysis</h3>\n",
    "<h4>We'll plot the mean and std or returns for each ticker to get a sense of the risk return profile</h4>"
   ]
  },
  {
   "cell_type": "code",
   "execution_count": 84,
   "metadata": {
    "collapsed": false
   },
   "outputs": [
    {
     "data": {
      "image/png": "[encoded data removed]",
      "text/plain": [
       "<matplotlib.figure.Figure at 0x112f34240>"
      ]
     },
     "metadata": {},
     "output_type": "display_data"
    }
   ],
   "source": [
    "plt.scatter(rets.mean(), rets.std())\n",
    "plt.xlabel('Expected returns')\n",
    "plt.ylabel('Standard deviations')\n",
    "for label, x, y in zip(rets.columns, rets.mean(), rets.std()):\n",
    "    plt.annotate(\n",
    "        label, \n",
    "        xy = (x, y), xytext = (20, -20),\n",
    "        textcoords = 'offset points', ha = 'right', va = 'bottom',\n",
    "        bbox = dict(boxstyle = 'round,pad=0.5', fc = 'yellow', alpha = 0.5),\n",
    "        arrowprops = dict(arrowstyle = '->', connectionstyle = 'arc3,rad=0'))\n",
    "plt.show()\n"
   ]
  },
  {
   "cell_type": "markdown",
   "metadata": {},
   "source": [
    "<h2>Regressions</h2>\n",
    "http://statsmodels.sourceforge.net/"
   ]
  },
  {
   "cell_type": "markdown",
   "metadata": {},
   "source": [
    "<h3>Steps for regression</h3>\n",
    "<li>Construct y (dependent variable series)\n",
    "<li>Construct matrix (dataframe) of X (independent variable series)\n",
    "<li>Add intercept\n",
    "<li>Model the regression\n",
    "<li>Get the results\n",
    "<h3>The statsmodels library contains various regression packages. We'll use the OLS (Ordinary Least Squares) model"
   ]
  },
  {
   "cell_type": "code",
   "execution_count": 85,
   "metadata": {
    "collapsed": false
   },
   "outputs": [
    {
     "name": "stdout",
     "output_type": "stream",
     "text": [
      "                            OLS Regression Results                            \n",
      "==============================================================================\n",
      "Dep. Variable:                    TAN   R-squared:                       0.851\n",
      "Model:                            OLS   Adj. R-squared:                  0.849\n",
      "Method:                 Least Squares   F-statistic:                     435.1\n",
      "Date:                Thu, 31 Aug 2017   Prob (F-statistic):           4.89e-94\n",
      "Time:                        17:59:54   Log-Likelihood:                -464.33\n",
      "No. Observations:                 232   AIC:                             936.7\n",
      "Df Residuals:                     228   BIC:                             950.4\n",
      "Df Model:                           3                                         \n",
      "Covariance Type:            nonrobust                                         \n",
      "==============================================================================\n",
      "                 coef    std err          t      P>|t|      [95.0% Conf. Int.]\n",
      "------------------------------------------------------------------------------\n",
      "const         15.2915      1.180     12.956      0.000        12.966    17.617\n",
      "FSLR           0.0087      0.017      0.521      0.603        -0.024     0.041\n",
      "RGSE           0.0073      0.001      9.684      0.000         0.006     0.009\n",
      "SCTY           0.2156      0.015     14.177      0.000         0.186     0.246\n",
      "==============================================================================\n",
      "Omnibus:                        4.153   Durbin-Watson:                   0.109\n",
      "Prob(Omnibus):                  0.125   Jarque-Bera (JB):                3.754\n",
      "Skew:                           0.239   Prob(JB):                        0.153\n",
      "Kurtosis:                       2.600   Cond. No.                     5.88e+03\n",
      "==============================================================================\n",
      "\n",
      "Warnings:\n",
      "[1] Standard Errors assume that the covariance matrix of the errors is correctly specified.\n",
      "[2] The condition number is large, 5.88e+03. This might indicate that there are\n",
      "strong multicollinearity or other numerical problems.\n"
     ]
    }
   ],
   "source": [
    "import numpy as np\n",
    "import statsmodels.api as sm\n",
    "X=solar_df[['FSLR','RGSE','SCTY']]\n",
    "X = sm.add_constant(X)\n",
    "y=solar_df['TAN']\n",
    "model = sm.OLS(y,X,missing='drop')\n",
    "result = model.fit()\n",
    "print(result.summary())"
   ]
  },
  {
   "cell_type": "markdown",
   "metadata": {},
   "source": [
    "<h4>Finally plot the fitted line with the actual y values"
   ]
  },
  {
   "cell_type": "code",
   "execution_count": 86,
   "metadata": {
    "collapsed": false
   },
   "outputs": [
    {
     "data": {
      "text/plain": [
       "[<matplotlib.lines.Line2D at 0x115f92978>]"
      ]
     },
     "execution_count": 86,
     "metadata": {},
     "output_type": "execute_result"
    },
    {
     "data": {
      "image/png": "[encoded data removed]",
      "text/plain": [
       "<matplotlib.figure.Figure at 0x11315f240>"
      ]
     },
     "metadata": {},
     "output_type": "display_data"
    }
   ],
   "source": [
    "fig, ax = plt.subplots(figsize=(8,6))\n",
    "ax.plot(y)\n",
    "ax.plot(result.fittedvalues)"
   ]
  },
  {
   "cell_type": "code",
   "execution_count": null,
   "metadata": {
    "collapsed": true
   },
   "outputs": [],
   "source": []
  }
 ],
 "metadata": {
  "anaconda-cloud": {},
  "kernelspec": {
   "display_name": "Python [conda env:tflearn]",
   "language": "python",
   "name": "conda-env-tflearn-py"
  },
  "language_info": {
   "codemirror_mode": {
    "name": "ipython",
    "version": 3
   },
   "file_extension": ".py",
   "mimetype": "text/x-python",
   "name": "python",
   "nbconvert_exporter": "python",
   "pygments_lexer": "ipython3",
   "version": "3.5.2"
  }
 },
 "nbformat": 4,
 "nbformat_minor": 2
}
