{
 "cells": [
  {
   "cell_type": "markdown",
   "metadata": {},
   "source": [
    "# Concatenating multiple feature extraction methods\n",
    "\n",
    "目前对这个部分没有很理解. 暂时保留代码. 找时间细细研究为什么要这么做.\n",
    "\n",
    "[origin_url](http://scikit-learn.org/stable/auto_examples/plot_feature_stacker.html#sphx-glr-auto-examples-plot-feature-stacker-py)"
   ]
  },
  {
   "cell_type": "code",
   "execution_count": 2,
   "metadata": {
    "ExecuteTime": {
     "end_time": "2017-09-20T12:54:49.052690Z",
     "start_time": "2017-09-20T12:54:47.883683Z"
    }
   },
   "outputs": [],
   "source": [
    "# %load ../common_import.py\n",
    "import numpy as np\n",
    "import pandas as pd\n",
    "%matplotlib inline\n",
    "import matplotlib.pyplot as plt\n",
    "from sklearn import datasets"
   ]
  },
  {
   "cell_type": "code",
   "execution_count": 3,
   "metadata": {
    "ExecuteTime": {
     "end_time": "2017-09-20T12:56:26.043261Z",
     "start_time": "2017-09-20T12:56:26.038867Z"
    }
   },
   "outputs": [],
   "source": [
    "from sklearn.pipeline import Pipeline, FeatureUnion\n",
    "from sklearn.model_selection import GridSearchCV\n",
    "from sklearn.svm import SVC\n",
    "from sklearn.decomposition import PCA\n",
    "from sklearn.feature_selection import SelectKBest"
   ]
  },
  {
   "cell_type": "code",
   "execution_count": 6,
   "metadata": {
    "ExecuteTime": {
     "end_time": "2017-09-20T13:02:12.678676Z",
     "start_time": "2017-09-20T13:02:12.672153Z"
    }
   },
   "outputs": [],
   "source": [
    "SVC?"
   ]
  },
  {
   "cell_type": "code",
   "execution_count": 14,
   "metadata": {
    "ExecuteTime": {
     "end_time": "2017-09-20T13:13:43.854424Z",
     "start_time": "2017-09-20T13:13:43.848182Z"
    }
   },
   "outputs": [],
   "source": [
    "iris = datasets.load_iris()\n",
    "# X = pd.DataFrame(iris.data)\n",
    "# y = pd.DataFrame(iris.target)\n",
    "X, y = iris.data, iris.target"
   ]
  },
  {
   "cell_type": "code",
   "execution_count": 15,
   "metadata": {
    "ExecuteTime": {
     "end_time": "2017-09-20T13:13:44.935762Z",
     "start_time": "2017-09-20T13:13:44.919760Z"
    }
   },
   "outputs": [],
   "source": [
    "# This dataset is way too high-dimensional. Better do PCA:\n",
    "pca = PCA(n_components=2)\n",
    "\n",
    "# Maybe some original features where good, too?\n",
    "selection = SelectKBest(k=1)\n",
    "\n",
    "# Build estimator from PCA and Univariate selection:\n",
    "combined_features = FeatureUnion([(\"pca\", pca), (\"univ_select\", selection)])\n",
    "\n",
    "# Use combined features to transform dataset:\n",
    "X_features = combined_features.fit(X, y).transform(X)\n",
    "\n",
    "svm =SVC(kernel=\"linear\")\n",
    "\n",
    "# Do grid search over k, n_components and C:\n",
    "pipeline = Pipeline([(\"features\", combined_features), (\"svm\", svm)])\n",
    "\n",
    "param_grid = dict(features__pca__n_components=[1,2,3],\n",
    "                 features__univ_select__k=[1, 2],\n",
    "                 svm__C=[0.1, 1, 10])"
   ]
  },
  {
   "cell_type": "code",
   "execution_count": 16,
   "metadata": {
    "ExecuteTime": {
     "end_time": "2017-09-20T13:13:46.533086Z",
     "start_time": "2017-09-20T13:13:46.210365Z"
    }
   },
   "outputs": [
    {
     "name": "stdout",
     "output_type": "stream",
     "text": [
      "Fitting 3 folds for each of 18 candidates, totalling 54 fits\n",
      "[CV] features__univ_select__k=1, svm__C=0.1, features__pca__n_components=1 \n",
      "[CV]  features__univ_select__k=1, svm__C=0.1, features__pca__n_components=1, score=0.9607843137254902, total=   0.0s\n",
      "[CV] features__univ_select__k=1, svm__C=0.1, features__pca__n_components=1 \n",
      "[CV]  features__univ_select__k=1, svm__C=0.1, features__pca__n_components=1, score=0.9019607843137255, total=   0.0s\n",
      "[CV] features__univ_select__k=1, svm__C=0.1, features__pca__n_components=1 \n",
      "[CV]  features__univ_select__k=1, svm__C=0.1, features__pca__n_components=1, score=0.9791666666666666, total=   0.0s\n",
      "[CV] features__univ_select__k=1, svm__C=1, features__pca__n_components=1 \n",
      "[CV]  features__univ_select__k=1, svm__C=1, features__pca__n_components=1, score=0.9411764705882353, total=   0.0s\n",
      "[CV] features__univ_select__k=1, svm__C=1, features__pca__n_components=1 \n",
      "[CV]  features__univ_select__k=1, svm__C=1, features__pca__n_components=1, score=0.9215686274509803, total=   0.0s\n",
      "[CV] features__univ_select__k=1, svm__C=1, features__pca__n_components=1 \n",
      "[CV]  features__univ_select__k=1, svm__C=1, features__pca__n_components=1, score=0.9791666666666666, total=   0.0s\n",
      "[CV] features__univ_select__k=1, svm__C=10, features__pca__n_components=1 \n",
      "[CV]  features__univ_select__k=1, svm__C=10, features__pca__n_components=1, score=0.9607843137254902, total=   0.0s\n",
      "[CV] features__univ_select__k=1, svm__C=10, features__pca__n_components=1 \n",
      "[CV]  features__univ_select__k=1, svm__C=10, features__pca__n_components=1, score=0.9215686274509803, total=   0.0s\n",
      "[CV] features__univ_select__k=1, svm__C=10, features__pca__n_components=1 \n",
      "[CV]  features__univ_select__k=1, svm__C=10, features__pca__n_components=1, score=0.9791666666666666, total=   0.0s\n",
      "[CV] features__univ_select__k=2, svm__C=0.1, features__pca__n_components=1 \n",
      "[CV]  features__univ_select__k=2, svm__C=0.1, features__pca__n_components=1, score=0.9607843137254902, total=   0.0s\n",
      "[CV] features__univ_select__k=2, svm__C=0.1, features__pca__n_components=1 \n",
      "[CV]  features__univ_select__k=2, svm__C=0.1, features__pca__n_components=1, score=0.9215686274509803, total=   0.0s\n",
      "[CV] features__univ_select__k=2, svm__C=0.1, features__pca__n_components=1 \n",
      "[CV]  features__univ_select__k=2, svm__C=0.1, features__pca__n_components=1, score=0.9791666666666666, total=   0.0s\n",
      "[CV] features__univ_select__k=2, svm__C=1, features__pca__n_components=1 \n",
      "[CV]  features__univ_select__k=2, svm__C=1, features__pca__n_components=1, score=0.9607843137254902, total=   0.0s\n",
      "[CV] features__univ_select__k=2, svm__C=1, features__pca__n_components=1 \n",
      "[CV]  features__univ_select__k=2, svm__C=1, features__pca__n_components=1, score=0.9215686274509803, total=   0.0s\n",
      "[CV] features__univ_select__k=2, svm__C=1, features__pca__n_components=1 \n",
      "[CV]  features__univ_select__k=2, svm__C=1, features__pca__n_components=1, score=1.0, total=   0.0s\n",
      "[CV] features__univ_select__k=2, svm__C=10, features__pca__n_components=1 \n",
      "[CV]  features__univ_select__k=2, svm__C=10, features__pca__n_components=1, score=0.9803921568627451, total=   0.0s\n",
      "[CV] features__univ_select__k=2, svm__C=10, features__pca__n_components=1 \n",
      "[CV]  features__univ_select__k=2, svm__C=10, features__pca__n_components=1, score=0.9019607843137255, total=   0.0s\n",
      "[CV] features__univ_select__k=2, svm__C=10, features__pca__n_components=1 \n",
      "[CV]  features__univ_select__k=2, svm__C=10, features__pca__n_components=1, score=1.0, total=   0.0s\n",
      "[CV] features__univ_select__k=1, svm__C=0.1, features__pca__n_components=2 \n",
      "[CV]  features__univ_select__k=1, svm__C=0.1, features__pca__n_components=2, score=0.9607843137254902, total=   0.0s\n",
      "[CV] features__univ_select__k=1, svm__C=0.1, features__pca__n_components=2 \n",
      "[CV]  features__univ_select__k=1, svm__C=0.1, features__pca__n_components=2, score=0.9019607843137255, total=   0.0s\n",
      "[CV] features__univ_select__k=1, svm__C=0.1, features__pca__n_components=2 \n",
      "[CV]  features__univ_select__k=1, svm__C=0.1, features__pca__n_components=2, score=0.9791666666666666, total=   0.0s\n",
      "[CV] features__univ_select__k=1, svm__C=1, features__pca__n_components=2 \n",
      "[CV]  features__univ_select__k=1, svm__C=1, features__pca__n_components=2, score=0.9803921568627451, total=   0.0s\n",
      "[CV] features__univ_select__k=1, svm__C=1, features__pca__n_components=2 \n",
      "[CV]  features__univ_select__k=1, svm__C=1, features__pca__n_components=2, score=0.9411764705882353, total=   0.0s\n",
      "[CV] features__univ_select__k=1, svm__C=1, features__pca__n_components=2 \n",
      "[CV]  features__univ_select__k=1, svm__C=1, features__pca__n_components=2, score=0.9791666666666666, total=   0.0s\n",
      "[CV] features__univ_select__k=1, svm__C=10, features__pca__n_components=2 \n",
      "[CV]  features__univ_select__k=1, svm__C=10, features__pca__n_components=2, score=0.9803921568627451, total=   0.0s\n",
      "[CV] features__univ_select__k=1, svm__C=10, features__pca__n_components=2 \n",
      "[CV]  features__univ_select__k=1, svm__C=10, features__pca__n_components=2, score=0.9411764705882353, total=   0.0s\n",
      "[CV] features__univ_select__k=1, svm__C=10, features__pca__n_components=2 \n",
      "[CV]  features__univ_select__k=1, svm__C=10, features__pca__n_components=2, score=0.9791666666666666, total=   0.0s\n",
      "[CV] features__univ_select__k=2, svm__C=0.1, features__pca__n_components=2 \n",
      "[CV]  features__univ_select__k=2, svm__C=0.1, features__pca__n_components=2, score=0.9803921568627451, total=   0.0s\n",
      "[CV] features__univ_select__k=2, svm__C=0.1, features__pca__n_components=2 \n",
      "[CV]  features__univ_select__k=2, svm__C=0.1, features__pca__n_components=2, score=0.9411764705882353, total=   0.0s\n",
      "[CV] features__univ_select__k=2, svm__C=0.1, features__pca__n_components=2 \n",
      "[CV]  features__univ_select__k=2, svm__C=0.1, features__pca__n_components=2, score=0.9791666666666666, total=   0.0s\n",
      "[CV] features__univ_select__k=2, svm__C=1, features__pca__n_components=2 \n",
      "[CV]  features__univ_select__k=2, svm__C=1, features__pca__n_components=2, score=1.0, total=   0.0s\n",
      "[CV] features__univ_select__k=2, svm__C=1, features__pca__n_components=2 \n",
      "[CV]  features__univ_select__k=2, svm__C=1, features__pca__n_components=2, score=0.9607843137254902, total=   0.0s\n",
      "[CV] features__univ_select__k=2, svm__C=1, features__pca__n_components=2 \n",
      "[CV]  features__univ_select__k=2, svm__C=1, features__pca__n_components=2, score=0.9791666666666666, total=   0.0s\n",
      "[CV] features__univ_select__k=2, svm__C=10, features__pca__n_components=2 \n",
      "[CV]  features__univ_select__k=2, svm__C=10, features__pca__n_components=2, score=0.9803921568627451, total=   0.0s\n",
      "[CV] features__univ_select__k=2, svm__C=10, features__pca__n_components=2 \n",
      "[CV]  features__univ_select__k=2, svm__C=10, features__pca__n_components=2, score=0.9215686274509803, total=   0.0s\n",
      "[CV] features__univ_select__k=2, svm__C=10, features__pca__n_components=2 \n",
      "[CV]  features__univ_select__k=2, svm__C=10, features__pca__n_components=2, score=1.0, total=   0.0s\n",
      "[CV] features__univ_select__k=1, svm__C=0.1, features__pca__n_components=3 \n",
      "[CV]  features__univ_select__k=1, svm__C=0.1, features__pca__n_components=3, score=0.9803921568627451, total=   0.0s"
     ]
    },
    {
     "name": "stderr",
     "output_type": "stream",
     "text": [
      "[Parallel(n_jobs=1)]: Done   1 out of   1 | elapsed:    0.0s remaining:    0.0s\n",
      "[Parallel(n_jobs=1)]: Done   2 out of   2 | elapsed:    0.0s remaining:    0.0s\n",
      "[Parallel(n_jobs=1)]: Done   3 out of   3 | elapsed:    0.0s remaining:    0.0s\n",
      "[Parallel(n_jobs=1)]: Done   4 out of   4 | elapsed:    0.0s remaining:    0.0s\n",
      "[Parallel(n_jobs=1)]: Done   5 out of   5 | elapsed:    0.0s remaining:    0.0s\n",
      "[Parallel(n_jobs=1)]: Done   6 out of   6 | elapsed:    0.0s remaining:    0.0s\n",
      "[Parallel(n_jobs=1)]: Done   7 out of   7 | elapsed:    0.0s remaining:    0.0s\n",
      "[Parallel(n_jobs=1)]: Done   8 out of   8 | elapsed:    0.1s remaining:    0.0s\n",
      "[Parallel(n_jobs=1)]: Done   9 out of   9 | elapsed:    0.1s remaining:    0.0s\n"
     ]
    },
    {
     "name": "stdout",
     "output_type": "stream",
     "text": [
      "\n",
      "[CV] features__univ_select__k=1, svm__C=0.1, features__pca__n_components=3 \n",
      "[CV]  features__univ_select__k=1, svm__C=0.1, features__pca__n_components=3, score=0.9411764705882353, total=   0.0s\n",
      "[CV] features__univ_select__k=1, svm__C=0.1, features__pca__n_components=3 \n",
      "[CV]  features__univ_select__k=1, svm__C=0.1, features__pca__n_components=3, score=0.9791666666666666, total=   0.0s\n",
      "[CV] features__univ_select__k=1, svm__C=1, features__pca__n_components=3 \n",
      "[CV]  features__univ_select__k=1, svm__C=1, features__pca__n_components=3, score=1.0, total=   0.0s\n",
      "[CV] features__univ_select__k=1, svm__C=1, features__pca__n_components=3 \n",
      "[CV]  features__univ_select__k=1, svm__C=1, features__pca__n_components=3, score=0.9411764705882353, total=   0.0s\n",
      "[CV] features__univ_select__k=1, svm__C=1, features__pca__n_components=3 \n",
      "[CV]  features__univ_select__k=1, svm__C=1, features__pca__n_components=3, score=0.9791666666666666, total=   0.0s\n",
      "[CV] features__univ_select__k=1, svm__C=10, features__pca__n_components=3 \n",
      "[CV]  features__univ_select__k=1, svm__C=10, features__pca__n_components=3, score=1.0, total=   0.0s\n",
      "[CV] features__univ_select__k=1, svm__C=10, features__pca__n_components=3 \n",
      "[CV]  features__univ_select__k=1, svm__C=10, features__pca__n_components=3, score=0.9215686274509803, total=   0.0s\n",
      "[CV] features__univ_select__k=1, svm__C=10, features__pca__n_components=3 \n",
      "[CV]  features__univ_select__k=1, svm__C=10, features__pca__n_components=3, score=1.0, total=   0.0s\n",
      "[CV] features__univ_select__k=2, svm__C=0.1, features__pca__n_components=3 \n",
      "[CV]  features__univ_select__k=2, svm__C=0.1, features__pca__n_components=3, score=0.9803921568627451, total=   0.0s\n",
      "[CV] features__univ_select__k=2, svm__C=0.1, features__pca__n_components=3 \n",
      "[CV]  features__univ_select__k=2, svm__C=0.1, features__pca__n_components=3, score=0.9411764705882353, total=   0.0s\n",
      "[CV] features__univ_select__k=2, svm__C=0.1, features__pca__n_components=3 \n",
      "[CV]  features__univ_select__k=2, svm__C=0.1, features__pca__n_components=3, score=0.9791666666666666, total=   0.0s\n",
      "[CV] features__univ_select__k=2, svm__C=1, features__pca__n_components=3 \n",
      "[CV]  features__univ_select__k=2, svm__C=1, features__pca__n_components=3, score=1.0, total=   0.0s\n",
      "[CV] features__univ_select__k=2, svm__C=1, features__pca__n_components=3 \n",
      "[CV]  features__univ_select__k=2, svm__C=1, features__pca__n_components=3, score=0.9607843137254902, total=   0.0s\n",
      "[CV] features__univ_select__k=2, svm__C=1, features__pca__n_components=3 \n",
      "[CV]  features__univ_select__k=2, svm__C=1, features__pca__n_components=3, score=0.9791666666666666, total=   0.0s\n",
      "[CV] features__univ_select__k=2, svm__C=10, features__pca__n_components=3 \n",
      "[CV]  features__univ_select__k=2, svm__C=10, features__pca__n_components=3, score=1.0, total=   0.0s\n",
      "[CV] features__univ_select__k=2, svm__C=10, features__pca__n_components=3 \n",
      "[CV]  features__univ_select__k=2, svm__C=10, features__pca__n_components=3, score=0.9215686274509803, total=   0.0s\n",
      "[CV] features__univ_select__k=2, svm__C=10, features__pca__n_components=3 \n",
      "[CV]  features__univ_select__k=2, svm__C=10, features__pca__n_components=3, score=1.0, total=   0.0s\n",
      "Pipeline(memory=None,\n",
      "     steps=[('features', FeatureUnion(n_jobs=1,\n",
      "       transformer_list=[('pca', PCA(copy=True, iterated_power='auto', n_components=2, random_state=None,\n",
      "  svd_solver='auto', tol=0.0, whiten=False)), ('univ_select', SelectKBest(k=2, score_func=<function f_classif at 0x11348c1e0>))],\n",
      "       transformer_we...,\n",
      "  max_iter=-1, probability=False, random_state=None, shrinking=True,\n",
      "  tol=0.001, verbose=False))])\n"
     ]
    },
    {
     "name": "stderr",
     "output_type": "stream",
     "text": [
      "[Parallel(n_jobs=1)]: Done  54 out of  54 | elapsed:    0.3s finished\n"
     ]
    }
   ],
   "source": [
    "grid_search = GridSearchCV(pipeline, param_grid=param_grid, verbose=10)\n",
    "grid_search.fit(X, y)\n",
    "print(grid_search.best_estimator_)"
   ]
  },
  {
   "cell_type": "code",
   "execution_count": null,
   "metadata": {},
   "outputs": [],
   "source": []
  }
 ],
 "metadata": {
  "anaconda-cloud": {},
  "kernelspec": {
   "display_name": "Python [conda env:tflearn]",
   "language": "python",
   "name": "conda-env-tflearn-py"
  },
  "language_info": {
   "codemirror_mode": {
    "name": "ipython",
    "version": 3
   },
   "file_extension": ".py",
   "mimetype": "text/x-python",
   "name": "python",
   "nbconvert_exporter": "python",
   "pygments_lexer": "ipython3",
   "version": "3.5.2"
  },
  "varInspector": {
   "cols": {
    "lenName": 16,
    "lenType": 16,
    "lenVar": 40
   },
   "kernels_config": {
    "python": {
     "delete_cmd_postfix": "",
     "delete_cmd_prefix": "del ",
     "library": "var_list.py",
     "varRefreshCmd": "print(var_dic_list())"
    },
    "r": {
     "delete_cmd_postfix": ") ",
     "delete_cmd_prefix": "rm(",
     "library": "var_list.r",
     "varRefreshCmd": "cat(var_dic_list()) "
    }
   },
   "oldHeight": 275,
   "position": {
    "height": "40px",
    "left": "468px",
    "right": "20px",
    "top": "120px",
    "width": "350px"
   },
   "types_to_exclude": [
    "module",
    "function",
    "builtin_function_or_method",
    "instance",
    "_Feature"
   ],
   "varInspector_section_display": "none",
   "window_display": true
  }
 },
 "nbformat": 4,
 "nbformat_minor": 2
}
