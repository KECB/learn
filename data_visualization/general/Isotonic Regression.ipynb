{
 "cells": [
  {
   "cell_type": "markdown",
   "metadata": {},
   "source": [
    "# Isotonic Regression\n",
    "\n",
    "[origin_url](http://scikit-learn.org/stable/auto_examples/plot_isotonic_regression.html#sphx-glr-auto-examples-plot-isotonic-regression-py)\n",
    "\n",
    "\n",
    "问题及思考:\n",
    "\n",
    "* 1. Isonotic Regression的公式?\n",
    "* 2. 添加 Logistic Regression (或其他回归)到统一图内, 对比显示. "
   ]
  },
  {
   "cell_type": "code",
   "execution_count": 2,
   "metadata": {
    "ExecuteTime": {
     "end_time": "2017-09-20T13:34:52.132814Z",
     "start_time": "2017-09-20T13:34:50.922813Z"
    }
   },
   "outputs": [],
   "source": [
    "# %load ../common_import.py\n",
    "import numpy as np\n",
    "import pandas as pd\n",
    "%matplotlib inline\n",
    "import matplotlib.pyplot as plt\n",
    "from sklearn import datasets"
   ]
  },
  {
   "cell_type": "code",
   "execution_count": 5,
   "metadata": {
    "ExecuteTime": {
     "end_time": "2017-09-20T13:36:36.104288Z",
     "start_time": "2017-09-20T13:36:36.100439Z"
    }
   },
   "outputs": [],
   "source": [
    "from matplotlib.collections import LineCollection\n",
    "\n",
    "from sklearn.linear_model import LinearRegression\n",
    "from sklearn.isotonic import IsotonicRegression\n",
    "from sklearn.utils import check_random_state"
   ]
  },
  {
   "cell_type": "code",
   "execution_count": 7,
   "metadata": {
    "ExecuteTime": {
     "end_time": "2017-09-20T13:37:52.517611Z",
     "start_time": "2017-09-20T13:37:52.513255Z"
    }
   },
   "outputs": [],
   "source": [
    "n = 100\n",
    "x = np.arange(n)\n",
    "rs = check_random_state(0)\n",
    "y = rs.randint(-50, 50, size=(n,)) + 50. * np.log(1 + np.arange(n))"
   ]
  },
  {
   "cell_type": "code",
   "execution_count": 8,
   "metadata": {
    "ExecuteTime": {
     "end_time": "2017-09-20T13:53:14.408970Z",
     "start_time": "2017-09-20T13:53:14.369718Z"
    }
   },
   "outputs": [
    {
     "data": {
      "text/plain": [
       "LinearRegression(copy_X=True, fit_intercept=True, n_jobs=1, normalize=False)"
      ]
     },
     "execution_count": 8,
     "metadata": {},
     "output_type": "execute_result"
    }
   ],
   "source": [
    "# Fit IsotonicRegression and LinearRegression models\n",
    "ir = IsotonicRegression()\n",
    "y_ = ir.fit_transform(x, y)\n",
    "lr = LinearRegression()\n",
    "lr.fit(x[:, np.newaxis], y) # x needs to be 2d for LinearRegression"
   ]
  },
  {
   "cell_type": "code",
   "execution_count": 15,
   "metadata": {
    "ExecuteTime": {
     "end_time": "2017-09-20T13:57:58.857740Z",
     "start_time": "2017-09-20T13:57:58.682495Z"
    }
   },
   "outputs": [
    {
     "data": {
      "image/png": "[encoded data removed]",
      "text/plain": [
       "<matplotlib.figure.Figure at 0x1186eab70>"
      ]
     },
     "metadata": {},
     "output_type": "display_data"
    }
   ],
   "source": [
    "# Plot result\n",
    "segments = [[[i, y[i]], [i, y_[i]]] for i in range(n)]\n",
    "lc = LineCollection(segments=segments, zorder=0)\n",
    "lc.set_array(np.ones(len(y)))\n",
    "lc.set_linewidths(0.5 * np.ones(n))\n",
    "\n",
    "fig = plt.figure()\n",
    "plt.plot(x, y, 'r.', markersize=12)\n",
    "plt.plot(x, y_, 'g.-', markersize=12)\n",
    "plt.plot(x, lr.predict(x[:, np.newaxis]), 'b-')\n",
    "# plt.gca().add_collection(lc)\n",
    "plt.legend(('Data', 'Isotonic Fit', 'Linear Fit'), loc='lower right')\n",
    "plt.title('Isotonic regression')\n",
    "plt.show()"
   ]
  },
  {
   "cell_type": "code",
   "execution_count": null,
   "metadata": {},
   "outputs": [],
   "source": []
  }
 ],
 "metadata": {
  "anaconda-cloud": {},
  "kernelspec": {
   "display_name": "Python [conda env:tflearn]",
   "language": "python",
   "name": "conda-env-tflearn-py"
  },
  "language_info": {
   "codemirror_mode": {
    "name": "ipython",
    "version": 3
   },
   "file_extension": ".py",
   "mimetype": "text/x-python",
   "name": "python",
   "nbconvert_exporter": "python",
   "pygments_lexer": "ipython3",
   "version": "3.5.2"
  },
  "varInspector": {
   "cols": {
    "lenName": 16,
    "lenType": 16,
    "lenVar": 40
   },
   "kernels_config": {
    "python": {
     "delete_cmd_postfix": "",
     "delete_cmd_prefix": "del ",
     "library": "var_list.py",
     "varRefreshCmd": "print(var_dic_list())"
    },
    "r": {
     "delete_cmd_postfix": ") ",
     "delete_cmd_prefix": "rm(",
     "library": "var_list.r",
     "varRefreshCmd": "cat(var_dic_list()) "
    }
   },
   "types_to_exclude": [
    "module",
    "function",
    "builtin_function_or_method",
    "instance",
    "_Feature"
   ],
   "window_display": false
  }
 },
 "nbformat": 4,
 "nbformat_minor": 2
}
