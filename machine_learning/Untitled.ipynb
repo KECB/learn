{
 "cells": [
  {
   "cell_type": "code",
   "execution_count": 1,
   "metadata": {
    "ExecuteTime": {
     "end_time": "2017-10-09T03:12:17.759307Z",
     "start_time": "2017-10-09T03:12:17.754715Z"
    }
   },
   "outputs": [],
   "source": [
    "from node import *"
   ]
  },
  {
   "cell_type": "code",
   "execution_count": 2,
   "metadata": {
    "ExecuteTime": {
     "end_time": "2017-10-09T02:21:14.488247Z",
     "start_time": "2017-10-09T02:21:14.479130Z"
    }
   },
   "outputs": [
    {
     "name": "stdout",
     "output_type": "stream",
     "text": [
      "4 + 5 + 10 = 19 (according to miniflow)\n"
     ]
    }
   ],
   "source": [
    "x, y, z = Input(), Input(), Input()\n",
    "\n",
    "f = Add(x, y, z)\n",
    "\n",
    "feed_dict = {x: 4, y: 5, z: 10}\n",
    "\n",
    "graph = topological_sort(feed_dict)\n",
    "output = forward_pass(f, graph)\n",
    "\n",
    "# should output 19\n",
    "print(\"{} + {} + {} = {} (according to miniflow)\".format(feed_dict[x], feed_dict[y], feed_dict[z], output))\n"
   ]
  },
  {
   "cell_type": "code",
   "execution_count": 3,
   "metadata": {
    "ExecuteTime": {
     "end_time": "2017-10-08T10:44:39.754186Z",
     "start_time": "2017-10-08T10:44:39.744933Z"
    }
   },
   "outputs": [
    {
     "name": "stdout",
     "output_type": "stream",
     "text": [
      "4 * 5 * 10 = 200 (according to miniflow)\n"
     ]
    }
   ],
   "source": [
    "x, y, z = Input(), Input(), Input()\n",
    "\n",
    "f = Mul(x, y, z)\n",
    "\n",
    "feed_dict = {x: 4, y: 5, z: 10}\n",
    "\n",
    "graph = topological_sort(feed_dict)\n",
    "output = forward_pass(f, graph)\n",
    "\n",
    "# should output 19\n",
    "print(\"{} * {} * {} = {} (according to miniflow)\".format(feed_dict[x], feed_dict[y], feed_dict[z], output))\n"
   ]
  },
  {
   "cell_type": "code",
   "execution_count": 4,
   "metadata": {
    "ExecuteTime": {
     "end_time": "2017-10-09T03:13:11.737722Z",
     "start_time": "2017-10-09T03:13:11.728319Z"
    }
   },
   "outputs": [
    {
     "name": "stdout",
     "output_type": "stream",
     "text": [
      "12.7\n"
     ]
    }
   ],
   "source": [
    "inputs, weights, bias = Input(), Input(), Input()\n",
    "\n",
    "f = Linear(inputs, weights, bias)\n",
    "\n",
    "feed_dict = {\n",
    "    inputs: [6, 14, 3],\n",
    "    weights: [0.5, 0.25, 1.4],\n",
    "    bias: 2\n",
    "}\n",
    "\n",
    "graph = topological_sort(feed_dict)\n",
    "output = forward_pass(f, graph)\n",
    "\n",
    "print(output) # should be 12.7 with this example"
   ]
  },
  {
   "cell_type": "code",
   "execution_count": 1,
   "metadata": {
    "ExecuteTime": {
     "end_time": "2017-10-09T03:39:14.749494Z",
     "start_time": "2017-10-09T03:39:14.453769Z"
    }
   },
   "outputs": [
    {
     "name": "stdout",
     "output_type": "stream",
     "text": [
      "[[-9.  4.]\n",
      " [-9.  4.]]\n"
     ]
    }
   ],
   "source": [
    "import numpy as np\n",
    "from node import *\n",
    "\n",
    "X, W, b = Input(), Input(), Input()\n",
    "\n",
    "f = Linear(X, W, b)\n",
    "\n",
    "X_ = np.array([[-1., -2.], [-1, -2]])\n",
    "W_ = np.array([[2., -3], [2., -3]])\n",
    "b_ = np.array([-3., -5])\n",
    "\n",
    "feed_dict = {X: X_, W: W_, b: b_}\n",
    "\n",
    "graph = topological_sort(feed_dict)\n",
    "output = forward_pass(f, graph)\n",
    "\n",
    "\"\"\"\n",
    "Output should be:\n",
    "[[-9., 4.],\n",
    "[-9., 4.]]\n",
    "\"\"\"\n",
    "print(output)"
   ]
  },
  {
   "cell_type": "code",
   "execution_count": 1,
   "metadata": {
    "ExecuteTime": {
     "end_time": "2017-10-09T06:05:58.081972Z",
     "start_time": "2017-10-09T06:05:57.799599Z"
    }
   },
   "outputs": [
    {
     "name": "stdout",
     "output_type": "stream",
     "text": [
      "<class 'numpy.ndarray'>\n",
      "[[  1.23394576e-04   9.82013790e-01]\n",
      " [  1.23394576e-04   9.82013790e-01]]\n"
     ]
    }
   ],
   "source": [
    "\"\"\"\n",
    "This network feeds the output of a linear transform\n",
    "to the sigmoid function.\n",
    "\n",
    "Finish implementing the Sigmoid class in miniflow.py!\n",
    "\n",
    "Feel free to play around with this network, too!\n",
    "\"\"\"\n",
    "\n",
    "import numpy as np\n",
    "from node import *\n",
    "\n",
    "X, W, b = Input(), Input(), Input()\n",
    "\n",
    "f = Linear(X, W, b)\n",
    "g = Sigmoid(f)\n",
    "\n",
    "X_ = np.array([[-1., -2.], [-1, -2]])\n",
    "W_ = np.array([[2., -3], [2., -3]])\n",
    "b_ = np.array([-3., -5])\n",
    "\n",
    "feed_dict = {X: X_, W: W_, b: b_}\n",
    "\n",
    "graph = topological_sort(feed_dict)\n",
    "output = forward_pass(g, graph)\n",
    "\n",
    "\"\"\"\n",
    "Output should be:\n",
    "[[  1.23394576e-04   9.82013790e-01]\n",
    " [  1.23394576e-04   9.82013790e-01]]\n",
    "\"\"\"\n",
    "print(output)"
   ]
  },
  {
   "cell_type": "code",
   "execution_count": 1,
   "metadata": {
    "ExecuteTime": {
     "end_time": "2017-10-09T07:37:09.228180Z",
     "start_time": "2017-10-09T07:37:08.954352Z"
    }
   },
   "outputs": [
    {
     "name": "stdout",
     "output_type": "stream",
     "text": [
      "[[-3.5]\n",
      " [-3. ]\n",
      " [-7. ]]\n",
      "23.4166666667\n"
     ]
    }
   ],
   "source": [
    "\"\"\"\n",
    "Test your MSE method with this script!\n",
    "\n",
    "No changes necessary, but feel free to play\n",
    "with this script to test your network.\n",
    "\"\"\"\n",
    "\n",
    "import numpy as np\n",
    "from node import *\n",
    "\n",
    "y, a = Input(), Input()\n",
    "cost = MSE(y, a)\n",
    "\n",
    "y_ = np.array([1, 2, 3])\n",
    "a_ = np.array([4.5, 5, 10])\n",
    "\n",
    "feed_dict = {y: y_, a: a_}\n",
    "graph = topological_sort(feed_dict)\n",
    "# forward pass\n",
    "forward_pass(graph)\n",
    "\n",
    "\"\"\"\n",
    "Expected output\n",
    "\n",
    "23.4166666667\n",
    "\"\"\"\n",
    "print(cost.value)"
   ]
  },
  {
   "cell_type": "code",
   "execution_count": 17,
   "metadata": {
    "ExecuteTime": {
     "end_time": "2017-10-09T08:37:36.348901Z",
     "start_time": "2017-10-09T08:37:36.321990Z"
    }
   },
   "outputs": [
    {
     "name": "stdout",
     "output_type": "stream",
     "text": [
      "EPOCH 0: Cost = 31292831.000, x = 11188.000\n",
      "EPOCH 1: Cost = 20027410.040, x = 8950.400\n",
      "EPOCH 2: Cost = 12817540.626, x = 7160.320\n",
      "EPOCH 3: Cost = 8203224.200, x = 5728.256\n",
      "EPOCH 4: Cost = 5250061.688, x = 4582.605\n",
      "EPOCH 5: Cost = 3360037.680, x = 3666.084\n",
      "EPOCH 6: Cost = 2150422.316, x = 2932.867\n",
      "EPOCH 7: Cost = 1376268.482, x = 2346.294\n",
      "EPOCH 8: Cost = 880810.028, x = 1877.035\n",
      "EPOCH 9: Cost = 563716.618, x = 1501.628\n",
      "EPOCH 10: Cost = 360776.836, x = 1201.302\n",
      "EPOCH 11: Cost = 230895.375, x = 961.042\n",
      "EPOCH 12: Cost = 147771.240, x = 768.834\n",
      "EPOCH 13: Cost = 94571.794, x = 615.067\n",
      "EPOCH 14: Cost = 60524.148, x = 492.053\n",
      "EPOCH 15: Cost = 38733.655, x = 393.643\n",
      "EPOCH 16: Cost = 24787.739, x = 314.914\n",
      "EPOCH 17: Cost = 15862.353, x = 251.931\n",
      "EPOCH 18: Cost = 10150.106, x = 201.545\n",
      "EPOCH 19: Cost = 6494.268, x = 161.236\n",
      "EPOCH 20: Cost = 4154.531, x = 128.989\n",
      "EPOCH 21: Cost = 2657.100, x = 103.191\n",
      "EPOCH 22: Cost = 1698.744, x = 82.553\n",
      "EPOCH 23: Cost = 1085.396, x = 66.042\n",
      "EPOCH 24: Cost = 692.854, x = 52.834\n",
      "EPOCH 25: Cost = 441.626, x = 42.267\n",
      "EPOCH 26: Cost = 280.841, x = 33.814\n",
      "EPOCH 27: Cost = 177.938, x = 27.051\n",
      "EPOCH 28: Cost = 112.080, x = 21.641\n",
      "EPOCH 29: Cost = 69.931, x = 17.313\n",
      "EPOCH 30: Cost = 42.956, x = 13.850\n",
      "EPOCH 31: Cost = 25.692, x = 11.080\n",
      "EPOCH 32: Cost = 14.643, x = 8.864\n",
      "EPOCH 33: Cost = 7.571, x = 7.091\n",
      "EPOCH 34: Cost = 3.046, x = 5.673\n",
      "EPOCH 35: Cost = 0.149, x = 4.538\n",
      "EPOCH 36: Cost = -1.704, x = 3.631\n",
      "EPOCH 37: Cost = -2.891, x = 2.905\n",
      "EPOCH 38: Cost = -3.650, x = 2.324\n",
      "EPOCH 39: Cost = -4.136, x = 1.859\n",
      "EPOCH 40: Cost = -4.447, x = 1.487\n",
      "EPOCH 41: Cost = -4.646, x = 1.190\n",
      "EPOCH 42: Cost = -4.774, x = 0.952\n",
      "EPOCH 43: Cost = -4.855, x = 0.761\n",
      "EPOCH 44: Cost = -4.907, x = 0.609\n",
      "EPOCH 45: Cost = -4.941, x = 0.487\n",
      "EPOCH 46: Cost = -4.962, x = 0.390\n",
      "EPOCH 47: Cost = -4.976, x = 0.312\n",
      "EPOCH 48: Cost = -4.984, x = 0.250\n",
      "EPOCH 49: Cost = -4.990, x = 0.200\n",
      "EPOCH 50: Cost = -4.994, x = 0.160\n",
      "EPOCH 51: Cost = -4.996, x = 0.128\n",
      "EPOCH 52: Cost = -4.997, x = 0.102\n",
      "EPOCH 53: Cost = -4.998, x = 0.082\n",
      "EPOCH 54: Cost = -4.999, x = 0.065\n",
      "EPOCH 55: Cost = -4.999, x = 0.052\n",
      "EPOCH 56: Cost = -5.000, x = 0.042\n",
      "EPOCH 57: Cost = -5.000, x = 0.033\n",
      "EPOCH 58: Cost = -5.000, x = 0.027\n",
      "EPOCH 59: Cost = -5.000, x = 0.021\n",
      "EPOCH 60: Cost = -5.000, x = 0.017\n",
      "EPOCH 61: Cost = -5.000, x = 0.014\n",
      "EPOCH 62: Cost = -5.000, x = 0.011\n",
      "EPOCH 63: Cost = -5.000, x = 0.009\n",
      "EPOCH 64: Cost = -5.000, x = 0.007\n",
      "EPOCH 65: Cost = -5.000, x = 0.006\n",
      "EPOCH 66: Cost = -5.000, x = 0.004\n",
      "EPOCH 67: Cost = -5.000, x = 0.004\n",
      "EPOCH 68: Cost = -5.000, x = 0.003\n",
      "EPOCH 69: Cost = -5.000, x = 0.002\n",
      "EPOCH 70: Cost = -5.000, x = 0.002\n",
      "EPOCH 71: Cost = -5.000, x = 0.001\n",
      "EPOCH 72: Cost = -5.000, x = 0.001\n",
      "EPOCH 73: Cost = -5.000, x = 0.001\n",
      "EPOCH 74: Cost = -5.000, x = 0.001\n",
      "EPOCH 75: Cost = -5.000, x = 0.001\n",
      "EPOCH 76: Cost = -5.000, x = 0.000\n",
      "EPOCH 77: Cost = -5.000, x = 0.000\n",
      "EPOCH 78: Cost = -5.000, x = 0.000\n",
      "EPOCH 79: Cost = -5.000, x = 0.000\n",
      "EPOCH 80: Cost = -5.000, x = 0.000\n",
      "EPOCH 81: Cost = -5.000, x = 0.000\n",
      "EPOCH 82: Cost = -5.000, x = 0.000\n",
      "EPOCH 83: Cost = -5.000, x = 0.000\n",
      "EPOCH 84: Cost = -5.000, x = 0.000\n",
      "EPOCH 85: Cost = -5.000, x = 0.000\n",
      "EPOCH 86: Cost = -5.000, x = 0.000\n",
      "EPOCH 87: Cost = -5.000, x = 0.000\n",
      "EPOCH 88: Cost = -5.000, x = 0.000\n",
      "EPOCH 89: Cost = -5.000, x = 0.000\n",
      "EPOCH 90: Cost = -5.000, x = 0.000\n",
      "EPOCH 91: Cost = -5.000, x = 0.000\n",
      "EPOCH 92: Cost = -5.000, x = 0.000\n",
      "EPOCH 93: Cost = -5.000, x = 0.000\n",
      "EPOCH 94: Cost = -5.000, x = 0.000\n",
      "EPOCH 95: Cost = -5.000, x = 0.000\n",
      "EPOCH 96: Cost = -5.000, x = 0.000\n",
      "EPOCH 97: Cost = -5.000, x = 0.000\n",
      "EPOCH 98: Cost = -5.000, x = 0.000\n",
      "EPOCH 99: Cost = -5.000, x = 0.000\n",
      "EPOCH 100: Cost = -5.000, x = 0.000\n"
     ]
    }
   ],
   "source": [
    "import random\n",
    "\n",
    "def gradient_descent_update(x, gradx, learning_rate):\n",
    "    \n",
    "    return x - learning_rate * gradx\n",
    "\n",
    "def f(x):\n",
    "    \"\"\"\n",
    "    Quadratic function.\n",
    "\n",
    "    It's easy to see the minimum value of the function\n",
    "    is 5 when is x=0.\n",
    "    \"\"\"\n",
    "    return x ** 2 - 5\n",
    "\n",
    "def df(x):\n",
    "    \"\"\"\n",
    "    Derivative of `f` with respect to `x`.\n",
    "    \"\"\"\n",
    "    return 2 * x\n",
    "\n",
    "x = random.randint(1, 10000)\n",
    "\n",
    "learning_rate = 0.1\n",
    "epochs = 100\n",
    "for i in range(epochs+1):\n",
    "    cost = f(x)\n",
    "    gradx = df(x)\n",
    "    print(\"EPOCH {}: Cost = {:.3f}, x = {:.3f}\".format(i, cost, gradx))\n",
    "    x = gradient_descent_update(x, gradx, learning_rate)"
   ]
  },
  {
   "cell_type": "code",
   "execution_count": null,
   "metadata": {},
   "outputs": [],
   "source": []
  }
 ],
 "metadata": {
  "anaconda-cloud": {},
  "kernelspec": {
   "display_name": "Python [conda env:tflearn]",
   "language": "python",
   "name": "conda-env-tflearn-py"
  },
  "language_info": {
   "codemirror_mode": {
    "name": "ipython",
    "version": 3
   },
   "file_extension": ".py",
   "mimetype": "text/x-python",
   "name": "python",
   "nbconvert_exporter": "python",
   "pygments_lexer": "ipython3",
   "version": "3.5.2"
  },
  "varInspector": {
   "cols": {
    "lenName": 16,
    "lenType": 16,
    "lenVar": 40
   },
   "kernels_config": {
    "python": {
     "delete_cmd_postfix": "",
     "delete_cmd_prefix": "del ",
     "library": "var_list.py",
     "varRefreshCmd": "print(var_dic_list())"
    },
    "r": {
     "delete_cmd_postfix": ") ",
     "delete_cmd_prefix": "rm(",
     "library": "var_list.r",
     "varRefreshCmd": "cat(var_dic_list()) "
    }
   },
   "oldHeight": 224,
   "position": {
    "height": "40px",
    "left": "969px",
    "right": "20px",
    "top": "66px",
    "width": "387px"
   },
   "types_to_exclude": [
    "module",
    "function",
    "builtin_function_or_method",
    "instance",
    "_Feature"
   ],
   "varInspector_section_display": "none",
   "window_display": true
  }
 },
 "nbformat": 4,
 "nbformat_minor": 2
}
