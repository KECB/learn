{
 "cells": [
  {
   "cell_type": "code",
   "execution_count": 68,
   "metadata": {
    "collapsed": true
   },
   "outputs": [],
   "source": [
    "import requests\n",
    "from bs4 import BeautifulSoup\n",
    "import json\n",
    "import pandas"
   ]
  },
  {
   "cell_type": "code",
   "execution_count": 92,
   "metadata": {
    "collapsed": true
   },
   "outputs": [],
   "source": [
    "def read_file(file_name):\n",
    "    \"\"\"\n",
    "    读取输入内容\n",
    "    :param file_name:\n",
    "    :return:\n",
    "    \"\"\"\n",
    "    train_dict = {}\n",
    "    with open(file_name) as f:\n",
    "        current_id = ''\n",
    "        for line in f:\n",
    "            if '#id' in line.split(':'):\n",
    "                if current_id != line.split(':')[1]:\n",
    "                    current_id = line.split(':')[1].strip()\n",
    "                    train_dict[current_id] = {'name':'', 'org':'', 'search_results_page':'',\n",
    "                                             'homepage':'', 'pic':'', 'email':'', 'gender':'',\n",
    "                                             'position':'', 'location':''}\n",
    "            if '#name' in line.split(':'):\n",
    "                train_dict[current_id]['name'] = line.split(':')[1].strip()\n",
    "            if '#org' in line.split(':'):\n",
    "                train_dict[current_id]['org'] = line.split(':')[1].strip()\n",
    "            if '#search_results_page' in line.split(':'):\n",
    "                train_dict[current_id]['search_results_page'] = line.split('#search_results_page:')[1].strip()\n",
    "\n",
    "    return train_dict"
   ]
  },
  {
   "cell_type": "code",
   "execution_count": 93,
   "metadata": {
    "collapsed": false
   },
   "outputs": [],
   "source": [
    "result = read_file('small_training.txt')"
   ]
  },
  {
   "cell_type": "code",
   "execution_count": 94,
   "metadata": {
    "collapsed": false
   },
   "outputs": [
    {
     "data": {
      "text/plain": [
       "{'5616d8a645cedb3397b889d7': {'email': '',\n",
       "  'gender': '',\n",
       "  'homepage': '',\n",
       "  'location': '',\n",
       "  'name': 'Chen Zhang',\n",
       "  'org': 'Peking University(Peking University),Beijing,China',\n",
       "  'pic': '',\n",
       "  'position': '',\n",
       "  'search_results_page': 'http://ifang.ml:8081/5616d8a645cedb3397b889d7.html'}}"
      ]
     },
     "execution_count": 94,
     "metadata": {},
     "output_type": "execute_result"
    }
   ],
   "source": [
    "result"
   ]
  },
  {
   "cell_type": "code",
   "execution_count": 115,
   "metadata": {
    "collapsed": true
   },
   "outputs": [],
   "source": [
    "def scrap_from_google(words, file_name):\n",
    "    \"\"\"\n",
    "    根据给定词语, 缓存 google 第一页搜索结果至指定文件\n",
    "    https://www.google.com.hk/search?q=[words]\n",
    "    :param words: 给定的关键词用空格分开\n",
    "    :param file_name: 要存储的文件名字\n",
    "    :return\n",
    "    \"\"\"\n",
    "    url = 'https://www.google.com.hk/search?q=' + words\n",
    "    response = requests.get(url)\n",
    "    with open('results/'+file_name, 'w') as f:\n",
    "        f.write(response.text)"
   ]
  },
  {
   "cell_type": "code",
   "execution_count": 116,
   "metadata": {
    "collapsed": false
   },
   "outputs": [],
   "source": [
    "for key in result:\n",
    "    words = result[key]['name'] + ' ' + result[key]['org']\n",
    "    file_name = result[key]['search_results_page'].split('/')[-1]\n",
    "    scrap_from_google(words, file_name)"
   ]
  },
  {
   "cell_type": "code",
   "execution_count": 139,
   "metadata": {
    "collapsed": true
   },
   "outputs": [],
   "source": [
    "def extract_url(file_name):\n",
    "    \"\"\"\n",
    "    将 google 搜索结果页的所有 url 解析出来\n",
    "    :param file_name:\n",
    "    :return:\n",
    "    \"\"\"\n",
    "    with open('results/'+file_name) as f:\n",
    "        result_page = BeautifulSoup(''.join(f.readlines()), 'lxml')\n",
    "        results = result_page.find('div',{'id':'ires'})\n",
    "        for url in results.find_all('a'):\n",
    "            print(url.get('href'))\n",
    "            print('-----')\n"
   ]
  },
  {
   "cell_type": "code",
   "execution_count": 140,
   "metadata": {
    "collapsed": false
   },
   "outputs": [
    {
     "name": "stdout",
     "output_type": "stream",
     "text": [
      "/url?q=http://mgv.pku.edu.cn/%3Fcatalog%3Denpiintro%26pname%3DChen_Zhang&sa=U&ved=0ahUKEwi6sMyoxoPWAhUBy7wKHUwqC8cQFggTMAA&usg=AFQjCNE7gGwLNpzPUCQ7nlZu52z8Twzc1g\n",
      "-----\n",
      "/url?q=http://webcache.googleusercontent.com/search%3Fq%3Dcache:8y6bZdlEK_cJ:http://mgv.pku.edu.cn/%3Fcatalog%253Denpiintro%2526pname%253DChen_Zhang%252BChen%2BZhang%2BPeking%2BUniversity(Peking%2BUniversity),Beijing,China%26newwindow%3D1%26hl%3Dzh-TW%26ct%3Dclnk&sa=U&ved=0ahUKEwi6sMyoxoPWAhUBy7wKHUwqC8cQIAgWMAA&usg=AFQjCNFER_skpHEsZNpOkMnGoGCqmeC8WQ\n",
      "-----\n",
      "/search?newwindow=1&ie=UTF-8&q=related:mgv.pku.edu.cn/%3Fcatalog%3Denpiintro%26pname%3DChen_Zhang+Chen+Zhang+Peking+University(Peking+University),Beijing,China&tbo=1&sa=X&ved=0ahUKEwi6sMyoxoPWAhUBy7wKHUwqC8cQHwgXMAA\n",
      "-----\n",
      "/url?q=https://www.researchgate.net/profile/Chen_Zhang135&sa=U&ved=0ahUKEwi6sMyoxoPWAhUBy7wKHUwqC8cQFggZMAE&usg=AFQjCNEke6qWGbWhIMvhNlgQNrmEEJa7Ww\n",
      "-----\n",
      "/url?q=https://www.researchgate.net/profile/Chen_Zhang82&sa=U&ved=0ahUKEwi6sMyoxoPWAhUBy7wKHUwqC8cQFggbMAI&usg=AFQjCNFBtMmT4aDlq75VBc7jxlAxDdlBeQ\n",
      "-----\n",
      "/url?q=https://www.researchgate.net/profile/Qing_Chen9&sa=U&ved=0ahUKEwi6sMyoxoPWAhUBy7wKHUwqC8cQFggdMAM&usg=AFQjCNFQxOvpQNmQBbl6vzf-mYofiY6meQ\n",
      "-----\n",
      "/search?newwindow=1&ie=UTF-8&q=related:https://www.researchgate.net/profile/Qing_Chen9+Chen+Zhang+Peking+University(Peking+University),Beijing,China&tbo=1&sa=X&ved=0ahUKEwi6sMyoxoPWAhUBy7wKHUwqC8cQHwggMAM\n",
      "-----\n",
      "/url?q=https://www.facebook.com/public/Chen-Zhang/school/Peking-University-103771729661827/&sa=U&ved=0ahUKEwi6sMyoxoPWAhUBy7wKHUwqC8cQFggiMAQ&usg=AFQjCNGb6PwZVjG5FTWtE8JyjNpE4n9WKA\n",
      "-----\n",
      "/url?q=http://webcache.googleusercontent.com/search%3Fq%3Dcache:qf-l6EjuT5UJ:https://www.facebook.com/public/Chen-Zhang/school/Peking-University-103771729661827/%252BChen%2BZhang%2BPeking%2BUniversity(Peking%2BUniversity),Beijing,China%26newwindow%3D1%26hl%3Dzh-TW%26ct%3Dclnk&sa=U&ved=0ahUKEwi6sMyoxoPWAhUBy7wKHUwqC8cQIAglMAQ&usg=AFQjCNEiSdPpaFTMoqyS50ocEzLSJdI_wQ\n",
      "-----\n",
      "/url?q=https://www.linkedin.com/in/en00007128&sa=U&ved=0ahUKEwi6sMyoxoPWAhUBy7wKHUwqC8cQFggnMAU&usg=AFQjCNH73Qu1UsQfn4eBznzkjGnJU17VLQ\n",
      "-----\n",
      "/search?newwindow=1&ie=UTF-8&q=related:https://www.linkedin.com/in/en00007128+Chen+Zhang+Peking+University(Peking+University),Beijing,China&tbo=1&sa=X&ved=0ahUKEwi6sMyoxoPWAhUBy7wKHUwqC8cQHwgqMAU\n",
      "-----\n",
      "/url?q=http://www.cms.zju.edu.cn/conference/YCMC/PRIZES.html&sa=U&ved=0ahUKEwi6sMyoxoPWAhUBy7wKHUwqC8cQFggsMAY&usg=AFQjCNGmJmQUBcW9P-qRJZHolpRNq3Ke0g\n",
      "-----\n",
      "/url?q=http://webcache.googleusercontent.com/search%3Fq%3Dcache:DlVK8vY75xwJ:http://www.cms.zju.edu.cn/conference/YCMC/PRIZES.html%252BChen%2BZhang%2BPeking%2BUniversity(Peking%2BUniversity),Beijing,China%26newwindow%3D1%26hl%3Dzh-TW%26ct%3Dclnk&sa=U&ved=0ahUKEwi6sMyoxoPWAhUBy7wKHUwqC8cQIAgvMAY&usg=AFQjCNERHDytJq9iZDgZzS7kxlMP8ge-Ww\n",
      "-----\n",
      "/search?newwindow=1&ie=UTF-8&q=related:www.cms.zju.edu.cn/conference/YCMC/PRIZES.html+Chen+Zhang+Peking+University(Peking+University),Beijing,China&tbo=1&sa=X&ved=0ahUKEwi6sMyoxoPWAhUBy7wKHUwqC8cQHwgwMAY\n",
      "-----\n",
      "/url?q=https://en.wikipedia.org/wiki/Peking_University&sa=U&ved=0ahUKEwi6sMyoxoPWAhUBy7wKHUwqC8cQFggyMAc&usg=AFQjCNFXS_FzK2CKtqYFJozJ8GdcqCQHFA\n",
      "-----\n",
      "/url?q=http://webcache.googleusercontent.com/search%3Fq%3Dcache:OKz-ybZdVSoJ:https://en.wikipedia.org/wiki/Peking_University%252BChen%2BZhang%2BPeking%2BUniversity(Peking%2BUniversity),Beijing,China%26newwindow%3D1%26hl%3Dzh-TW%26ct%3Dclnk&sa=U&ved=0ahUKEwi6sMyoxoPWAhUBy7wKHUwqC8cQIAg1MAc&usg=AFQjCNFgoCo--IuvFNxbazkTJSCk5WWfhg\n",
      "-----\n",
      "/search?newwindow=1&ie=UTF-8&q=related:https://en.wikipedia.org/wiki/Peking_University+Chen+Zhang+Peking+University(Peking+University),Beijing,China&tbo=1&sa=X&ved=0ahUKEwi6sMyoxoPWAhUBy7wKHUwqC8cQHwg2MAc\n",
      "-----\n",
      "/url?q=https://zfin.org/ZDB-LAB-110923-2&sa=U&ved=0ahUKEwi6sMyoxoPWAhUBy7wKHUwqC8cQFgg4MAg&usg=AFQjCNE82q4VOMIomw5KzybQZE_4w04VIg\n",
      "-----\n",
      "/url?q=http://webcache.googleusercontent.com/search%3Fq%3Dcache:iF1NBITQu3gJ:https://zfin.org/ZDB-LAB-110923-2%252BChen%2BZhang%2BPeking%2BUniversity(Peking%2BUniversity),Beijing,China%26newwindow%3D1%26hl%3Dzh-TW%26ct%3Dclnk&sa=U&ved=0ahUKEwi6sMyoxoPWAhUBy7wKHUwqC8cQIAg7MAg&usg=AFQjCNGR52BFvP0yheSqZwRvx5W4Tf6S3A\n",
      "-----\n",
      "/search?newwindow=1&ie=UTF-8&q=related:https://zfin.org/ZDB-LAB-110923-2+Chen+Zhang+Peking+University(Peking+University),Beijing,China&tbo=1&sa=X&ved=0ahUKEwi6sMyoxoPWAhUBy7wKHUwqC8cQHwg8MAg\n",
      "-----\n",
      "/url?q=http://pkuasc.fasic.org.au/scholars/&sa=U&ved=0ahUKEwi6sMyoxoPWAhUBy7wKHUwqC8cQFgg-MAk&usg=AFQjCNHVXBDyciOBvfFpFFqxQ48IhOVJFA\n",
      "-----\n",
      "/url?q=http://webcache.googleusercontent.com/search%3Fq%3Dcache:dz5PP7qKTkkJ:http://pkuasc.fasic.org.au/scholars/%252BChen%2BZhang%2BPeking%2BUniversity(Peking%2BUniversity),Beijing,China%26newwindow%3D1%26hl%3Dzh-TW%26ct%3Dclnk&sa=U&ved=0ahUKEwi6sMyoxoPWAhUBy7wKHUwqC8cQIAhBMAk&usg=AFQjCNFadhFSFmcvJEzzBde32qwTSHyERw\n",
      "-----\n",
      "/search?newwindow=1&ie=UTF-8&q=related:pkuasc.fasic.org.au/scholars/+Chen+Zhang+Peking+University(Peking+University),Beijing,China&tbo=1&sa=X&ved=0ahUKEwi6sMyoxoPWAhUBy7wKHUwqC8cQHwhCMAk\n",
      "-----\n"
     ]
    }
   ],
   "source": [
    "for key in result:\n",
    "    file_name = result[key]['search_results_page'].split('/')[-1]\n",
    "    extract_url(file_name)"
   ]
  },
  {
   "cell_type": "code",
   "execution_count": null,
   "metadata": {
    "collapsed": true
   },
   "outputs": [],
   "source": []
  }
 ],
 "metadata": {
  "kernelspec": {
   "display_name": "Python [conda env:tflearn]",
   "language": "python",
   "name": "conda-env-tflearn-py"
  },
  "language_info": {
   "codemirror_mode": {
    "name": "ipython",
    "version": 3
   },
   "file_extension": ".py",
   "mimetype": "text/x-python",
   "name": "python",
   "nbconvert_exporter": "python",
   "pygments_lexer": "ipython3",
   "version": "3.5.2"
  }
 },
 "nbformat": 4,
 "nbformat_minor": 1
}
